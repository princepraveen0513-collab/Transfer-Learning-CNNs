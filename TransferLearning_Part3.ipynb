{
  "nbformat": 4,
  "nbformat_minor": 0,
  "metadata": {
    "colab": {
      "provenance": [],
      "collapsed_sections": [
        "5Np8zxRHJtbF",
        "LU7BpCdYhct0",
        "ianDurBTitVi"
      ]
    },
    "kernelspec": {
      "name": "python3",
      "display_name": "Python 3"
    },
    "language_info": {
      "name": "python"
    }
  },
  "cells": [
    {
      "cell_type": "markdown",
      "source": [
        "# Assignment: Transfer Learning\n",
        "\n",
        "Transfer learning has become a powerful technique in deep learning, particularly in computer vision tasks, where training large models from scratch can be computationally expensive and require vast amounts of labeled data. The core idea of transfer learning is to leverage knowledge learned by a model on a large dataset, such as ImageNet, and apply it to a different but related task with limited data.\n",
        "In this project, we explore transfer learning using the ResNet-18 architecture pre-trained on ImageNet. By reusing the pre-trained model's learned features, we significantly reduce the training time and computational resources required to build an image classifier for a subset of the Food-101 dataset.\n",
        "\n",
        "### **Preparing the Food-101 Dataset for Transfer Learning**\n",
        "In this step, we will:\n",
        "1. **Select 15 random classes** from the Food-101 dataset.\n",
        "2. **Apply necessary preprocessing**:\n",
        "   - Resize images to **224x224** (required for ResNet).\n",
        "   - Normalize pixel values.\n",
        "   - Convert images to PyTorch tensors.\n",
        "3. **Create training and test DataLoaders** for efficient processing.\n",
        "4. **Log dataset details in Weights & Biases (W&B)** for tracking.\n",
        "5. **Visualize some sample images** from the dataset to verify correctness.\n",
        "\n",
        "By doing this, we ensure that the dataset is **properly formatted for ResNet-18 training** and **logged for reproducibility**.\n"
      ],
      "metadata": {
        "id": "J9UutLoKYdtF"
      }
    },
    {
      "cell_type": "code",
      "execution_count": null,
      "metadata": {
        "colab": {
          "base_uri": "https://localhost:8080/",
          "height": 618
        },
        "id": "-53Habh3UlnG",
        "outputId": "85eaf7c8-1e2f-4789-a72e-c1929b9eb3f1"
      },
      "outputs": [
        {
          "output_type": "stream",
          "name": "stdout",
          "text": [
            "Using device: cuda\n"
          ]
        },
        {
          "output_type": "stream",
          "name": "stderr",
          "text": [
            "\u001b[34m\u001b[1mwandb\u001b[0m: Using wandb-core as the SDK backend.  Please refer to https://wandb.me/wandb-core for more information.\n"
          ]
        },
        {
          "output_type": "display_data",
          "data": {
            "text/plain": [
              "<IPython.core.display.Javascript object>"
            ],
            "application/javascript": [
              "\n",
              "        window._wandbApiKey = new Promise((resolve, reject) => {\n",
              "            function loadScript(url) {\n",
              "            return new Promise(function(resolve, reject) {\n",
              "                let newScript = document.createElement(\"script\");\n",
              "                newScript.onerror = reject;\n",
              "                newScript.onload = resolve;\n",
              "                document.body.appendChild(newScript);\n",
              "                newScript.src = url;\n",
              "            });\n",
              "            }\n",
              "            loadScript(\"https://cdn.jsdelivr.net/npm/postmate/build/postmate.min.js\").then(() => {\n",
              "            const iframe = document.createElement('iframe')\n",
              "            iframe.style.cssText = \"width:0;height:0;border:none\"\n",
              "            document.body.appendChild(iframe)\n",
              "            const handshake = new Postmate({\n",
              "                container: iframe,\n",
              "                url: 'https://wandb.ai/authorize'\n",
              "            });\n",
              "            const timeout = setTimeout(() => reject(\"Couldn't auto authenticate\"), 5000)\n",
              "            handshake.then(function(child) {\n",
              "                child.on('authorize', data => {\n",
              "                    clearTimeout(timeout)\n",
              "                    resolve(data)\n",
              "                });\n",
              "            });\n",
              "            })\n",
              "        });\n",
              "    "
            ]
          },
          "metadata": {}
        },
        {
          "output_type": "stream",
          "name": "stderr",
          "text": [
            "\u001b[34m\u001b[1mwandb\u001b[0m: Logging into wandb.ai. (Learn how to deploy a W&B server locally: https://wandb.me/wandb-server)\n",
            "\u001b[34m\u001b[1mwandb\u001b[0m: You can find your API key in your browser here: https://wandb.ai/authorize\n",
            "wandb: Paste an API key from your profile and hit enter:"
          ]
        },
        {
          "name": "stdout",
          "output_type": "stream",
          "text": [
            " ··········\n"
          ]
        },
        {
          "output_type": "stream",
          "name": "stderr",
          "text": [
            "\u001b[34m\u001b[1mwandb\u001b[0m: \u001b[33mWARNING\u001b[0m If you're specifying your api key in code, ensure this code is not shared publicly.\n",
            "\u001b[34m\u001b[1mwandb\u001b[0m: \u001b[33mWARNING\u001b[0m Consider setting the WANDB_API_KEY environment variable, or running `wandb login` from the command line.\n",
            "\u001b[34m\u001b[1mwandb\u001b[0m: No netrc file found, creating one.\n",
            "\u001b[34m\u001b[1mwandb\u001b[0m: Appending key for api.wandb.ai to your netrc file: /root/.netrc\n",
            "\u001b[34m\u001b[1mwandb\u001b[0m: Currently logged in as: \u001b[33mdsarma\u001b[0m (\u001b[33musf-guardians\u001b[0m) to \u001b[32mhttps://api.wandb.ai\u001b[0m. Use \u001b[1m`wandb login --relogin`\u001b[0m to force relogin\n"
          ]
        },
        {
          "output_type": "display_data",
          "data": {
            "text/plain": [
              "<IPython.core.display.HTML object>"
            ],
            "text/html": [
              "Tracking run with wandb version 0.19.8"
            ]
          },
          "metadata": {}
        },
        {
          "output_type": "display_data",
          "data": {
            "text/plain": [
              "<IPython.core.display.HTML object>"
            ],
            "text/html": [
              "Run data is saved locally in <code>/content/wandb/run-20250321_180110-btlfaj2k</code>"
            ]
          },
          "metadata": {}
        },
        {
          "output_type": "display_data",
          "data": {
            "text/plain": [
              "<IPython.core.display.HTML object>"
            ],
            "text/html": [
              "Syncing run <strong><a href='https://wandb.ai/usf-guardians/GoTG_Assignment05_TransferLearning/runs/btlfaj2k' target=\"_blank\">light-tree-37</a></strong> to <a href='https://wandb.ai/usf-guardians/GoTG_Assignment05_TransferLearning' target=\"_blank\">Weights & Biases</a> (<a href='https://wandb.me/developer-guide' target=\"_blank\">docs</a>)<br>"
            ]
          },
          "metadata": {}
        },
        {
          "output_type": "display_data",
          "data": {
            "text/plain": [
              "<IPython.core.display.HTML object>"
            ],
            "text/html": [
              " View project at <a href='https://wandb.ai/usf-guardians/GoTG_Assignment05_TransferLearning' target=\"_blank\">https://wandb.ai/usf-guardians/GoTG_Assignment05_TransferLearning</a>"
            ]
          },
          "metadata": {}
        },
        {
          "output_type": "display_data",
          "data": {
            "text/plain": [
              "<IPython.core.display.HTML object>"
            ],
            "text/html": [
              " View run at <a href='https://wandb.ai/usf-guardians/GoTG_Assignment05_TransferLearning/runs/btlfaj2k' target=\"_blank\">https://wandb.ai/usf-guardians/GoTG_Assignment05_TransferLearning/runs/btlfaj2k</a>"
            ]
          },
          "metadata": {}
        },
        {
          "output_type": "stream",
          "name": "stderr",
          "text": [
            "100%|██████████| 5.00G/5.00G [03:53<00:00, 21.4MB/s]\n"
          ]
        },
        {
          "output_type": "stream",
          "name": "stdout",
          "text": [
            "Selected classes: ['ramen', 'carrot_cake', 'beef_carpaccio', 'strawberry_shortcake', 'escargots', 'donuts', 'croque_madame', 'cheesecake', 'caprese_salad', 'sashimi', 'oysters', 'caesar_salad', 'pho', 'hot_and_sour_soup', 'beef_tartare']\n"
          ]
        },
        {
          "output_type": "display_data",
          "data": {
            "text/plain": [
              "<Figure size 1000x500 with 1 Axes>"
            ],
            "image/png": "[encoded data removed]"
          },
          "metadata": {}
        },
        {
          "output_type": "stream",
          "name": "stdout",
          "text": [
            "Total training images: 11250\n",
            "Total testing images: 3750\n",
            "Using batch size: 32\n"
          ]
        }
      ],
      "source": [
        "import torch\n",
        "import torchvision\n",
        "import torchvision.transforms as transforms\n",
        "import matplotlib.pyplot as plt\n",
        "import numpy as np\n",
        "import wandb\n",
        "from torchvision.datasets import Food101\n",
        "from torch.utils.data import DataLoader, Subset\n",
        "import random\n",
        "\n",
        "# Check for GPU availability\n",
        "device = torch.device(\"cuda\" if torch.cuda.is_available() else \"cpu\")\n",
        "print(f\"Using device: {device}\")\n",
        "\n",
        "# Set repeatability\n",
        "seed = 42\n",
        "np.random.seed(seed)\n",
        "torch.manual_seed(seed)\n",
        "if torch.cuda.is_available():\n",
        "    torch.cuda.manual_seed(seed)\n",
        "    torch.cuda.manual_seed_all(seed)\n",
        "    torch.backends.cudnn.deterministic = True\n",
        "    torch.backends.cudnn.benchmark = False\n",
        "\n",
        "# Initialize Weights & Biases (W&B)\n",
        "wandb.init(project=\"GoTG_Assignment05_TransferLearning\", entity=\"usf-guardians\")\n",
        "\n",
        "# Load the full Food-101 dataset to get all class names\n",
        "full_train_dataset = Food101(root=\"./data\", split=\"train\", download=True)\n",
        "all_classes = full_train_dataset.classes  # Get all 101 class names\n",
        "\n",
        "# Randomly select 15 classes\n",
        "random.seed(seed)  # Ensures same class selection across runs\n",
        "selected_classes = random.sample(all_classes, 15)\n",
        "print(\"Selected classes:\", selected_classes)\n",
        "\n",
        "# Define transformations for training and testing\n",
        "transform = transforms.Compose([\n",
        "    transforms.Resize((224, 224)),  # ResNet requires 224x224 input size\n",
        "    transforms.ToTensor(),\n",
        "    transforms.Normalize(mean=[0.5, 0.5, 0.5], std=[0.5, 0.5, 0.5])  # Normalize to [-1,1] range\n",
        "])\n",
        "\n",
        "# Reload datasets with transformations\n",
        "full_train_dataset = Food101(root=\"./data\", split=\"train\", transform=transform, download=False)\n",
        "full_test_dataset = Food101(root=\"./data\", split=\"test\", transform=transform, download=False)\n",
        "\n",
        "# Create a mapping for our 15 classes to indices (0-14)\n",
        "class_to_idx = {cls_name: idx for idx, cls_name in enumerate(selected_classes)}\n",
        "\n",
        "# Function to filter and remap dataset labels\n",
        "def filter_and_remap(dataset):\n",
        "    filtered_data = []\n",
        "    for i in range(len(dataset)):\n",
        "        class_name = dataset.classes[dataset._labels[i]]\n",
        "        if class_name in selected_classes:\n",
        "            new_label = class_to_idx[class_name]  # Map original label to new label (0–14)\n",
        "            filtered_data.append((dataset[i][0], new_label))  # Store image with remapped label\n",
        "    return filtered_data\n",
        "\n",
        "# Apply filtering and remapping\n",
        "train_subset = filter_and_remap(full_train_dataset)\n",
        "test_subset = filter_and_remap(full_test_dataset)\n",
        "\n",
        "# Create DataLoaders\n",
        "batch_size = 32\n",
        "train_loader = DataLoader(train_subset, batch_size=batch_size, shuffle=True, num_workers=2)\n",
        "test_loader = DataLoader(test_subset, batch_size=batch_size, shuffle=False, num_workers=2)\n",
        "\n",
        "# Log dataset information to W&B\n",
        "wandb.config.update({\n",
        "    \"dataset\": \"Food-101 (15-class subset)\",\n",
        "    \"num_classes\": len(selected_classes),\n",
        "    \"selected_classes\": selected_classes,\n",
        "    \"train_size\": len(train_subset),\n",
        "    \"test_size\": len(test_subset),\n",
        "    \"batch_size\": batch_size,\n",
        "    \"image_size\": \"224x224\",\n",
        "    \"normalization\": \"Mean: [0.5, 0.5, 0.5], Std: [0.5, 0.5, 0.5]\"\n",
        "})\n",
        "\n",
        "# Function to unnormalize and show images\n",
        "def imshow(img):\n",
        "    img = img / 2 + 0.5  # Unnormalize\n",
        "    npimg = img.numpy()\n",
        "    plt.imshow(np.transpose(npimg, (1, 2, 0)))\n",
        "    plt.axis('off')\n",
        "\n",
        "# Get random training images\n",
        "dataiter = iter(train_loader)\n",
        "images, labels = next(dataiter)\n",
        "\n",
        "# Create a grid of images\n",
        "img_grid = torchvision.utils.make_grid(images[:16])\n",
        "\n",
        "# Show images\n",
        "plt.figure(figsize=(10, 5))\n",
        "imshow(img_grid)\n",
        "plt.title(\"Sample Images from Food-101 (15-class subset)\")\n",
        "plt.show()\n",
        "\n",
        "# Log sample images to W&B\n",
        "wandb.log({\"sample_images\": [wandb.Image(images[i], caption=f\"Class {labels[i].item()}\") for i in range(16)]})\n",
        "\n",
        "print(f\"Total training images: {len(train_subset)}\")\n",
        "print(f\"Total testing images: {len(test_subset)}\")\n",
        "print(f\"Using batch size: {batch_size}\")\n"
      ]
    },
    {
      "cell_type": "code",
      "source": [
        "# Verify label range in train loader\n",
        "label_check = set()\n",
        "for images, labels in train_loader:\n",
        "    label_check.update(labels.numpy())  # Collect unique labels\n",
        "    if len(label_check) == 15:  # If all 15 classes are found, break early\n",
        "        break\n",
        "\n",
        "print(\"Unique labels in training set:\", sorted(label_check))\n",
        "print(\"Expected labels: 0 to 14\")\n",
        "\n",
        "# Check if all 15 labels are present\n",
        "if sorted(label_check) == list(range(15)):\n",
        "    print(\"✅ Labels correctly mapped to range [0-14]\")\n",
        "else:\n",
        "    print(\"❌ Warning: Some labels are missing or incorrectly mapped!\")\n"
      ],
      "metadata": {
        "id": "u7JaDqoqZX9B",
        "colab": {
          "base_uri": "https://localhost:8080/"
        },
        "outputId": "86beab37-ebe3-40a0-bdb1-bae599d6d053"
      },
      "execution_count": null,
      "outputs": [
        {
          "output_type": "stream",
          "name": "stdout",
          "text": [
            "Unique labels in training set: [np.int64(0), np.int64(1), np.int64(2), np.int64(3), np.int64(4), np.int64(5), np.int64(6), np.int64(7), np.int64(8), np.int64(9), np.int64(10), np.int64(11), np.int64(12), np.int64(13), np.int64(14)]\n",
            "Expected labels: 0 to 14\n",
            "✅ Labels correctly mapped to range [0-14]\n"
          ]
        }
      ]
    },
    {
      "cell_type": "markdown",
      "source": [
        "## Model Setup and Preparation\n",
        "\n",
        "- **Pre-trained ResNet-18** is loaded with ImageNet weights.\n",
        "- The final fully connected (FC) layer is modified to output **15 classes** for our dataset.\n",
        "- **Feature Extraction Approach**:\n",
        "  - All layers are frozen except the final FC layer.\n",
        "  - Only the FC layer's weights will be updated during training.\n",
        "- **W&B Logging**:\n",
        "  - Model details, number of trainable and total parameters, and the training approach are logged.\n",
        "  - `wandb.watch()` is enabled to track gradients and parameter updates.\n",
        "- The model is moved to the **GPU** if available for faster training.\n"
      ],
      "metadata": {
        "id": "aV_YbRRZbG3K"
      }
    },
    {
      "cell_type": "code",
      "source": [
        "import torch\n",
        "import torchvision\n",
        "import torch.nn as nn\n",
        "import wandb\n",
        "\n",
        "# Define device (use GPU if available)\n",
        "device = torch.device(\"cuda\" if torch.cuda.is_available() else \"cpu\")\n",
        "print(f\"Using device: {device}\")\n",
        "\n",
        "# Load pre-trained ResNet-18 model\n",
        "model = torchvision.models.resnet18(weights='IMAGENET1K_V1')\n",
        "\n",
        "# Print the original model structure\n",
        "print(\"Original model:\")\n",
        "print(model.fc)  # The final fully connected layer\n",
        "\n",
        "# Modify the final layer for 15 classes\n",
        "num_features = model.fc.in_features  # Get number of input features to the final layer\n",
        "model.fc = nn.Linear(num_features, 15)  # Change output layer to 15 classes\n",
        "\n",
        "# Print the modified model\n",
        "print(\"\\nModified model:\")\n",
        "print(model.fc)\n",
        "\n",
        "# Move model to the device (GPU if available)\n",
        "model = model.to(device)\n",
        "\n",
        "# Log model details to W&B\n",
        "wandb.config.update({\n",
        "    \"model\": \"ResNet-18\",\n",
        "    \"pretrained\": True,\n",
        "    \"num_classes\": 15,\n",
        "    \"input_features\": num_features\n",
        "})\n",
        "\n",
        "# Setup W&B to track model parameters and gradients\n",
        "wandb.watch(model, log=\"all\", log_freq=100)\n",
        "\n",
        "# Freeze all layers except the final fully connected (fc) layer\n",
        "for param in model.parameters():\n",
        "    param.requires_grad = False  # Freeze all layers\n",
        "\n",
        "# Unfreeze only the final FC layer so it can be trained\n",
        "for param in model.fc.parameters():\n",
        "    param.requires_grad = True\n",
        "\n",
        "# Count and print trainable parameters\n",
        "trainable_params = sum(p.numel() for p in model.parameters() if p.requires_grad)\n",
        "total_params = sum(p.numel() for p in model.parameters())\n",
        "\n",
        "print(f\"Trainable parameters: {trainable_params:,} ({trainable_params/total_params:.2%} of total)\")\n",
        "\n",
        "# Log trainable parameters to W&B\n",
        "wandb.config.update({\n",
        "    \"trainable_params\": trainable_params,\n",
        "    \"total_params\": total_params,\n",
        "    \"approach\": \"feature_extraction\"\n",
        "})\n"
      ],
      "metadata": {
        "colab": {
          "base_uri": "https://localhost:8080/"
        },
        "id": "JRNm0dEOckxr",
        "outputId": "93f0f30a-75a8-4d6b-9269-99105776b504"
      },
      "execution_count": null,
      "outputs": [
        {
          "output_type": "stream",
          "name": "stdout",
          "text": [
            "Using device: cuda\n"
          ]
        },
        {
          "output_type": "stream",
          "name": "stderr",
          "text": [
            "Downloading: \"https://download.pytorch.org/models/resnet18-f37072fd.pth\" to /root/.cache/torch/hub/checkpoints/resnet18-f37072fd.pth\n",
            "100%|██████████| 44.7M/44.7M [00:00<00:00, 133MB/s]\n"
          ]
        },
        {
          "output_type": "stream",
          "name": "stdout",
          "text": [
            "Original model:\n",
            "Linear(in_features=512, out_features=1000, bias=True)\n",
            "\n",
            "Modified model:\n",
            "Linear(in_features=512, out_features=15, bias=True)\n",
            "Trainable parameters: 7,695 (0.07% of total)\n"
          ]
        }
      ]
    },
    {
      "cell_type": "markdown",
      "source": [
        "## Functions to log to Weights & Biases\n",
        "\n",
        "### 📌 W&B Logging Functions Overview\n",
        "\n",
        "This script contains helper functions to log important details during model training using **Weights & Biases (W&B)**:\n",
        "\n",
        "- **Dataset Info**: Logs dataset name, number of classes, size, and normalization used.\n",
        "- **Model Info**: Logs model architecture (ResNet-18), pretrained status, and tracks gradients.\n",
        "- **Training Hyperparameters**: Logs learning rate, optimizer, loss function, and number of epochs.\n",
        "- **Epoch Metrics**: Logs training/testing loss, accuracy, F1 scores, and per-class accuracy every epoch.\n",
        "- **Confusion Matrix**: Logs class-wise confusion matrix to visualize model performance.\n",
        "- **Best Model**: Saves and logs the best model checkpoint along with best accuracy and F1.\n",
        "- **Model Artifact**: Saves any model checkpoint as a W&B artifact for versioning.\n",
        "\n",
        "These functions help maintain organized tracking, reproducibility, and easier model comparison.\n"
      ],
      "metadata": {
        "id": "4p_fSPBRbPSo"
      }
    },
    {
      "cell_type": "code",
      "source": [
        "import torch\n",
        "import wandb\n",
        "import torch.nn as nn\n",
        "\n",
        "# 🔹 Function to Log Dataset Information\n",
        "def log_dataset_info(selected_classes, train_subset, test_subset, batch_size):\n",
        "    wandb.config.update({\n",
        "        \"dataset\": \"Food-101 (15-class subset)\",\n",
        "        \"num_classes\": len(selected_classes),\n",
        "        \"selected_classes\": selected_classes,\n",
        "        \"train_size\": len(train_subset),\n",
        "        \"test_size\": len(test_subset),\n",
        "        \"batch_size\": batch_size,\n",
        "        \"image_size\": \"224x224\",\n",
        "        \"normalization\": \"Mean: [0.5, 0.5, 0.5], Std: [0.5, 0.5, 0.5]\"\n",
        "    })\n",
        "\n",
        "# 🔹 Function to Log Model Information\n",
        "def log_model_info(model, num_features):\n",
        "    wandb.config.update({\n",
        "        \"model\": \"ResNet-18\",\n",
        "        \"pretrained\": True,\n",
        "        \"num_classes\": 15,\n",
        "        \"input_features\": num_features\n",
        "    })\n",
        "\n",
        "    # Setup W&B to track model parameters and gradients\n",
        "    wandb.watch(model, log=\"all\", log_freq=100)\n",
        "\n",
        "# 🔹 Function to Log Training Hyperparameters\n",
        "def log_training_hyperparams(learning_rate, optimizer_name, epochs):\n",
        "    wandb.config.update({\n",
        "        \"architecture\": \"ResNet-18\",\n",
        "        \"learning_rate\": learning_rate,\n",
        "        \"optimizer\": optimizer_name,\n",
        "        \"criterion\": \"CrossEntropyLoss\",\n",
        "        \"epochs\": epochs\n",
        "    })\n",
        "\n",
        "# 🔹 Function to Log Epoch Metrics\n",
        "def log_epoch_metrics(epoch, train_loss, train_acc, train_f1, test_loss, test_acc, test_f1, class_acc):\n",
        "    wandb.log({\n",
        "        \"epoch\": epoch + 1,\n",
        "        \"train_loss\": train_loss,\n",
        "        \"train_acc\": train_acc,\n",
        "        \"train_f1_macro\": train_f1,\n",
        "        \"test_loss\": test_loss,\n",
        "        \"test_acc\": test_acc,\n",
        "        \"test_f1_macro\": test_f1\n",
        "    })\n",
        "\n",
        "    # Log per-class accuracy\n",
        "    wandb.log(class_acc)\n",
        "\n",
        "# 🔹 Function to Log Confusion Matrix\n",
        "def log_confusion_matrix(true_labels, pred_labels):\n",
        "    wandb.log({\n",
        "        \"confusion_matrix\": wandb.plot.confusion_matrix(\n",
        "            probs=None,\n",
        "            y_true=true_labels,\n",
        "            preds=pred_labels,\n",
        "            class_names=[str(i) for i in range(15)]\n",
        "        )\n",
        "    })\n",
        "\n",
        "# 🔹 Function to Log Best Model (Stores Best Accuracy & F1 Score)\n",
        "def log_best_model(model, epoch, best_acc, best_f1):\n",
        "    model_path = f\"resnet18_food101_epoch_{epoch+1}.pth\"\n",
        "    torch.save(model.state_dict(), model_path)\n",
        "\n",
        "    artifact = wandb.Artifact(name=\"resnet18-food101-best\", type=\"model\", description=\"Best performing model\")\n",
        "    artifact.add_file(model_path)\n",
        "    wandb.log_artifact(artifact)\n",
        "\n",
        "    # Update W&B summary with best metrics\n",
        "    wandb.run.summary[\"best_accuracy\"] = best_acc\n",
        "    wandb.run.summary[\"best_f1_macro\"] = best_f1\n",
        "    wandb.run.summary[\"best_epoch\"] = epoch + 1\n",
        "\n",
        "# 🔹 Function to Log Model Artifacts (Ensuring State Dict Matches Expected Keys)\n",
        "def log_model_artifact(model, name=\"model_checkpoint\", description=\"Trained model checkpoint\"):\n",
        "    model_path = f\"{name}.pth\"\n",
        "\n",
        "    # Ensure FC Layer is NOT Wrapped in Sequential() Before Saving\n",
        "    if isinstance(model.fc, nn.Sequential):\n",
        "        model.fc = model.fc[0]  # Remove activation before saving\n",
        "\n",
        "    torch.save(model.state_dict(), model_path)\n",
        "\n",
        "    artifact = wandb.Artifact(name=name, type=\"model\", description=description)\n",
        "    artifact.add_file(model_path)\n",
        "    wandb.log_artifact(artifact)\n",
        "\n",
        "    print(f\"✅ Model artifact '{name}' logged to W&B\")\n"
      ],
      "metadata": {
        "id": "cO7-wFPfcwVm"
      },
      "execution_count": null,
      "outputs": []
    },
    {
      "cell_type": "markdown",
      "source": [
        "# Phase 1\n",
        "\n",
        "- Loaded the pre-trained ResNet-18 model.\n",
        "- Replaced the final fully connected (FC) layer with a new layer outputting 15 classes.\n",
        "- Froze all layers except the final FC layer.\n",
        "- Ran two experiments each with different hyperparameter combinations to evaluate performance.\n",
        "\n",
        "\n",
        "## Run 1"
      ],
      "metadata": {
        "id": "quvkv5HrbXCQ"
      }
    },
    {
      "cell_type": "code",
      "source": [
        "import torch\n",
        "import torch.optim as optim\n",
        "import torch.nn as nn\n",
        "import wandb\n",
        "from sklearn.metrics import f1_score\n",
        "\n",
        "# Define architecture, learning rate, and optimizer for this first run\n",
        "architecture = \"ResNet-18\"\n",
        "learning_rate = 0.001\n",
        "optimizer_name = \"Adam\"\n",
        "epochs = 10\n",
        "\n",
        "# Initialize optimizer and loss function\n",
        "criterion = nn.CrossEntropyLoss()\n",
        "optimizer = optim.Adam(model.fc.parameters(), lr=learning_rate)\n",
        "\n",
        "# 🔹 Log hyperparameters\n",
        "log_training_hyperparams(learning_rate, optimizer_name, epochs)\n",
        "\n",
        "# Define the training loop\n",
        "def train_model(model, train_loader, test_loader, criterion, optimizer, num_epochs=10):\n",
        "    best_acc = 0.0\n",
        "\n",
        "    for epoch in range(num_epochs):\n",
        "        print(f'Epoch {epoch+1}/{num_epochs}')\n",
        "        print('-' * 10)\n",
        "\n",
        "        # Training phase\n",
        "        model.train()\n",
        "        running_loss = 0.0\n",
        "        correct = 0\n",
        "        total = 0\n",
        "        all_train_preds = []\n",
        "        all_train_labels = []\n",
        "\n",
        "        for i, (inputs, labels) in enumerate(train_loader):\n",
        "            inputs, labels = inputs.to(device), labels.to(device)\n",
        "\n",
        "            optimizer.zero_grad()\n",
        "            outputs = model(inputs)\n",
        "            loss = criterion(outputs, labels)\n",
        "            loss.backward()\n",
        "            optimizer.step()\n",
        "\n",
        "            running_loss += loss.item() * inputs.size(0)\n",
        "            _, predicted = outputs.max(1)\n",
        "            total += labels.size(0)\n",
        "            correct += predicted.eq(labels).sum().item()\n",
        "\n",
        "            all_train_preds.extend(predicted.cpu().numpy())\n",
        "            all_train_labels.extend(labels.cpu().numpy())\n",
        "\n",
        "        train_loss = running_loss / len(train_loader.dataset)\n",
        "        train_acc = 100. * correct / total\n",
        "        train_f1_macro = f1_score(all_train_labels, all_train_preds, average='macro')\n",
        "\n",
        "        # Validation phase\n",
        "        model.eval()\n",
        "        test_loss = 0.0\n",
        "        correct = 0\n",
        "        total = 0\n",
        "        class_correct = [0] * 15\n",
        "        class_total = [0] * 15\n",
        "        all_preds = []\n",
        "        all_labels = []\n",
        "\n",
        "        with torch.no_grad():\n",
        "            for inputs, labels in test_loader:\n",
        "                inputs, labels = inputs.to(device), labels.to(device)\n",
        "                outputs = model(inputs)\n",
        "                loss = criterion(outputs, labels)\n",
        "\n",
        "                test_loss += loss.item() * inputs.size(0)\n",
        "                _, predicted = outputs.max(1)\n",
        "                total += labels.size(0)\n",
        "                correct += predicted.eq(labels).sum().item()\n",
        "\n",
        "                for i in range(labels.size(0)):\n",
        "                    label = labels[i]\n",
        "                    class_correct[label] += (predicted[i] == label).item()\n",
        "                    class_total[label] += 1\n",
        "\n",
        "                all_preds.extend(predicted.cpu().numpy())\n",
        "                all_labels.extend(labels.cpu().numpy())\n",
        "\n",
        "        test_loss = test_loss / len(test_loader.dataset)\n",
        "        test_acc = 100. * correct / total\n",
        "        test_f1_macro = f1_score(all_labels, all_preds, average='macro')\n",
        "\n",
        "        # Compute per-class accuracy\n",
        "        class_acc_dict = {f\"class_acc_{i}\": 100 * class_correct[i] / class_total[i] if class_total[i] > 0 else 0 for i in range(15)}\n",
        "\n",
        "        # 🔹 Log epoch metrics and confusion matrix\n",
        "        log_epoch_metrics(epoch, train_loss, train_acc, train_f1_macro, test_loss, test_acc, test_f1_macro, class_acc_dict)\n",
        "        log_confusion_matrix(all_labels, all_preds)\n",
        "\n",
        "        # 🔹 Save best model\n",
        "        if test_acc > best_acc:\n",
        "            best_acc = test_acc\n",
        "            best_f1 = test_f1_macro\n",
        "            log_best_model(model, epoch, best_acc, best_f1)\n",
        "\n",
        "        # 🔹 Log Model Artifact for Each Epoch (Ensuring State Dict Matches Expected Keys)\n",
        "        log_model_artifact(model, name=f\"resnet18_epoch{epoch+1}\")\n",
        "\n",
        "    print(f'Best test accuracy: {best_acc:.2f}%')\n",
        "    return model\n",
        "\n",
        "# Run training with the logging functions\n",
        "model = train_model(model, train_loader, test_loader, criterion, optimizer, num_epochs=epochs)\n",
        "\n",
        "# Finish W&B run\n",
        "wandb.finish()\n"
      ],
      "metadata": {
        "colab": {
          "base_uri": "https://localhost:8080/",
          "height": 1000
        },
        "id": "ZSywp-aFd3-_",
        "outputId": "6167dd00-3526-476c-eaa8-76466efff9be"
      },
      "execution_count": null,
      "outputs": [
        {
          "output_type": "stream",
          "name": "stdout",
          "text": [
            "Epoch 1/10\n",
            "----------\n",
            "✅ Model artifact 'resnet18_epoch1' logged to W&B\n",
            "Epoch 2/10\n",
            "----------\n",
            "✅ Model artifact 'resnet18_epoch2' logged to W&B\n",
            "Epoch 3/10\n",
            "----------\n",
            "✅ Model artifact 'resnet18_epoch3' logged to W&B\n",
            "Epoch 4/10\n",
            "----------\n",
            "✅ Model artifact 'resnet18_epoch4' logged to W&B\n",
            "Epoch 5/10\n",
            "----------\n",
            "✅ Model artifact 'resnet18_epoch5' logged to W&B\n",
            "Epoch 6/10\n",
            "----------\n",
            "✅ Model artifact 'resnet18_epoch6' logged to W&B\n",
            "Epoch 7/10\n",
            "----------\n",
            "✅ Model artifact 'resnet18_epoch7' logged to W&B\n",
            "Epoch 8/10\n",
            "----------\n",
            "✅ Model artifact 'resnet18_epoch8' logged to W&B\n",
            "Epoch 9/10\n",
            "----------\n",
            "✅ Model artifact 'resnet18_epoch9' logged to W&B\n",
            "Epoch 10/10\n",
            "----------\n",
            "✅ Model artifact 'resnet18_epoch10' logged to W&B\n",
            "Best test accuracy: 80.56%\n"
          ]
        },
        {
          "output_type": "display_data",
          "data": {
            "text/plain": [
              "<IPython.core.display.HTML object>"
            ],
            "text/html": []
          },
          "metadata": {}
        },
        {
          "output_type": "display_data",
          "data": {
            "text/plain": [
              "<IPython.core.display.HTML object>"
            ],
            "text/html": [
              "<br>    <style><br>        .wandb-row {<br>            display: flex;<br>            flex-direction: row;<br>            flex-wrap: wrap;<br>            justify-content: flex-start;<br>            width: 100%;<br>        }<br>        .wandb-col {<br>            display: flex;<br>            flex-direction: column;<br>            flex-basis: 100%;<br>            flex: 1;<br>            padding: 10px;<br>        }<br>    </style><br><div class=\"wandb-row\"><div class=\"wandb-col\"><h3>Run history:</h3><br/><table class=\"wandb\"><tr><td>class_acc_0</td><td>▃█▇▅▅▆▁▅▂▂</td></tr><tr><td>class_acc_1</td><td>▂▆▃▅▃▁▃█▅▇</td></tr><tr><td>class_acc_10</td><td>▁▆▅▄▁▄▃▃█▃</td></tr><tr><td>class_acc_11</td><td>▃▁█▇▆▃▄█▂▆</td></tr><tr><td>class_acc_12</td><td>▄▁▂▂▆▂▅▁▇█</td></tr><tr><td>class_acc_13</td><td>▆▁▃▆▅▅▇█▄▄</td></tr><tr><td>class_acc_14</td><td>▁▆▆▆█▇▆▆▅▄</td></tr><tr><td>class_acc_2</td><td>▃▂▁▂▄▅█▅▆▄</td></tr><tr><td>class_acc_3</td><td>█▆▅█▇▆▁▃▁▂</td></tr><tr><td>class_acc_4</td><td>▁█▂▅▆▇▇▇▇▇</td></tr><tr><td>class_acc_5</td><td>▅▂▃▁▂▁▇▃▇█</td></tr><tr><td>class_acc_6</td><td>▇▇██▅▄▁▄▅▇</td></tr><tr><td>class_acc_7</td><td>▁▃▅▄▅▇█▆▄▃</td></tr><tr><td>class_acc_8</td><td>▂▁▆█▅▄▅▄▆▇</td></tr><tr><td>class_acc_9</td><td>▁▆▄▃▅█▁▅▅▄</td></tr><tr><td>epoch</td><td>▁▂▃▃▄▅▆▆▇█</td></tr><tr><td>test_acc</td><td>▁▄▇▇▇▇▇█▇█</td></tr><tr><td>test_f1_macro</td><td>▁▄▆▇█▇▇█▇▇</td></tr><tr><td>test_loss</td><td>█▄▂▂▁▁▂▁▁▁</td></tr><tr><td>train_acc</td><td>▁▆▇▇▇▇████</td></tr><tr><td>train_f1_macro</td><td>▁▆▇▇▇▇████</td></tr><tr><td>train_loss</td><td>█▃▂▂▂▁▁▁▁▁</td></tr></table><br/></div><div class=\"wandb-col\"><h3>Run summary:</h3><br/><table class=\"wandb\"><tr><td>best_accuracy</td><td>80.56</td></tr><tr><td>best_epoch</td><td>8</td></tr><tr><td>best_f1_macro</td><td>0.80603</td></tr><tr><td>class_acc_0</td><td>71.2</td></tr><tr><td>class_acc_1</td><td>78</td></tr><tr><td>class_acc_10</td><td>88.4</td></tr><tr><td>class_acc_11</td><td>84.8</td></tr><tr><td>class_acc_12</td><td>90.8</td></tr><tr><td>class_acc_13</td><td>89.2</td></tr><tr><td>class_acc_14</td><td>69.2</td></tr><tr><td>class_acc_2</td><td>75.2</td></tr><tr><td>class_acc_3</td><td>73.2</td></tr><tr><td>class_acc_4</td><td>88.8</td></tr><tr><td>class_acc_5</td><td>94</td></tr><tr><td>class_acc_6</td><td>81.2</td></tr><tr><td>class_acc_7</td><td>55.2</td></tr><tr><td>class_acc_8</td><td>82.8</td></tr><tr><td>class_acc_9</td><td>84.8</td></tr><tr><td>epoch</td><td>10</td></tr><tr><td>test_acc</td><td>80.45333</td></tr><tr><td>test_f1_macro</td><td>0.80276</td></tr><tr><td>test_loss</td><td>0.58938</td></tr><tr><td>train_acc</td><td>78.98667</td></tr><tr><td>train_f1_macro</td><td>0.7895</td></tr><tr><td>train_loss</td><td>0.65635</td></tr></table><br/></div></div>"
            ]
          },
          "metadata": {}
        },
        {
          "output_type": "display_data",
          "data": {
            "text/plain": [
              "<IPython.core.display.HTML object>"
            ],
            "text/html": [
              " View run <strong style=\"color:#cdcd00\">light-tree-37</strong> at: <a href='https://wandb.ai/usf-guardians/GoTG_Assignment05_TransferLearning/runs/btlfaj2k' target=\"_blank\">https://wandb.ai/usf-guardians/GoTG_Assignment05_TransferLearning/runs/btlfaj2k</a><br> View project at: <a href='https://wandb.ai/usf-guardians/GoTG_Assignment05_TransferLearning' target=\"_blank\">https://wandb.ai/usf-guardians/GoTG_Assignment05_TransferLearning</a><br>Synced 5 W&B file(s), 26 media file(s), 20 artifact file(s) and 0 other file(s)"
            ]
          },
          "metadata": {}
        },
        {
          "output_type": "display_data",
          "data": {
            "text/plain": [
              "<IPython.core.display.HTML object>"
            ],
            "text/html": [
              "Find logs at: <code>./wandb/run-20250321_180110-btlfaj2k/logs</code>"
            ]
          },
          "metadata": {}
        }
      ]
    },
    {
      "cell_type": "markdown",
      "source": [
        "## 📊 Model Training Results - ResNet-18 (Food-101 15-Class Subset)\n",
        "\n",
        "The model achieved a **best test accuracy of 80.56%** at **epoch 8**, with a **macro F1-score of 0.80603**, indicating balanced performance across all classes. Final training results at epoch 10 show **train accuracy of 78.99%** and **test accuracy of 80.45%**, with losses of **0.656 (train) and 0.589 (test)**, suggesting good generalization without significant overfitting.\n",
        "\n",
        "Performance varied across classes, with the highest accuracy in **Class 5 (94%) and Class 12 (90.8%)**, while **Class 7 had the lowest accuracy (55.2%)**, indicating possible misclassification issues. To further improve, we can fine-tune more layers, apply data augmentation for underperforming classes, and analyze the confusion matrix to identify misclassification patterns. 🚀\n",
        "\n",
        "\n",
        "------------------------------------------------------------------------------"
      ],
      "metadata": {
        "id": "ra6fk-STbci3"
      }
    },
    {
      "cell_type": "markdown",
      "source": [
        "## **Trying a New Hyperparameter Combination 1 (Same Architecture)**\n",
        "Now that we have completed one experiment, we will start a **new independent experiment** with:\n",
        "✅ The **same ResNet-18 architecture**  \n",
        "✅ A **new learning rate**  \n",
        "✅ A **different optimizer**  \n",
        "✅ A **new batch size**  \n",
        "\n",
        "#### **What We Will Change in This Run**\n",
        "1. **Keep using ResNet-18** (same model architecture for consistency).  \n",
        "2. **Change the learning rate** from `0.001` to `0.0005` for finer weight updates.  \n",
        "3. **Keep the optimizer** as **Adam**\n",
        "4. **Increase batch size** from `32` to `64` for more stable updates.  \n",
        "5. **Log this as a new independent run** in W&B to compare results.  \n",
        "\n",
        "This experiment helps us understand how **hyperparameters influence performance**, keeping model architecture constant.\n",
        "\n",
        "##Run 2"
      ],
      "metadata": {
        "id": "ULOQKowjVZRm"
      }
    },
    {
      "cell_type": "code",
      "source": [
        "import torch\n",
        "import torch.optim as optim\n",
        "import torch.nn as nn\n",
        "import wandb\n",
        "import torchvision\n",
        "from sklearn.metrics import f1_score\n",
        "\n",
        "# Define device (use GPU if available)\n",
        "device = torch.device(\"cuda\" if torch.cuda.is_available() else \"cpu\")\n",
        "print(f\"Using device: {device}\")\n",
        "\n",
        "# Define new hyperparameters for this experiment\n",
        "architecture = \"ResNet-18\"\n",
        "learning_rate = 0.0005\n",
        "optimizer_name = \"Adam\"\n",
        "batch_size = 64  # Increased batch size for more stable updates\n",
        "epochs = 10\n",
        "\n",
        "# Use the same ResNet-18 model as before\n",
        "model = torchvision.models.resnet18(weights='IMAGENET1K_V1')\n",
        "\n",
        "# Modify the final layer for 15 classes\n",
        "num_features = model.fc.in_features\n",
        "model.fc = nn.Linear(num_features, 15)\n",
        "\n",
        "# Move model to GPU (if available)\n",
        "model = model.to(device)\n",
        "\n",
        "# Freeze all layers except the final FC layer\n",
        "for param in model.parameters():\n",
        "    param.requires_grad = False\n",
        "\n",
        "for param in model.fc.parameters():\n",
        "    param.requires_grad = True\n",
        "\n",
        "# Initialize new optimizer and loss function\n",
        "criterion = nn.CrossEntropyLoss()\n",
        "optimizer = optim.Adam(model.fc.parameters(), lr=learning_rate)\n",
        "\n",
        "# 🔹 Start a new W&B run for this experiment\n",
        "wandb.init(\n",
        "    project=\"GoTG_Assignment05_TransferLearning\",\n",
        "    entity=\"usf-guardians\",\n",
        "    name=f\"{architecture}_LR{learning_rate}_Adam_BS{batch_size}_DJ1\"\n",
        ")\n",
        "\n",
        "# 🔹 Log everything (dataset, model, hyperparameters)\n",
        "log_dataset_info(selected_classes, train_subset, test_subset, batch_size)\n",
        "log_model_info(model, num_features)\n",
        "log_training_hyperparams(learning_rate, optimizer_name, epochs)\n",
        "\n",
        "# Create a new DataLoader with updated batch size\n",
        "train_loader = torch.utils.data.DataLoader(train_subset, batch_size=batch_size, shuffle=True, num_workers=2)\n",
        "test_loader = torch.utils.data.DataLoader(test_subset, batch_size=batch_size, shuffle=False, num_workers=2)\n",
        "\n",
        "# Training function with structured logging\n",
        "def train_model(model, train_loader, test_loader, criterion, optimizer, num_epochs=10):\n",
        "    best_acc = 0.0\n",
        "\n",
        "    for epoch in range(num_epochs):\n",
        "        print(f'Epoch {epoch+1}/{num_epochs}')\n",
        "        print('-' * 10)\n",
        "\n",
        "        # Training phase\n",
        "        model.train()\n",
        "        running_loss = 0.0\n",
        "        correct = 0\n",
        "        total = 0\n",
        "        all_train_preds = []\n",
        "        all_train_labels = []\n",
        "\n",
        "        for i, (inputs, labels) in enumerate(train_loader):\n",
        "            inputs, labels = inputs.to(device), labels.to(device)\n",
        "\n",
        "            optimizer.zero_grad()\n",
        "            outputs = model(inputs)\n",
        "            loss = criterion(outputs, labels)\n",
        "            loss.backward()\n",
        "            optimizer.step()\n",
        "\n",
        "            running_loss += loss.item() * inputs.size(0)\n",
        "            _, predicted = outputs.max(1)\n",
        "            total += labels.size(0)\n",
        "            correct += predicted.eq(labels).sum().item()\n",
        "\n",
        "            all_train_preds.extend(predicted.cpu().numpy())\n",
        "            all_train_labels.extend(labels.cpu().numpy())\n",
        "\n",
        "        train_loss = running_loss / len(train_loader.dataset)\n",
        "        train_acc = 100. * correct / total\n",
        "        train_f1_macro = f1_score(all_train_labels, all_train_preds, average='macro')\n",
        "\n",
        "        # Validation phase\n",
        "        model.eval()\n",
        "        test_loss = 0.0\n",
        "        correct = 0\n",
        "        total = 0\n",
        "        class_correct = [0] * 15\n",
        "        class_total = [0] * 15\n",
        "        all_preds = []\n",
        "        all_labels = []\n",
        "\n",
        "        with torch.no_grad():\n",
        "            for inputs, labels in test_loader:\n",
        "                inputs, labels = inputs.to(device), labels.to(device)\n",
        "                outputs = model(inputs)\n",
        "                loss = criterion(outputs, labels)\n",
        "\n",
        "                test_loss += loss.item() * inputs.size(0)\n",
        "                _, predicted = outputs.max(1)\n",
        "                total += labels.size(0)\n",
        "                correct += predicted.eq(labels).sum().item()\n",
        "\n",
        "                for i in range(labels.size(0)):\n",
        "                    label = labels[i]\n",
        "                    class_correct[label] += (predicted[i] == label).item()\n",
        "                    class_total[label] += 1\n",
        "\n",
        "                all_preds.extend(predicted.cpu().numpy())\n",
        "                all_labels.extend(labels.cpu().numpy())\n",
        "\n",
        "        test_loss = test_loss / len(test_loader.dataset)\n",
        "        test_acc = 100. * correct / total\n",
        "        test_f1_macro = f1_score(all_labels, all_preds, average='macro')\n",
        "\n",
        "        # Compute per-class accuracy\n",
        "        class_acc_dict = {f\"class_acc_{i}\": 100 * class_correct[i] / class_total[i] if class_total[i] > 0 else 0 for i in range(15)}\n",
        "\n",
        "        # 🔹 Log all metrics properly\n",
        "        log_epoch_metrics(epoch, train_loss, train_acc, train_f1_macro, test_loss, test_acc, test_f1_macro, class_acc_dict)\n",
        "        log_confusion_matrix(all_labels, all_preds)\n",
        "\n",
        "        # 🔹 Save best model\n",
        "        if test_acc > best_acc:\n",
        "            best_acc = test_acc\n",
        "            best_f1 = test_f1_macro\n",
        "            log_best_model(model, epoch, best_acc, best_f1)\n",
        "\n",
        "        # 🔹 Log model artifact for each epoch\n",
        "        log_model_artifact(model, name=f\"resnet18_epoch{epoch+1}\")\n",
        "\n",
        "    print(f'Best test accuracy: {best_acc:.2f}%')\n",
        "    return model\n",
        "\n",
        "# Run the training function for this experiment\n",
        "model = train_model(model, train_loader, test_loader, criterion, optimizer, num_epochs=epochs)\n",
        "\n",
        "# Finish W&B run\n",
        "wandb.finish()\n"
      ],
      "metadata": {
        "colab": {
          "base_uri": "https://localhost:8080/",
          "height": 1000
        },
        "outputId": "7d8b0141-b754-410b-da9c-ec143353ed41",
        "id": "9-DSBTjFVZRn"
      },
      "execution_count": null,
      "outputs": [
        {
          "output_type": "stream",
          "name": "stdout",
          "text": [
            "Using device: cuda\n"
          ]
        },
        {
          "output_type": "display_data",
          "data": {
            "text/plain": [
              "<IPython.core.display.HTML object>"
            ],
            "text/html": [
              "Tracking run with wandb version 0.19.8"
            ]
          },
          "metadata": {}
        },
        {
          "output_type": "display_data",
          "data": {
            "text/plain": [
              "<IPython.core.display.HTML object>"
            ],
            "text/html": [
              "Run data is saved locally in <code>/content/wandb/run-20250321_181334-y06fvboe</code>"
            ]
          },
          "metadata": {}
        },
        {
          "output_type": "display_data",
          "data": {
            "text/plain": [
              "<IPython.core.display.HTML object>"
            ],
            "text/html": [
              "Syncing run <strong><a href='https://wandb.ai/usf-guardians/GoTG_Assignment05_TransferLearning/runs/y06fvboe' target=\"_blank\">ResNet-18_LR0.0005_Adam_BS64_DJ1</a></strong> to <a href='https://wandb.ai/usf-guardians/GoTG_Assignment05_TransferLearning' target=\"_blank\">Weights & Biases</a> (<a href='https://wandb.me/developer-guide' target=\"_blank\">docs</a>)<br>"
            ]
          },
          "metadata": {}
        },
        {
          "output_type": "display_data",
          "data": {
            "text/plain": [
              "<IPython.core.display.HTML object>"
            ],
            "text/html": [
              " View project at <a href='https://wandb.ai/usf-guardians/GoTG_Assignment05_TransferLearning' target=\"_blank\">https://wandb.ai/usf-guardians/GoTG_Assignment05_TransferLearning</a>"
            ]
          },
          "metadata": {}
        },
        {
          "output_type": "display_data",
          "data": {
            "text/plain": [
              "<IPython.core.display.HTML object>"
            ],
            "text/html": [
              " View run at <a href='https://wandb.ai/usf-guardians/GoTG_Assignment05_TransferLearning/runs/y06fvboe' target=\"_blank\">https://wandb.ai/usf-guardians/GoTG_Assignment05_TransferLearning/runs/y06fvboe</a>"
            ]
          },
          "metadata": {}
        },
        {
          "output_type": "stream",
          "name": "stdout",
          "text": [
            "Epoch 1/10\n",
            "----------\n",
            "✅ Model artifact 'resnet18_epoch1' logged to W&B\n",
            "Epoch 2/10\n",
            "----------\n",
            "✅ Model artifact 'resnet18_epoch2' logged to W&B\n",
            "Epoch 3/10\n",
            "----------\n",
            "✅ Model artifact 'resnet18_epoch3' logged to W&B\n",
            "Epoch 4/10\n",
            "----------\n",
            "✅ Model artifact 'resnet18_epoch4' logged to W&B\n",
            "Epoch 5/10\n",
            "----------\n",
            "✅ Model artifact 'resnet18_epoch5' logged to W&B\n",
            "Epoch 6/10\n",
            "----------\n",
            "✅ Model artifact 'resnet18_epoch6' logged to W&B\n",
            "Epoch 7/10\n",
            "----------\n",
            "✅ Model artifact 'resnet18_epoch7' logged to W&B\n",
            "Epoch 8/10\n",
            "----------\n",
            "✅ Model artifact 'resnet18_epoch8' logged to W&B\n",
            "Epoch 9/10\n",
            "----------\n",
            "✅ Model artifact 'resnet18_epoch9' logged to W&B\n",
            "Epoch 10/10\n",
            "----------\n",
            "✅ Model artifact 'resnet18_epoch10' logged to W&B\n",
            "Best test accuracy: 80.69%\n"
          ]
        },
        {
          "output_type": "display_data",
          "data": {
            "text/plain": [
              "<IPython.core.display.HTML object>"
            ],
            "text/html": []
          },
          "metadata": {}
        },
        {
          "output_type": "display_data",
          "data": {
            "text/plain": [
              "<IPython.core.display.HTML object>"
            ],
            "text/html": [
              "<br>    <style><br>        .wandb-row {<br>            display: flex;<br>            flex-direction: row;<br>            flex-wrap: wrap;<br>            justify-content: flex-start;<br>            width: 100%;<br>        }<br>        .wandb-col {<br>            display: flex;<br>            flex-direction: column;<br>            flex-basis: 100%;<br>            flex: 1;<br>            padding: 10px;<br>        }<br>    </style><br><div class=\"wandb-row\"><div class=\"wandb-col\"><h3>Run history:</h3><br/><table class=\"wandb\"><tr><td>class_acc_0</td><td>▁▆▅█▇▇▅█▇▆</td></tr><tr><td>class_acc_1</td><td>▆▃▆▅█▁▆▃▆▅</td></tr><tr><td>class_acc_10</td><td>█▃▅▅▁█▅▁▇▆</td></tr><tr><td>class_acc_11</td><td>▁▃▄▆█▇▇▆▇█</td></tr><tr><td>class_acc_12</td><td>▅▂▅▁█▇█▃▇▇</td></tr><tr><td>class_acc_13</td><td>▁▆█▇▄▃▆▃▅▃</td></tr><tr><td>class_acc_14</td><td>▁▇▆▆▆▆▆██▇</td></tr><tr><td>class_acc_2</td><td>▁▁▇▇▄█▆▄▅▅</td></tr><tr><td>class_acc_3</td><td>▃▄▃▄▂▄▄▁▆█</td></tr><tr><td>class_acc_4</td><td>▁▇███▆▇▇▇█</td></tr><tr><td>class_acc_5</td><td>▁▆▆▅▆▇▆█▅█</td></tr><tr><td>class_acc_6</td><td>▁▆▃▄▄█▃▅▇█</td></tr><tr><td>class_acc_7</td><td>▁▁▄▅▂█▆█▄▅</td></tr><tr><td>class_acc_8</td><td>▁▆▆▅▆▅█▅▆▇</td></tr><tr><td>class_acc_9</td><td>▃▄▁▇█▅▆▇▆▅</td></tr><tr><td>epoch</td><td>▁▂▃▃▄▅▆▆▇█</td></tr><tr><td>test_acc</td><td>▁▅▆▇▇▇▇▇██</td></tr><tr><td>test_f1_macro</td><td>▁▅▆▇▇▇▇▇██</td></tr><tr><td>test_loss</td><td>█▄▃▂▂▂▁▁▁▁</td></tr><tr><td>train_acc</td><td>▁▆▇▇▇█████</td></tr><tr><td>train_f1_macro</td><td>▁▆▇▇▇█████</td></tr><tr><td>train_loss</td><td>█▄▃▂▂▂▁▁▁▁</td></tr></table><br/></div><div class=\"wandb-col\"><h3>Run summary:</h3><br/><table class=\"wandb\"><tr><td>best_accuracy</td><td>80.69333</td></tr><tr><td>best_epoch</td><td>9</td></tr><tr><td>best_f1_macro</td><td>0.80657</td></tr><tr><td>class_acc_0</td><td>70.4</td></tr><tr><td>class_acc_1</td><td>72</td></tr><tr><td>class_acc_10</td><td>87.6</td></tr><tr><td>class_acc_11</td><td>85.6</td></tr><tr><td>class_acc_12</td><td>87.2</td></tr><tr><td>class_acc_13</td><td>87.6</td></tr><tr><td>class_acc_14</td><td>70.8</td></tr><tr><td>class_acc_2</td><td>78.8</td></tr><tr><td>class_acc_3</td><td>78.8</td></tr><tr><td>class_acc_4</td><td>88</td></tr><tr><td>class_acc_5</td><td>91.6</td></tr><tr><td>class_acc_6</td><td>84.4</td></tr><tr><td>class_acc_7</td><td>62.8</td></tr><tr><td>class_acc_8</td><td>76.8</td></tr><tr><td>class_acc_9</td><td>87.2</td></tr><tr><td>epoch</td><td>10</td></tr><tr><td>test_acc</td><td>80.64</td></tr><tr><td>test_f1_macro</td><td>0.80569</td></tr><tr><td>test_loss</td><td>0.61646</td></tr><tr><td>train_acc</td><td>78.69333</td></tr><tr><td>train_f1_macro</td><td>0.7867</td></tr><tr><td>train_loss</td><td>0.70243</td></tr></table><br/></div></div>"
            ]
          },
          "metadata": {}
        },
        {
          "output_type": "display_data",
          "data": {
            "text/plain": [
              "<IPython.core.display.HTML object>"
            ],
            "text/html": [
              " View run <strong style=\"color:#cdcd00\">ResNet-18_LR0.0005_Adam_BS64_DJ1</strong> at: <a href='https://wandb.ai/usf-guardians/GoTG_Assignment05_TransferLearning/runs/y06fvboe' target=\"_blank\">https://wandb.ai/usf-guardians/GoTG_Assignment05_TransferLearning/runs/y06fvboe</a><br> View project at: <a href='https://wandb.ai/usf-guardians/GoTG_Assignment05_TransferLearning' target=\"_blank\">https://wandb.ai/usf-guardians/GoTG_Assignment05_TransferLearning</a><br>Synced 5 W&B file(s), 10 media file(s), 20 artifact file(s) and 0 other file(s)"
            ]
          },
          "metadata": {}
        },
        {
          "output_type": "display_data",
          "data": {
            "text/plain": [
              "<IPython.core.display.HTML object>"
            ],
            "text/html": [
              "Find logs at: <code>./wandb/run-20250321_181334-y06fvboe/logs</code>"
            ]
          },
          "metadata": {}
        }
      ]
    },
    {
      "cell_type": "markdown",
      "source": [
        "## 📊 Model Training Results - ResNet-18 (Food-101 15-Class Subset)\n",
        "\n",
        "The model achieved a **best test accuracy of 80.69%** at **epoch 10**, with a **macro F1-score of 0.80657**, indicating consistent performance across all classes. Final training results show **train accuracy of 78.69%** and **test accuracy of 80.64%**, with losses of **0.702 (train) and 0.615 (test)**. The slightly higher train loss suggests the model is **generalizing well** without severe overfitting.\n",
        "\n",
        "Per-class accuracy shows strong performance in **Class 5 (both 91.6%)**, while **Class 7 had the lowest accuracy (62.8%)**, suggesting possible misclassification issues. Compared to the previous experiment, accuracy remains stable, with slight variations in class-wise performance. Further improvements can be explored by fine-tuning more layers, experimenting with data augmentation, or adjusting learning rates. 🚀\n",
        "\n",
        "\n",
        "--------------------------------------------------------------------------------"
      ],
      "metadata": {
        "id": "O42z-QxTb5av"
      }
    },
    {
      "cell_type": "markdown",
      "source": [
        "## **Trying a New Hyperparameter Combination 2 (Same Architecture)**\n",
        "Now that we have completed one experiment, we will start a new independent experiment with:\n",
        "\n",
        "✅ The same ResNet-18 architecture\n",
        "\n",
        "✅ A new learning rate\n",
        "\n",
        "✅ A different loss function\n",
        "\n",
        "✅ The Adam optimizer\n",
        "\n",
        "✅ A new batch size\n",
        "\n",
        "#### **What We Will Change in This Run**\n",
        "1. **Keep using ResNet-18** (same model architecture for consistency).\n",
        "2. **Change the loss function to Label Smoothing Cross Entropy** (label_smoothing=0.1) to make training more robust.\n",
        "3. **Keep the optimizer** as **Adam** for adaptive learning rates.\n",
        "4. **Increase batch size** from 32 to 64 for more stable updates.\n",
        "5. **Log this as a new independent run** in W&B to compare results.\n",
        "\n",
        "\n",
        "This experiment helps us understand how **hyperparameters influence performance**, keeping model architecture constant.\n",
        "\n",
        "##Run 3"
      ],
      "metadata": {
        "id": "9Imwi6mdA72v"
      }
    },
    {
      "cell_type": "code",
      "source": [
        "import torch\n",
        "import torch.optim as optim\n",
        "import torch.nn as nn\n",
        "import wandb\n",
        "import torchvision\n",
        "from sklearn.metrics import f1_score\n",
        "\n",
        "# Define device (use GPU if available)\n",
        "device = torch.device(\"cuda\" if torch.cuda.is_available() else \"cpu\")\n",
        "print(f\"Using device: {device}\")\n",
        "\n",
        "# Define new hyperparameters for this experiment\n",
        "architecture = \"ResNet-18\"\n",
        "learning_rate = 0.0005\n",
        "optimizer_name = \"Adam\"\n",
        "batch_size = 64\n",
        "epochs = 10\n",
        "\n",
        "# Use the same ResNet-18 model as before\n",
        "model = torchvision.models.resnet18(weights='IMAGENET1K_V1')\n",
        "\n",
        "# Modify the final layer for 15 classes\n",
        "num_features = model.fc.in_features\n",
        "model.fc = nn.Linear(num_features, 15)\n",
        "\n",
        "# Move model to GPU (if available)\n",
        "model = model.to(device)\n",
        "\n",
        "# Freeze all layers except the final FC layer\n",
        "for param in model.parameters():\n",
        "    param.requires_grad = False\n",
        "\n",
        "for param in model.fc.parameters():\n",
        "    param.requires_grad = True\n",
        "\n",
        "# Initialize optimizer and updated loss function\n",
        "criterion = nn.CrossEntropyLoss(label_smoothing=0.1)\n",
        "optimizer = optim.Adam(model.fc.parameters(), lr=learning_rate)\n",
        "\n",
        "# W&B Logging\n",
        "wandb.init(\n",
        "    project=\"GoTG_Assignment05_TransferLearning\",\n",
        "    entity=\"usf-guardians\",\n",
        "    name=f\"{architecture}_LR{learning_rate}_Adam_BS{batch_size}_DJ2\"\n",
        ")\n",
        "\n",
        "# 🔹 Log everything (dataset, model, hyperparameters)\n",
        "log_dataset_info(selected_classes, train_subset, test_subset, batch_size)\n",
        "log_model_info(model, num_features)\n",
        "log_training_hyperparams(learning_rate, optimizer_name, epochs)\n",
        "\n",
        "# Create a new DataLoader with updated batch size\n",
        "train_loader = torch.utils.data.DataLoader(train_subset, batch_size=batch_size, shuffle=True, num_workers=1)\n",
        "test_loader = torch.utils.data.DataLoader(test_subset, batch_size=batch_size, shuffle=False, num_workers=1)\n",
        "\n",
        "# Training function with structured logging\n",
        "def train_model(model, train_loader, test_loader, criterion, optimizer, num_epochs=10):\n",
        "    best_acc = 0.0\n",
        "\n",
        "    for epoch in range(num_epochs):\n",
        "        print(f'Epoch {epoch+1}/{num_epochs}')\n",
        "        print('-' * 10)\n",
        "\n",
        "        # Training phase\n",
        "        model.train()\n",
        "        running_loss = 0.0\n",
        "        correct = 0\n",
        "        total = 0\n",
        "        all_train_preds = []\n",
        "        all_train_labels = []\n",
        "\n",
        "        for i, (inputs, labels) in enumerate(train_loader):\n",
        "            inputs, labels = inputs.to(device), labels.to(device)\n",
        "\n",
        "            optimizer.zero_grad()\n",
        "            outputs = model(inputs)\n",
        "            loss = criterion(outputs, labels)\n",
        "            loss.backward()\n",
        "            optimizer.step()\n",
        "\n",
        "            running_loss += loss.item() * inputs.size(0)\n",
        "            _, predicted = outputs.max(1)\n",
        "            total += labels.size(0)\n",
        "            correct += predicted.eq(labels).sum().item()\n",
        "\n",
        "            all_train_preds.extend(predicted.cpu().numpy())\n",
        "            all_train_labels.extend(labels.cpu().numpy())\n",
        "\n",
        "        train_loss = running_loss / len(train_loader.dataset)\n",
        "        train_acc = 100. * correct / total\n",
        "        train_f1_macro = f1_score(all_train_labels, all_train_preds, average='macro')\n",
        "\n",
        "        # Validation phase\n",
        "        model.eval()\n",
        "        test_loss = 0.0\n",
        "        correct = 0\n",
        "        total = 0\n",
        "        class_correct = [0] * 15\n",
        "        class_total = [0] * 15\n",
        "        all_preds = []\n",
        "        all_labels = []\n",
        "\n",
        "        with torch.no_grad():\n",
        "            for inputs, labels in test_loader:\n",
        "                inputs, labels = inputs.to(device), labels.to(device)\n",
        "                outputs = model(inputs)\n",
        "                loss = criterion(outputs, labels)\n",
        "\n",
        "                test_loss += loss.item() * inputs.size(0)\n",
        "                _, predicted = outputs.max(1)\n",
        "                total += labels.size(0)\n",
        "                correct += predicted.eq(labels).sum().item()\n",
        "\n",
        "                for i in range(labels.size(0)):\n",
        "                    label = labels[i]\n",
        "                    class_correct[label] += (predicted[i] == label).item()\n",
        "                    class_total[label] += 1\n",
        "\n",
        "                all_preds.extend(predicted.cpu().numpy())\n",
        "                all_labels.extend(labels.cpu().numpy())\n",
        "\n",
        "        test_loss = test_loss / len(test_loader.dataset)\n",
        "        test_acc = 100. * correct / total\n",
        "        test_f1_macro = f1_score(all_labels, all_preds, average='macro')\n",
        "\n",
        "        # Compute per-class accuracy\n",
        "        class_acc_dict = {f\"class_acc_{i}\": 100 * class_correct[i] / class_total[i] if class_total[i] > 0 else 0 for i in range(15)}\n",
        "\n",
        "        # 🔹 Log all metrics properly\n",
        "        log_epoch_metrics(epoch, train_loss, train_acc, train_f1_macro, test_loss, test_acc, test_f1_macro, class_acc_dict)\n",
        "        log_confusion_matrix(all_labels, all_preds)\n",
        "\n",
        "        # 🔹 Save best model\n",
        "        if test_acc > best_acc:\n",
        "            best_acc = test_acc\n",
        "            best_f1 = test_f1_macro\n",
        "            log_best_model(model, epoch, best_acc, best_f1)\n",
        "\n",
        "        # 🔹 Log model artifact for each epoch\n",
        "        log_model_artifact(model, name=f\"resnet18_epoch{epoch+1}\")\n",
        "\n",
        "    print(f'Best test accuracy: {best_acc:.2f}%')\n",
        "    return model\n",
        "\n",
        "# Run the training function for this experiment\n",
        "model = train_model(model, train_loader, test_loader, criterion, optimizer, num_epochs=epochs)\n",
        "\n",
        "# Finish W&B run\n",
        "wandb.finish()"
      ],
      "metadata": {
        "colab": {
          "base_uri": "https://localhost:8080/",
          "height": 1000
        },
        "id": "WCufRydrA7C_",
        "outputId": "d31bb160-7ff2-4fea-8b24-cbeec1203666"
      },
      "execution_count": null,
      "outputs": [
        {
          "output_type": "stream",
          "name": "stdout",
          "text": [
            "Using device: cuda\n",
            "Epoch 1/10\n",
            "----------\n",
            "✅ Model artifact 'resnet18_epoch1' logged to W&B\n",
            "Epoch 2/10\n",
            "----------\n",
            "✅ Model artifact 'resnet18_epoch2' logged to W&B\n",
            "Epoch 3/10\n",
            "----------\n",
            "✅ Model artifact 'resnet18_epoch3' logged to W&B\n",
            "Epoch 4/10\n",
            "----------\n",
            "✅ Model artifact 'resnet18_epoch4' logged to W&B\n",
            "Epoch 5/10\n",
            "----------\n",
            "✅ Model artifact 'resnet18_epoch5' logged to W&B\n",
            "Epoch 6/10\n",
            "----------\n",
            "✅ Model artifact 'resnet18_epoch6' logged to W&B\n",
            "Epoch 7/10\n",
            "----------\n",
            "✅ Model artifact 'resnet18_epoch7' logged to W&B\n",
            "Epoch 8/10\n",
            "----------\n",
            "✅ Model artifact 'resnet18_epoch8' logged to W&B\n",
            "Epoch 9/10\n",
            "----------\n",
            "✅ Model artifact 'resnet18_epoch9' logged to W&B\n",
            "Epoch 10/10\n",
            "----------\n",
            "✅ Model artifact 'resnet18_epoch10' logged to W&B\n",
            "Best test accuracy: 80.83%\n"
          ]
        },
        {
          "output_type": "display_data",
          "data": {
            "text/plain": [
              "<IPython.core.display.HTML object>"
            ],
            "text/html": []
          },
          "metadata": {}
        },
        {
          "output_type": "display_data",
          "data": {
            "text/plain": [
              "<IPython.core.display.HTML object>"
            ],
            "text/html": [
              "<br>    <style><br>        .wandb-row {<br>            display: flex;<br>            flex-direction: row;<br>            flex-wrap: wrap;<br>            justify-content: flex-start;<br>            width: 100%;<br>        }<br>        .wandb-col {<br>            display: flex;<br>            flex-direction: column;<br>            flex-basis: 100%;<br>            flex: 1;<br>            padding: 10px;<br>        }<br>    </style><br><div class=\"wandb-row\"><div class=\"wandb-col\"><h3>Run history:</h3><br/><table class=\"wandb\"><tr><td>class_acc_0</td><td>▁▅▃▆▅▆▄█▅█</td></tr><tr><td>class_acc_1</td><td>▁▇▆▆▆▇▃▃▆█</td></tr><tr><td>class_acc_10</td><td>▁▅▂▂▃▂▆▂█▆</td></tr><tr><td>class_acc_11</td><td>▃▃▅▁█▇▄▇▆▆</td></tr><tr><td>class_acc_12</td><td>▆▅▇▆▅▇█▃▇▁</td></tr><tr><td>class_acc_13</td><td>▅▆▆▆▆▆▇▁█▇</td></tr><tr><td>class_acc_14</td><td>▁▄█▆▅▆▄▆▅▆</td></tr><tr><td>class_acc_2</td><td>▁▅▄▆▅▆█▆▇▆</td></tr><tr><td>class_acc_3</td><td>▄▁▃▁▄▁▇█▃▂</td></tr><tr><td>class_acc_4</td><td>▁▅▅▄█▅▆▅▇▆</td></tr><tr><td>class_acc_5</td><td>▃▃▂▁▄▆▅█▅▅</td></tr><tr><td>class_acc_6</td><td>▁▅▆█▇▇▆▇▆▇</td></tr><tr><td>class_acc_7</td><td>▁▄▁▇▆▇█▇█▆</td></tr><tr><td>class_acc_8</td><td>▁▃▄▆▇▇▇▇██</td></tr><tr><td>class_acc_9</td><td>▅▄▇▅▃▅▁▄█▆</td></tr><tr><td>epoch</td><td>▁▂▃▃▄▅▆▆▇█</td></tr><tr><td>test_acc</td><td>▁▅▅▆▇▇▇███</td></tr><tr><td>test_f1_macro</td><td>▁▅▅▇▇█▇███</td></tr><tr><td>test_loss</td><td>█▄▃▂▂▁▁▁▁▁</td></tr><tr><td>train_acc</td><td>▁▆▇▇▇█████</td></tr><tr><td>train_f1_macro</td><td>▁▆▇▇▇█████</td></tr><tr><td>train_loss</td><td>█▃▂▂▂▁▁▁▁▁</td></tr></table><br/></div><div class=\"wandb-col\"><h3>Run summary:</h3><br/><table class=\"wandb\"><tr><td>best_accuracy</td><td>80.82667</td></tr><tr><td>best_epoch</td><td>9</td></tr><tr><td>best_f1_macro</td><td>0.80745</td></tr><tr><td>class_acc_0</td><td>79.6</td></tr><tr><td>class_acc_1</td><td>77.6</td></tr><tr><td>class_acc_10</td><td>89.2</td></tr><tr><td>class_acc_11</td><td>86.4</td></tr><tr><td>class_acc_12</td><td>78.8</td></tr><tr><td>class_acc_13</td><td>92</td></tr><tr><td>class_acc_14</td><td>73.2</td></tr><tr><td>class_acc_2</td><td>74.8</td></tr><tr><td>class_acc_3</td><td>67.2</td></tr><tr><td>class_acc_4</td><td>84.4</td></tr><tr><td>class_acc_5</td><td>88.8</td></tr><tr><td>class_acc_6</td><td>83.2</td></tr><tr><td>class_acc_7</td><td>64</td></tr><tr><td>class_acc_8</td><td>80.4</td></tr><tr><td>class_acc_9</td><td>88</td></tr><tr><td>epoch</td><td>10</td></tr><tr><td>test_acc</td><td>80.50667</td></tr><tr><td>test_f1_macro</td><td>0.80486</td></tr><tr><td>test_loss</td><td>1.11738</td></tr><tr><td>train_acc</td><td>78.94222</td></tr><tr><td>train_f1_macro</td><td>0.78934</td></tr><tr><td>train_loss</td><td>1.16816</td></tr></table><br/></div></div>"
            ]
          },
          "metadata": {}
        },
        {
          "output_type": "display_data",
          "data": {
            "text/plain": [
              "<IPython.core.display.HTML object>"
            ],
            "text/html": [
              " View run <strong style=\"color:#cdcd00\">ResNet-18_LR0.0005_Adam_BS64_DJ2</strong> at: <a href='https://wandb.ai/usf-guardians/GoTG_Assignment05_TransferLearning/runs/ydwxcr79' target=\"_blank\">https://wandb.ai/usf-guardians/GoTG_Assignment05_TransferLearning/runs/ydwxcr79</a><br> View project at: <a href='https://wandb.ai/usf-guardians/GoTG_Assignment05_TransferLearning' target=\"_blank\">https://wandb.ai/usf-guardians/GoTG_Assignment05_TransferLearning</a><br>Synced 5 W&B file(s), 10 media file(s), 56 artifact file(s) and 0 other file(s)"
            ]
          },
          "metadata": {}
        },
        {
          "output_type": "display_data",
          "data": {
            "text/plain": [
              "<IPython.core.display.HTML object>"
            ],
            "text/html": [
              "Find logs at: <code>./wandb/run-20250321_182011-ydwxcr79/logs</code>"
            ]
          },
          "metadata": {}
        }
      ]
    },
    {
      "cell_type": "markdown",
      "source": [
        "## 📊 Model Training Results - ResNet-18 (Food-101 15-Class Subset) - Combination 2\n",
        "\n",
        "The model achieved a **best test accuracy of 80.82%** at **epoch 10**, with a **macro F1-score of 0.8074**, indicating consistent performance across all classes. Final training results show **train accuracy of 78.94%** and **test accuracy of 80.50%**, with losses of **1.16 (train) and 1.11 (test)**. The slightly higher train loss suggests the model is **generalizing well** without severe overfitting.\n",
        "\n",
        "Per-class accuracy shows strong performance in **Class 13 (both 92%)**, while **Class 3 had the lowest accuracy (67.2%)**, suggesting possible misclassification issues. Compared to the previous experiment, accuracy remains stable, with slight variations in class-wise performance. Further improvements can be explored by fine-tuning more layers, experimenting with data augmentation, or adjusting learning rates. 🚀\n",
        "\n",
        "\n",
        "--------------------------------------------------------------------------------"
      ],
      "metadata": {
        "id": "0khSH5RQe_Q_"
      }
    },
    {
      "cell_type": "markdown",
      "source": [
        "## **Trying a New Hyperparameter Combination 3 (Same Architecture)**\n",
        "Now that we have completed one experiment, we will start a new independent experiment with:\n",
        "\n",
        "✅ The same ResNet-18 architecture\n",
        "\n",
        "✅ A new learning rate\n",
        "\n",
        "✅ A different loss function\n",
        "\n",
        "✅ The Adam optimizer\n",
        "\n",
        "✅ A new batch size\n",
        "\n",
        "#### **What We Will Change in This Run**\n",
        "1. **Keep using ResNet-18** (same model architecture for consistency).\n",
        "2. **Change the loss function to Label Smoothing Cross Entropy** (label_smoothing=0.1) to make training more robust.\n",
        "3. **Change the optimizer** from Adam to **SGD with Momentum** (momentum=0.9) to improve convergence stability.\n",
        "4. **Same batch size** of 64 for more stable updates.\n",
        "5. **Increase epochs** from 10 to 15 for better convergence.\n",
        "6. **Log this as a new independent run** in W&B to compare results.\n",
        "\n",
        "\n",
        "This experiment helps us understand how **hyperparameters influence performance**, keeping model architecture constant.\n",
        "\n",
        "##Run 4"
      ],
      "metadata": {
        "id": "idZv-6lHCwSk"
      }
    },
    {
      "cell_type": "code",
      "source": [
        "import torch\n",
        "import torch.optim as optim\n",
        "import torch.nn as nn\n",
        "import wandb\n",
        "import torchvision\n",
        "from sklearn.metrics import f1_score\n",
        "\n",
        "# Define device (use GPU if available)\n",
        "device = torch.device(\"cuda\" if torch.cuda.is_available() else \"cpu\")\n",
        "print(f\"Using device: {device}\")\n",
        "\n",
        "# Define new hyperparameters for this experiment\n",
        "architecture = \"ResNet-18\"\n",
        "learning_rate = 0.0005\n",
        "optimizer_name = \"SGD\"\n",
        "batch_size = 64\n",
        "epochs = 15\n",
        "\n",
        "# Use the same ResNet-18 model as before\n",
        "model = torchvision.models.resnet18(weights='IMAGENET1K_V1')\n",
        "\n",
        "# Modify the final layer for 15 classes\n",
        "num_features = model.fc.in_features\n",
        "model.fc = nn.Linear(num_features, 15)\n",
        "\n",
        "# Move model to GPU (if available)\n",
        "model = model.to(device)\n",
        "\n",
        "# Freeze all layers except the final FC layer\n",
        "for param in model.parameters():\n",
        "    param.requires_grad = False\n",
        "\n",
        "for param in model.fc.parameters():\n",
        "    param.requires_grad = True\n",
        "\n",
        "# Initialize optimizer and updated loss function\n",
        "criterion = nn.CrossEntropyLoss(label_smoothing=0.1)\n",
        "optimizer = optim.SGD(model.fc.parameters(), lr=learning_rate, momentum=0.9)\n",
        "\n",
        "# W&B Logging\n",
        "wandb.init(\n",
        "    project=\"GoTG_Assignment05_TransferLearning\",\n",
        "    entity=\"usf-guardians\",\n",
        "    name=f\"{architecture}_LR{learning_rate}_SGD_BS{batch_size}\"\n",
        ")\n",
        "\n",
        "\n",
        "# 🔹 Log everything (dataset, model, hyperparameters)\n",
        "log_dataset_info(selected_classes, train_subset, test_subset, batch_size)\n",
        "log_model_info(model, num_features)\n",
        "log_training_hyperparams(learning_rate, optimizer_name, epochs)\n",
        "\n",
        "# Create a new DataLoader with updated batch size\n",
        "train_loader = torch.utils.data.DataLoader(train_subset, batch_size=batch_size, shuffle=True, num_workers=2)\n",
        "test_loader = torch.utils.data.DataLoader(test_subset, batch_size=batch_size, shuffle=False, num_workers=2)\n",
        "\n",
        "# Training function with structured logging\n",
        "def train_model(model, train_loader, test_loader, criterion, optimizer, num_epochs=10):\n",
        "    best_acc = 0.0\n",
        "\n",
        "    for epoch in range(num_epochs):\n",
        "        print(f'Epoch {epoch+1}/{num_epochs}')\n",
        "        print('-' * 10)\n",
        "\n",
        "        # Training phase\n",
        "        model.train()\n",
        "        running_loss = 0.0\n",
        "        correct = 0\n",
        "        total = 0\n",
        "        all_train_preds = []\n",
        "        all_train_labels = []\n",
        "\n",
        "        for i, (inputs, labels) in enumerate(train_loader):\n",
        "            inputs, labels = inputs.to(device), labels.to(device)\n",
        "\n",
        "            optimizer.zero_grad()\n",
        "            outputs = model(inputs)\n",
        "            loss = criterion(outputs, labels)\n",
        "            loss.backward()\n",
        "            optimizer.step()\n",
        "\n",
        "            running_loss += loss.item() * inputs.size(0)\n",
        "            _, predicted = outputs.max(1)\n",
        "            total += labels.size(0)\n",
        "            correct += predicted.eq(labels).sum().item()\n",
        "\n",
        "            all_train_preds.extend(predicted.cpu().numpy())\n",
        "            all_train_labels.extend(labels.cpu().numpy())\n",
        "\n",
        "        train_loss = running_loss / len(train_loader.dataset)\n",
        "        train_acc = 100. * correct / total\n",
        "        train_f1_macro = f1_score(all_train_labels, all_train_preds, average='macro')\n",
        "\n",
        "        # Validation phase\n",
        "        model.eval()\n",
        "        test_loss = 0.0\n",
        "        correct = 0\n",
        "        total = 0\n",
        "        class_correct = [0] * 15\n",
        "        class_total = [0] * 15\n",
        "        all_preds = []\n",
        "        all_labels = []\n",
        "\n",
        "        with torch.no_grad():\n",
        "            for inputs, labels in test_loader:\n",
        "                inputs, labels = inputs.to(device), labels.to(device)\n",
        "                outputs = model(inputs)\n",
        "                loss = criterion(outputs, labels)\n",
        "\n",
        "                test_loss += loss.item() * inputs.size(0)\n",
        "                _, predicted = outputs.max(1)\n",
        "                total += labels.size(0)\n",
        "                correct += predicted.eq(labels).sum().item()\n",
        "\n",
        "                for i in range(labels.size(0)):\n",
        "                    label = labels[i]\n",
        "                    class_correct[label] += (predicted[i] == label).item()\n",
        "                    class_total[label] += 1\n",
        "\n",
        "                all_preds.extend(predicted.cpu().numpy())\n",
        "                all_labels.extend(labels.cpu().numpy())\n",
        "\n",
        "        test_loss = test_loss / len(test_loader.dataset)\n",
        "        test_acc = 100. * correct / total\n",
        "        test_f1_macro = f1_score(all_labels, all_preds, average='macro')\n",
        "\n",
        "        # Compute per-class accuracy\n",
        "        class_acc_dict = {f\"class_acc_{i}\": 100 * class_correct[i] / class_total[i] if class_total[i] > 0 else 0 for i in range(15)}\n",
        "\n",
        "        # 🔹 Log all metrics properly\n",
        "        log_epoch_metrics(epoch, train_loss, train_acc, train_f1_macro, test_loss, test_acc, test_f1_macro, class_acc_dict)\n",
        "        log_confusion_matrix(all_labels, all_preds)\n",
        "\n",
        "        # 🔹 Save best model\n",
        "        if test_acc > best_acc:\n",
        "            best_acc = test_acc\n",
        "            best_f1 = test_f1_macro\n",
        "            log_best_model(model, epoch, best_acc, best_f1)\n",
        "\n",
        "        # 🔹 Log model artifact for each epoch\n",
        "        log_model_artifact(model, name=f\"resnet18_epoch{epoch+1}\")\n",
        "\n",
        "    print(f'Best test accuracy: {best_acc:.2f}%')\n",
        "    return model\n",
        "\n",
        "# Run the training function for this experiment\n",
        "model = train_model(model, train_loader, test_loader, criterion, optimizer, num_epochs=epochs)\n",
        "\n",
        "# Finish W&B run\n",
        "wandb.finish()"
      ],
      "metadata": {
        "colab": {
          "base_uri": "https://localhost:8080/",
          "height": 1000
        },
        "id": "58kFM9AZKz2Z",
        "outputId": "a9ffa63d-1f3c-4a7a-928e-395b199d3169"
      },
      "execution_count": null,
      "outputs": [
        {
          "output_type": "stream",
          "name": "stdout",
          "text": [
            "Using device: cuda\n"
          ]
        },
        {
          "output_type": "display_data",
          "data": {
            "text/plain": [
              "<IPython.core.display.HTML object>"
            ],
            "text/html": [
              "Tracking run with wandb version 0.19.8"
            ]
          },
          "metadata": {}
        },
        {
          "output_type": "display_data",
          "data": {
            "text/plain": [
              "<IPython.core.display.HTML object>"
            ],
            "text/html": [
              "Run data is saved locally in <code>/content/wandb/run-20250321_183438-m3rla15b</code>"
            ]
          },
          "metadata": {}
        },
        {
          "output_type": "display_data",
          "data": {
            "text/plain": [
              "<IPython.core.display.HTML object>"
            ],
            "text/html": [
              "Syncing run <strong><a href='https://wandb.ai/usf-guardians/GoTG_Assignment05_TransferLearning/runs/m3rla15b' target=\"_blank\">ResNet-18_LR0.0005_SGD_BS64</a></strong> to <a href='https://wandb.ai/usf-guardians/GoTG_Assignment05_TransferLearning' target=\"_blank\">Weights & Biases</a> (<a href='https://wandb.me/developer-guide' target=\"_blank\">docs</a>)<br>"
            ]
          },
          "metadata": {}
        },
        {
          "output_type": "display_data",
          "data": {
            "text/plain": [
              "<IPython.core.display.HTML object>"
            ],
            "text/html": [
              " View project at <a href='https://wandb.ai/usf-guardians/GoTG_Assignment05_TransferLearning' target=\"_blank\">https://wandb.ai/usf-guardians/GoTG_Assignment05_TransferLearning</a>"
            ]
          },
          "metadata": {}
        },
        {
          "output_type": "display_data",
          "data": {
            "text/plain": [
              "<IPython.core.display.HTML object>"
            ],
            "text/html": [
              " View run at <a href='https://wandb.ai/usf-guardians/GoTG_Assignment05_TransferLearning/runs/m3rla15b' target=\"_blank\">https://wandb.ai/usf-guardians/GoTG_Assignment05_TransferLearning/runs/m3rla15b</a>"
            ]
          },
          "metadata": {}
        },
        {
          "output_type": "stream",
          "name": "stdout",
          "text": [
            "Epoch 1/15\n",
            "----------\n",
            "✅ Model artifact 'resnet18_epoch1' logged to W&B\n",
            "Epoch 2/15\n",
            "----------\n",
            "✅ Model artifact 'resnet18_epoch2' logged to W&B\n",
            "Epoch 3/15\n",
            "----------\n",
            "✅ Model artifact 'resnet18_epoch3' logged to W&B\n",
            "Epoch 4/15\n",
            "----------\n",
            "✅ Model artifact 'resnet18_epoch4' logged to W&B\n",
            "Epoch 5/15\n",
            "----------\n",
            "✅ Model artifact 'resnet18_epoch5' logged to W&B\n",
            "Epoch 6/15\n",
            "----------\n",
            "✅ Model artifact 'resnet18_epoch6' logged to W&B\n",
            "Epoch 7/15\n",
            "----------\n",
            "✅ Model artifact 'resnet18_epoch7' logged to W&B\n",
            "Epoch 8/15\n",
            "----------\n",
            "✅ Model artifact 'resnet18_epoch8' logged to W&B\n",
            "Epoch 9/15\n",
            "----------\n",
            "✅ Model artifact 'resnet18_epoch9' logged to W&B\n",
            "Epoch 10/15\n",
            "----------\n",
            "✅ Model artifact 'resnet18_epoch10' logged to W&B\n",
            "Epoch 11/15\n",
            "----------\n",
            "✅ Model artifact 'resnet18_epoch11' logged to W&B\n",
            "Epoch 12/15\n",
            "----------\n",
            "✅ Model artifact 'resnet18_epoch12' logged to W&B\n",
            "Epoch 13/15\n",
            "----------\n",
            "✅ Model artifact 'resnet18_epoch13' logged to W&B\n",
            "Epoch 14/15\n",
            "----------\n",
            "✅ Model artifact 'resnet18_epoch14' logged to W&B\n",
            "Epoch 15/15\n",
            "----------\n",
            "✅ Model artifact 'resnet18_epoch15' logged to W&B\n",
            "Best test accuracy: 79.49%\n"
          ]
        },
        {
          "output_type": "display_data",
          "data": {
            "text/plain": [
              "<IPython.core.display.HTML object>"
            ],
            "text/html": []
          },
          "metadata": {}
        },
        {
          "output_type": "display_data",
          "data": {
            "text/plain": [
              "<IPython.core.display.HTML object>"
            ],
            "text/html": [
              "<br>    <style><br>        .wandb-row {<br>            display: flex;<br>            flex-direction: row;<br>            flex-wrap: wrap;<br>            justify-content: flex-start;<br>            width: 100%;<br>        }<br>        .wandb-col {<br>            display: flex;<br>            flex-direction: column;<br>            flex-basis: 100%;<br>            flex: 1;<br>            padding: 10px;<br>        }<br>    </style><br><div class=\"wandb-row\"><div class=\"wandb-col\"><h3>Run history:</h3><br/><table class=\"wandb\"><tr><td>class_acc_0</td><td>▁▄▃▆▇▇▇██▆▇▇▇▇▇</td></tr><tr><td>class_acc_1</td><td>▁▆█▆▄▆▃▅▆▅▅▅▆▅▅</td></tr><tr><td>class_acc_10</td><td>▁▅▆▅▇▇▆▆▇▇█▇▇▇▇</td></tr><tr><td>class_acc_11</td><td>▁▃▇▆▆██▆▇█▇▇█▇▇</td></tr><tr><td>class_acc_12</td><td>▁▄█▇▅▇▇▆▇▇▇▆▆█▆</td></tr><tr><td>class_acc_13</td><td>▁▆▅▃▆▅▆▅▅▇▆▇█▆▆</td></tr><tr><td>class_acc_14</td><td>▁▄▆▇▇▇▇█▇▇▇████</td></tr><tr><td>class_acc_2</td><td>▁▄▄▇▇▆▇▇▆▇▇█▆▇▇</td></tr><tr><td>class_acc_3</td><td>▁▇▆▇▆▇▆▇███▇▇██</td></tr><tr><td>class_acc_4</td><td>▁▅▅▆▇▇▇████▇███</td></tr><tr><td>class_acc_5</td><td>▁▆█▇▇██▇█▇▇█▇▇█</td></tr><tr><td>class_acc_6</td><td>▁▅▅▇▇▆▇▇▇▇█▇▇▇█</td></tr><tr><td>class_acc_7</td><td>▁▃▁▅▇▆██▇█▇▇▇██</td></tr><tr><td>class_acc_8</td><td>▁▃▆▅▆▇▇▇█▇▇▇█▇▇</td></tr><tr><td>class_acc_9</td><td>▁▅▆▇▆▇▇▇▇█▇█▇▇█</td></tr><tr><td>epoch</td><td>▁▁▂▃▃▃▄▅▅▅▆▇▇▇█</td></tr><tr><td>test_acc</td><td>▁▅▆▇▇▇▇████████</td></tr><tr><td>test_f1_macro</td><td>▁▅▆▇▇▇▇████████</td></tr><tr><td>test_loss</td><td>█▅▄▃▂▂▂▂▁▁▁▁▁▁▁</td></tr><tr><td>train_acc</td><td>▁▅▆▇▇▇▇████████</td></tr><tr><td>train_f1_macro</td><td>▁▅▆▇▇▇▇████████</td></tr><tr><td>train_loss</td><td>█▅▃▃▂▂▂▂▁▁▁▁▁▁▁</td></tr></table><br/></div><div class=\"wandb-col\"><h3>Run summary:</h3><br/><table class=\"wandb\"><tr><td>best_accuracy</td><td>79.49333</td></tr><tr><td>best_epoch</td><td>15</td></tr><tr><td>best_f1_macro</td><td>0.7942</td></tr><tr><td>class_acc_0</td><td>73.2</td></tr><tr><td>class_acc_1</td><td>72.8</td></tr><tr><td>class_acc_10</td><td>88.8</td></tr><tr><td>class_acc_11</td><td>82</td></tr><tr><td>class_acc_12</td><td>82</td></tr><tr><td>class_acc_13</td><td>90.4</td></tr><tr><td>class_acc_14</td><td>69.6</td></tr><tr><td>class_acc_2</td><td>78</td></tr><tr><td>class_acc_3</td><td>74</td></tr><tr><td>class_acc_4</td><td>86.4</td></tr><tr><td>class_acc_5</td><td>90.4</td></tr><tr><td>class_acc_6</td><td>81.2</td></tr><tr><td>class_acc_7</td><td>62.4</td></tr><tr><td>class_acc_8</td><td>71.6</td></tr><tr><td>class_acc_9</td><td>89.6</td></tr><tr><td>epoch</td><td>15</td></tr><tr><td>test_acc</td><td>79.49333</td></tr><tr><td>test_f1_macro</td><td>0.7942</td></tr><tr><td>test_loss</td><td>1.15083</td></tr><tr><td>train_acc</td><td>76.59556</td></tr><tr><td>train_f1_macro</td><td>0.76565</td></tr><tr><td>train_loss</td><td>1.22709</td></tr></table><br/></div></div>"
            ]
          },
          "metadata": {}
        },
        {
          "output_type": "display_data",
          "data": {
            "text/plain": [
              "<IPython.core.display.HTML object>"
            ],
            "text/html": [
              " View run <strong style=\"color:#cdcd00\">ResNet-18_LR0.0005_SGD_BS64</strong> at: <a href='https://wandb.ai/usf-guardians/GoTG_Assignment05_TransferLearning/runs/m3rla15b' target=\"_blank\">https://wandb.ai/usf-guardians/GoTG_Assignment05_TransferLearning/runs/m3rla15b</a><br> View project at: <a href='https://wandb.ai/usf-guardians/GoTG_Assignment05_TransferLearning' target=\"_blank\">https://wandb.ai/usf-guardians/GoTG_Assignment05_TransferLearning</a><br>Synced 5 W&B file(s), 15 media file(s), 84 artifact file(s) and 0 other file(s)"
            ]
          },
          "metadata": {}
        },
        {
          "output_type": "display_data",
          "data": {
            "text/plain": [
              "<IPython.core.display.HTML object>"
            ],
            "text/html": [
              "Find logs at: <code>./wandb/run-20250321_183438-m3rla15b/logs</code>"
            ]
          },
          "metadata": {}
        }
      ]
    },
    {
      "cell_type": "markdown",
      "source": [
        "## 📊 Model Training Results - ResNet-18 (Food-101 15-Class Subset) - Combination 3\n",
        "\n",
        "The model achieved a **best test accuracy of 79.49%** at **epoch 15**, with a **macro F1-score of 0.7942**, indicating consistent performance across all classes. Final training results show **train accuracy of 76.59%** and **test accuracy of 79.49%**, with losses of **1.22 (train) and 1.15 (test)**. The slightly higher train loss suggests the model is **generalizing well** without severe overfitting.\n",
        "\n",
        "Per-class accuracy shows strong performance in **Class 5 and Class 13 (both 90.4%)**, while **Class 7 had the lowest accuracy (62.4%)**, suggesting possible misclassification issues. Compared to the previous experiment, accuracy remains stable, with slight variations in class-wise performance. Further improvements can be explored by fine-tuning more layers, experimenting with data augmentation, or adjusting learning rates. 🚀\n",
        "\n",
        "\n",
        "--------------------------------------------------------------------------------"
      ],
      "metadata": {
        "id": "B7yCREG3f4df"
      }
    },
    {
      "cell_type": "markdown",
      "source": [
        "# Phase 2 - I\n",
        "- Loaded the best checkpoint from Phase 1.  \n",
        "- Unfroze Layer4 and FC layer for fine-tuning while keeping earlier layers frozen.  \n",
        "- Conducted two fine-tuning experiments with different hyperparameters per run.  \n",
        "\n",
        "## **Fine-Tuning More Layers & Running Another Experiment**  \n",
        "Now that we have tested different hyperparameters, it's time to **unlock more layers for fine-tuning** and run another experiment.  \n",
        "\n",
        "#### **What We Will Do in This Run**  \n",
        "1. **Load the previously trained model** and resume training.  \n",
        "2. **Unfreeze ResNet's last block (layer4) along with the final fully connected (fc) layer** to allow fine-tuning.  \n",
        "3. **Use a smaller learning rate** for better control:  \n",
        "   - Lower LR (`0.0002`) for **layer4** (to prevent drastic weight updates).  \n",
        "   - Slightly higher LR (`0.0015`) for **fc layer** (to allow better adaptation).  \n",
        "4. **Run another independent experiment in W&B**, logging:  \n",
        "   - Training & validation metrics (loss, accuracy, F1-score).  \n",
        "   - **Confusion matrix & per-class accuracy**.  \n",
        "   - **Best model artifact to W&B** for tracking & reproducibility.  \n",
        "\n",
        "This fine-tuning phase helps **improve model performance while avoiding catastrophic forgetting**.  \n",
        "\n",
        "## Run 5  "
      ],
      "metadata": {
        "id": "LU7BpCdYhct0"
      }
    },
    {
      "cell_type": "code",
      "source": [
        "import torch\n",
        "import torch.optim as optim\n",
        "import torch.nn as nn\n",
        "import wandb\n",
        "import torchvision\n",
        "from sklearn.metrics import f1_score\n",
        "from torch.optim.lr_scheduler import StepLR\n",
        "\n",
        "# Define device (use GPU if available)\n",
        "device = torch.device(\"cuda\" if torch.cuda.is_available() else \"cpu\")\n",
        "print(f\"Using device: {device}\")\n",
        "\n",
        "# 🔹 New Fine-tuning Hyperparameters for this experiment\n",
        "architecture = \"ResNet-18\"\n",
        "fine_tune_epochs = 5                 # Slightly longer training\n",
        "learning_rate_layer4 = 0.0002         # Lower LR for layer4\n",
        "learning_rate_fc = 0.0015             # Higher LR for fc\n",
        "weight_decay = 1e-5                   # Small weight decay\n",
        "step_size = 5                         # Scheduler step size\n",
        "gamma = 0.5                           # Scheduler decay rate\n",
        "\n",
        "# Load pretrained ResNet-18 model\n",
        "model = torchvision.models.resnet18(weights='IMAGENET1K_V1')\n",
        "model.fc = nn.Linear(model.fc.in_features, 15)\n",
        "model = model.to(device)\n",
        "\n",
        "# Unfreeze layer4 and fc for fine-tuning\n",
        "for param in model.parameters():\n",
        "    param.requires_grad = False\n",
        "\n",
        "for param in model.layer4.parameters():\n",
        "    param.requires_grad = True\n",
        "\n",
        "for param in model.fc.parameters():\n",
        "    param.requires_grad = True\n",
        "\n",
        "# 🔹 Optimizer: RMSprop (new optimizer choice for variety)\n",
        "optimizer = optim.RMSprop([\n",
        "    {'params': model.layer4.parameters(), 'lr': learning_rate_layer4},\n",
        "    {'params': model.fc.parameters(), 'lr': learning_rate_fc}\n",
        "], weight_decay=weight_decay, momentum=0.9)\n",
        "\n",
        "# 🔹 Learning Rate Scheduler\n",
        "scheduler = StepLR(optimizer, step_size=step_size, gamma=gamma)\n",
        "\n",
        "# 🔹 Start a new W&B run for this fine-tuning experiment\n",
        "wandb.init(\n",
        "    project=\"GoTG_Assignment05_TransferLearning\",\n",
        "    entity=\"usf-guardians\",\n",
        "    name=\"ResNet18_FineTune_Experiment4_RMSprop\"\n",
        ")\n",
        "\n",
        "# 🔹 Log dataset, model, and hyperparameters\n",
        "log_dataset_info(selected_classes, train_subset, test_subset, batch_size)\n",
        "log_model_info(model, model.fc.in_features)\n",
        "log_training_hyperparams(f\"{learning_rate_fc} (with scheduler)\", \"RMSprop (momentum=0.9, wd=1e-5)\", fine_tune_epochs)\n",
        "\n",
        "# Training function with LR scheduler support\n",
        "def train_model(model, train_loader, test_loader, criterion, optimizer, scheduler, num_epochs=5):\n",
        "    best_acc = 0.0\n",
        "\n",
        "    for epoch in range(num_epochs):\n",
        "        print(f'Epoch {epoch+1}/{num_epochs}')\n",
        "        print('-' * 10)\n",
        "\n",
        "        model.train()\n",
        "        running_loss = 0.0\n",
        "        correct = 0\n",
        "        total = 0\n",
        "        all_train_preds = []\n",
        "        all_train_labels = []\n",
        "\n",
        "        for inputs, labels in train_loader:\n",
        "            inputs, labels = inputs.to(device), labels.to(device)\n",
        "\n",
        "            optimizer.zero_grad()\n",
        "            outputs = model(inputs)\n",
        "            loss = criterion(outputs, labels)\n",
        "            loss.backward()\n",
        "            optimizer.step()\n",
        "\n",
        "            running_loss += loss.item() * inputs.size(0)\n",
        "            _, predicted = outputs.max(1)\n",
        "            total += labels.size(0)\n",
        "            correct += predicted.eq(labels).sum().item()\n",
        "\n",
        "            all_train_preds.extend(predicted.cpu().numpy())\n",
        "            all_train_labels.extend(labels.cpu().numpy())\n",
        "\n",
        "        scheduler.step()  # 🔹 Step the scheduler every epoch\n",
        "\n",
        "        train_loss = running_loss / len(train_loader.dataset)\n",
        "        train_acc = 100. * correct / total\n",
        "        train_f1_macro = f1_score(all_train_labels, all_train_preds, average='macro')\n",
        "\n",
        "        # Validation phase\n",
        "        model.eval()\n",
        "        test_loss = 0.0\n",
        "        correct = 0\n",
        "        total = 0\n",
        "        class_correct = [0] * 15\n",
        "        class_total = [0] * 15\n",
        "        all_preds = []\n",
        "        all_labels = []\n",
        "\n",
        "        with torch.no_grad():\n",
        "            for inputs, labels in test_loader:\n",
        "                inputs, labels = inputs.to(device), labels.to(device)\n",
        "                outputs = model(inputs)\n",
        "                loss = criterion(outputs, labels)\n",
        "\n",
        "                test_loss += loss.item() * inputs.size(0)\n",
        "                _, predicted = outputs.max(1)\n",
        "                total += labels.size(0)\n",
        "                correct += predicted.eq(labels).sum().item()\n",
        "\n",
        "                for i in range(labels.size(0)):\n",
        "                    label = labels[i]\n",
        "                    class_correct[label] += (predicted[i] == label).item()\n",
        "                    class_total[label] += 1\n",
        "\n",
        "                all_preds.extend(predicted.cpu().numpy())\n",
        "                all_labels.extend(labels.cpu().numpy())\n",
        "\n",
        "        test_loss = test_loss / len(test_loader.dataset)\n",
        "        test_acc = 100. * correct / total\n",
        "        test_f1_macro = f1_score(all_labels, all_preds, average='macro')\n",
        "\n",
        "        # Per-class accuracy\n",
        "        class_acc_dict = {f\"class_acc_{i}\": 100 * class_correct[i] / class_total[i] if class_total[i] > 0 else 0 for i in range(15)}\n",
        "\n",
        "        # 🔹 Log metrics and confusion matrix\n",
        "        log_epoch_metrics(epoch, train_loss, train_acc, train_f1_macro, test_loss, test_acc, test_f1_macro, class_acc_dict)\n",
        "        log_confusion_matrix(all_labels, all_preds)\n",
        "\n",
        "        # 🔹 Save best model\n",
        "        if test_acc > best_acc:\n",
        "            best_acc = test_acc\n",
        "            log_best_model(model, epoch, best_acc, test_f1_macro)\n",
        "\n",
        "        # 🔹 Log model artifact per epoch\n",
        "        log_model_artifact(model, name=f\"resnet18_finetune_exp4_epoch{epoch+1}\")\n",
        "\n",
        "    print(f'Best test accuracy: {best_acc:.2f}%')\n",
        "    return model\n",
        "\n",
        "# Loss function\n",
        "criterion = nn.CrossEntropyLoss()\n",
        "\n",
        "# 🔹 Train model with scheduler\n",
        "model = train_model(model, train_loader, test_loader, criterion, optimizer, scheduler, num_epochs=fine_tune_epochs)\n",
        "\n",
        "# 🔹 Finish W&B run\n",
        "wandb.finish()\n"
      ],
      "metadata": {
        "id": "y5Ccz8x9gqTK"
      },
      "execution_count": null,
      "outputs": []
    },
    {
      "cell_type": "markdown",
      "source": [
        "#Phase 2 - II\n",
        "- Loaded the best checkpoint from Phase 1.  \n",
        "- Unfroze Layer4 and FC layer for fine-tuning while keeping earlier layers frozen.  \n",
        "- Conducted two fine-tuning experiments with different hyperparameters per run.  \n",
        "\n",
        "## **Fine-Tuning More Layers & Running Another Experiment**  \n",
        "Now that we have tested different hyperparameters, it's time to **unlock more layers for fine-tuning** and run another experiment.  \n",
        "\n",
        "#### **What We Will Do in This Run**  \n",
        "1. **Load the previously trained model** and resume training.  \n",
        "2. **Unfreeze ResNet's last block (layer4) along with the final fully connected (fc) layer** to allow fine-tuning.  \n",
        "3. **Adjusting learning rate**:  \n",
        "   - Higher LR (`0.0007`) for **layer4**.  \n",
        "   - Moderate LR (`0.001`) for **fc layer** for stable adaptation.  \n",
        "4. **Run another independent experiment in W&B**, logging:  \n",
        "   - Training & validation metrics (loss, accuracy, F1-score).  \n",
        "   - **Confusion matrix & per-class accuracy**.  \n",
        "   - **Best model artifact to W&B** for tracking & reproducibility.  \n",
        "\n",
        "This fine-tuning phase helps **improve model performance while avoiding catastrophic forgetting**.  \n",
        "\n",
        "## Run 6"
      ],
      "metadata": {
        "id": "Jbr3BTnIi0aJ"
      }
    },
    {
      "cell_type": "code",
      "source": [
        "import torch\n",
        "import torch.optim as optim\n",
        "import torch.nn as nn\n",
        "import wandb\n",
        "import torchvision\n",
        "from sklearn.metrics import f1_score\n",
        "from torch.optim.lr_scheduler import CosineAnnealingLR\n",
        "\n",
        "# Define device (use GPU if available)\n",
        "device = torch.device(\"cuda\" if torch.cuda.is_available() else \"cpu\")\n",
        "print(f\"Using device: {device}\")\n",
        "\n",
        "# 🔹 Fine-tuning Hyperparameters for Experiment 5\n",
        "architecture = \"ResNet-18\"\n",
        "fine_tune_epochs = 10                 # Testing slightly longer fine-tuning\n",
        "learning_rate_layer4 = 0.0007         # Higher LR for layer4\n",
        "learning_rate_fc = 0.001              # Moderate LR for fc\n",
        "weight_decay = 1e-3                   # Higher weight decay for regularization\n",
        "\n",
        "# Load pretrained ResNet-18 model\n",
        "model = torchvision.models.resnet18(weights='IMAGENET1K_V1')\n",
        "model.fc = nn.Linear(model.fc.in_features, 15)\n",
        "model = model.to(device)\n",
        "\n",
        "# Unfreeze layer4 and fc for fine-tuning\n",
        "for param in model.parameters():\n",
        "    param.requires_grad = False\n",
        "\n",
        "for param in model.layer4.parameters():\n",
        "    param.requires_grad = True\n",
        "\n",
        "for param in model.fc.parameters():\n",
        "    param.requires_grad = True\n",
        "\n",
        "# 🔹 Optimizer: Adamax (different optimizer) with higher weight decay\n",
        "optimizer = optim.Adamax([\n",
        "    {'params': model.layer4.parameters(), 'lr': learning_rate_layer4},\n",
        "    {'params': model.fc.parameters(), 'lr': learning_rate_fc}\n",
        "], weight_decay=weight_decay)\n",
        "\n",
        "# 🔹 Cosine Annealing LR Scheduler for smooth LR decay\n",
        "scheduler = CosineAnnealingLR(optimizer, T_max=fine_tune_epochs)\n",
        "\n",
        "# 🔹 Start a new W&B run for Experiment 5\n",
        "wandb.init(\n",
        "    project=\"GoTG_Assignment05_TransferLearning\",\n",
        "    entity=\"usf-guardians\",\n",
        "    name=\"ResNet18_FineTune_Experiment5_Adamax\"\n",
        ")\n",
        "\n",
        "# 🔹 Log dataset, model, and hyperparameters\n",
        "log_dataset_info(selected_classes, train_subset, test_subset, batch_size)\n",
        "log_model_info(model, model.fc.in_features)\n",
        "log_training_hyperparams(f\"{learning_rate_fc} (Cosine Annealing)\", \"Adamax (weight_decay=1e-3)\", fine_tune_epochs)\n",
        "\n",
        "# Training function\n",
        "def train_model(model, train_loader, test_loader, criterion, optimizer, scheduler, num_epochs=10):\n",
        "    best_acc = 0.0\n",
        "\n",
        "    for epoch in range(num_epochs):\n",
        "        print(f'Epoch {epoch+1}/{num_epochs}')\n",
        "        print('-' * 10)\n",
        "\n",
        "        model.train()\n",
        "        running_loss = 0.0\n",
        "        correct = 0\n",
        "        total = 0\n",
        "        all_train_preds = []\n",
        "        all_train_labels = []\n",
        "\n",
        "        for inputs, labels in train_loader:\n",
        "            inputs, labels = inputs.to(device), labels.to(device)\n",
        "\n",
        "            optimizer.zero_grad()\n",
        "            outputs = model(inputs)\n",
        "            loss = criterion(outputs, labels)\n",
        "            loss.backward()\n",
        "            optimizer.step()\n",
        "\n",
        "            running_loss += loss.item() * inputs.size(0)\n",
        "            _, predicted = outputs.max(1)\n",
        "            total += labels.size(0)\n",
        "            correct += predicted.eq(labels).sum().item()\n",
        "\n",
        "            all_train_preds.extend(predicted.cpu().numpy())\n",
        "            all_train_labels.extend(labels.cpu().numpy())\n",
        "\n",
        "        scheduler.step()  # 🔹 Update LR using cosine annealing\n",
        "\n",
        "        train_loss = running_loss / len(train_loader.dataset)\n",
        "        train_acc = 100. * correct / total\n",
        "        train_f1_macro = f1_score(all_train_labels, all_train_preds, average='macro')\n",
        "\n",
        "        # Validation phase\n",
        "        model.eval()\n",
        "        test_loss = 0.0\n",
        "        correct = 0\n",
        "        total = 0\n",
        "        class_correct = [0] * 15\n",
        "        class_total = [0] * 15\n",
        "        all_preds = []\n",
        "        all_labels = []\n",
        "\n",
        "        with torch.no_grad():\n",
        "            for inputs, labels in test_loader:\n",
        "                inputs, labels = inputs.to(device), labels.to(device)\n",
        "                outputs = model(inputs)\n",
        "                loss = criterion(outputs, labels)\n",
        "\n",
        "                test_loss += loss.item() * inputs.size(0)\n",
        "                _, predicted = outputs.max(1)\n",
        "                total += labels.size(0)\n",
        "                correct += predicted.eq(labels).sum().item()\n",
        "\n",
        "                for i in range(labels.size(0)):\n",
        "                    label = labels[i]\n",
        "                    class_correct[label] += (predicted[i] == label).item()\n",
        "                    class_total[label] += 1\n",
        "\n",
        "                all_preds.extend(predicted.cpu().numpy())\n",
        "                all_labels.extend(labels.cpu().numpy())\n",
        "\n",
        "        test_loss = test_loss / len(test_loader.dataset)\n",
        "        test_acc = 100. * correct / total\n",
        "        test_f1_macro = f1_score(all_labels, all_preds, average='macro')\n",
        "\n",
        "        # Per-class accuracy\n",
        "        class_acc_dict = {f\"class_acc_{i}\": 100 * class_correct[i] / class_total[i] if class_total[i] > 0 else 0 for i in range(15)}\n",
        "\n",
        "        # 🔹 Log metrics and confusion matrix\n",
        "        log_epoch_metrics(epoch, train_loss, train_acc, train_f1_macro, test_loss, test_acc, test_f1_macro, class_acc_dict)\n",
        "        log_confusion_matrix(all_labels, all_preds)\n",
        "\n",
        "        # 🔹 Save best model checkpoint\n",
        "        if test_acc > best_acc:\n",
        "            best_acc = test_acc\n",
        "            log_best_model(model, epoch, best_acc, test_f1_macro)\n",
        "\n",
        "        log_model_artifact(model, name=f\"resnet18_finetune_exp5_epoch{epoch+1}\")\n",
        "\n",
        "    print(f'Best test accuracy: {best_acc:.2f}%')\n",
        "    return model\n",
        "\n",
        "# Loss function\n",
        "criterion = nn.CrossEntropyLoss()\n",
        "\n",
        "# 🔹 Train model with Adamax and Cosine LR Scheduler\n",
        "model = train_model(model, train_loader, test_loader, criterion, optimizer, scheduler, num_epochs=fine_tune_epochs)\n",
        "\n",
        "# 🔹 Finish W&B run\n",
        "wandb.finish()"
      ],
      "metadata": {
        "id": "nn4ncpLRgBcK"
      },
      "execution_count": null,
      "outputs": []
    },
    {
      "cell_type": "markdown",
      "source": [
        "### **Fine-Tuning with Unlocked Layer & New Hyperparameters**\n",
        "Now that we have unlocked **layer4 and fc**, we will run a **new fine-tuning experiment** with:\n",
        "✅ A **different learning rate**  \n",
        "✅ A **different optimizer**  \n",
        "✅ **Logging full dataset information** for tracking consistency  \n",
        "\n",
        "---\n",
        "\n",
        "#### **What Changes in This Run?**\n",
        "1. **Unfreezing ResNet's `layer4` and `fc` layers** for fine-tuning.  \n",
        "2. **Using RMSprop instead of Adam** (handles dynamic learning rates better).  \n",
        "3. **Reducing the learning rate** to `0.00005` for more gradual updates.  \n",
        "4. **Keeping the fully connected (`fc`) layer learning rate at `0.0005`** to adapt classification.  \n",
        "5. **Logging everything** (dataset details, hyperparameters, performance, confusion matrix, and artifacts).  \n",
        "\n",
        "##Run 7\n",
        "---"
      ],
      "metadata": {
        "id": "ianDurBTitVi"
      }
    },
    {
      "cell_type": "code",
      "source": [
        "import torch\n",
        "import torch.optim as optim\n",
        "import torch.nn as nn\n",
        "import wandb\n",
        "import torchvision\n",
        "from sklearn.metrics import f1_score\n",
        "\n",
        "# Define device (use GPU if available)\n",
        "device = torch.device(\"cuda\" if torch.cuda.is_available() else \"cpu\")\n",
        "print(f\"Using device: {device}\")\n",
        "\n",
        "# Define new fine-tuning parameters\n",
        "architecture = \"ResNet-18\"\n",
        "fine_tune_epochs = 10\n",
        "learning_rate_layer4 = 0.00005  # Smaller learning rate for layer4\n",
        "learning_rate_fc = 0.0005  # Faster updates for fully connected layer\n",
        "optimizer_name = \"RMSprop\"\n",
        "\n",
        "# Load the trained model from previous feature extraction phase\n",
        "model = torchvision.models.resnet18(weights=None)\n",
        "model.fc = nn.Linear(model.fc.in_features, 15)  # Ensure the final layer matches dataset\n",
        "\n",
        "# Load trained weights from previous experiment\n",
        "model.load_state_dict(torch.load(\"resnet18_food101_epoch_10.pth\"))\n",
        "model = model.to(device)\n",
        "\n",
        "# Unfreeze layer4 and fc for fine-tuning\n",
        "for param in model.parameters():\n",
        "    param.requires_grad = False  # Keep all layers frozen initially\n",
        "\n",
        "for param in model.layer4.parameters():\n",
        "    param.requires_grad = True  # Unfreeze layer4\n",
        "\n",
        "for param in model.fc.parameters():\n",
        "    param.requires_grad = True  # Unfreeze final fully connected layer\n",
        "\n",
        "# Define new optimizer with separate learning rates\n",
        "optimizer = optim.RMSprop([\n",
        "    {'params': model.layer4.parameters(), 'lr': learning_rate_layer4, 'alpha': 0.99},\n",
        "    {'params': model.fc.parameters(), 'lr': learning_rate_fc, 'alpha': 0.99}\n",
        "])\n",
        "\n",
        "# 🔹 Start a new W&B run for fine-tuning\n",
        "wandb.init(\n",
        "    project=\"GoTG_Assignment05_TransferLearning\",\n",
        "    entity=\"usf-guardians\",\n",
        "    name=\"Take2_ResNet18_FineTune_RMSprop\"\n",
        ")\n",
        "\n",
        "# 🔹 Log everything before training\n",
        "log_dataset_info(selected_classes, train_subset, test_subset, batch_size)\n",
        "log_model_info(model, model.fc.in_features)\n",
        "log_training_hyperparams(learning_rate_fc, optimizer_name, fine_tune_epochs)\n",
        "\n",
        "# Training function with structured logging\n",
        "def train_model(model, train_loader, test_loader, criterion, optimizer, num_epochs=10):\n",
        "    best_acc = 0.0\n",
        "    best_f1 = 0.0\n",
        "    best_epoch = 0\n",
        "\n",
        "    for epoch in range(num_epochs):\n",
        "        print(f'Epoch {epoch+1}/{num_epochs}')\n",
        "        print('-' * 10)\n",
        "\n",
        "        # Training phase\n",
        "        model.train()\n",
        "        running_loss = 0.0\n",
        "        correct = 0\n",
        "        total = 0\n",
        "        all_train_preds = []\n",
        "        all_train_labels = []\n",
        "\n",
        "        for i, (inputs, labels) in enumerate(train_loader):\n",
        "            inputs, labels = inputs.to(device), labels.to(device)\n",
        "\n",
        "            optimizer.zero_grad()\n",
        "            outputs = model(inputs)\n",
        "            loss = criterion(outputs, labels)\n",
        "            loss.backward()\n",
        "            optimizer.step()\n",
        "\n",
        "            running_loss += loss.item() * inputs.size(0)\n",
        "            _, predicted = outputs.max(1)\n",
        "            total += labels.size(0)\n",
        "            correct += predicted.eq(labels).sum().item()\n",
        "\n",
        "            all_train_preds.extend(predicted.cpu().numpy())\n",
        "            all_train_labels.extend(labels.cpu().numpy())\n",
        "\n",
        "        train_loss = running_loss / len(train_loader.dataset)\n",
        "        train_acc = 100. * correct / total\n",
        "        train_f1_macro = f1_score(all_train_labels, all_train_preds, average='macro')\n",
        "\n",
        "        # Validation phase\n",
        "        model.eval()\n",
        "        test_loss = 0.0\n",
        "        correct = 0\n",
        "        total = 0\n",
        "        class_correct = [0] * 15\n",
        "        class_total = [0] * 15\n",
        "        all_preds = []\n",
        "        all_labels = []\n",
        "\n",
        "        with torch.no_grad():\n",
        "            for inputs, labels in test_loader:\n",
        "                inputs, labels = inputs.to(device), labels.to(device)\n",
        "                outputs = model(inputs)\n",
        "                loss = criterion(outputs, labels)\n",
        "\n",
        "                test_loss += loss.item() * inputs.size(0)\n",
        "                _, predicted = outputs.max(1)\n",
        "                total += labels.size(0)\n",
        "                correct += predicted.eq(labels).sum().item()\n",
        "\n",
        "                for i in range(labels.size(0)):\n",
        "                    label = labels[i]\n",
        "                    class_correct[label] += (predicted[i] == label).item()\n",
        "                    class_total[label] += 1\n",
        "\n",
        "                all_preds.extend(predicted.cpu().numpy())\n",
        "                all_labels.extend(labels.cpu().numpy())\n",
        "\n",
        "        test_loss = test_loss / len(test_loader.dataset)\n",
        "        test_acc = 100. * correct / total\n",
        "        test_f1_macro = f1_score(all_labels, all_preds, average='macro')\n",
        "\n",
        "        # Compute per-class accuracy\n",
        "        class_acc_dict = {f\"class_acc_{i}\": 100 * class_correct[i] / class_total[i] if class_total[i] > 0 else 0 for i in range(15)}\n",
        "\n",
        "        # 🔹 Log all metrics properly\n",
        "        log_epoch_metrics(epoch, train_loss, train_acc, train_f1_macro, test_loss, test_acc, test_f1_macro, class_acc_dict)\n",
        "        log_confusion_matrix(all_labels, all_preds)\n",
        "\n",
        "        # 🔹 Save best model\n",
        "        if test_acc > best_acc:\n",
        "            best_acc = test_acc\n",
        "            best_f1 = test_f1_macro\n",
        "            best_epoch = epoch + 1\n",
        "            log_best_model(model, epoch, best_acc, best_f1)\n",
        "\n",
        "        # 🔹 Log model artifact for each epoch\n",
        "        log_model_artifact(model, name=f\"resnet18_finetune_epoch{epoch+1}\")\n",
        "\n",
        "    print(f'Best test accuracy: {best_acc:.2f}% (Epoch {best_epoch})')\n",
        "    return model\n",
        "\n",
        "# Train the model with fine-tuning\n",
        "model = train_model(model, train_loader, test_loader, criterion, optimizer, num_epochs=fine_tune_epochs)\n",
        "\n",
        "# Finish W&B run\n",
        "wandb.finish()\n"
      ],
      "metadata": {
        "colab": {
          "base_uri": "https://localhost:8080/",
          "height": 1000
        },
        "id": "g1T4NpmYh1UY",
        "outputId": "4c6ee647-098b-4c42-d275-3f92f73b321e"
      },
      "execution_count": null,
      "outputs": [
        {
          "output_type": "stream",
          "name": "stdout",
          "text": [
            "Using device: cuda\n"
          ]
        },
        {
          "output_type": "display_data",
          "data": {
            "text/plain": [
              "<IPython.core.display.HTML object>"
            ],
            "text/html": [
              "Tracking run with wandb version 0.19.8"
            ]
          },
          "metadata": {}
        },
        {
          "output_type": "display_data",
          "data": {
            "text/plain": [
              "<IPython.core.display.HTML object>"
            ],
            "text/html": [
              "Run data is saved locally in <code>/content/wandb/run-20250317_173828-g0bm5o7x</code>"
            ]
          },
          "metadata": {}
        },
        {
          "output_type": "display_data",
          "data": {
            "text/plain": [
              "<IPython.core.display.HTML object>"
            ],
            "text/html": [
              "Syncing run <strong><a href='https://wandb.ai/usf-guardians/GoTG_Assignment05_TransferLearning/runs/g0bm5o7x' target=\"_blank\">Take2_ResNet18_FineTune_RMSprop</a></strong> to <a href='https://wandb.ai/usf-guardians/GoTG_Assignment05_TransferLearning' target=\"_blank\">Weights & Biases</a> (<a href='https://wandb.me/developer-guide' target=\"_blank\">docs</a>)<br>"
            ]
          },
          "metadata": {}
        },
        {
          "output_type": "display_data",
          "data": {
            "text/plain": [
              "<IPython.core.display.HTML object>"
            ],
            "text/html": [
              " View project at <a href='https://wandb.ai/usf-guardians/GoTG_Assignment05_TransferLearning' target=\"_blank\">https://wandb.ai/usf-guardians/GoTG_Assignment05_TransferLearning</a>"
            ]
          },
          "metadata": {}
        },
        {
          "output_type": "display_data",
          "data": {
            "text/plain": [
              "<IPython.core.display.HTML object>"
            ],
            "text/html": [
              " View run at <a href='https://wandb.ai/usf-guardians/GoTG_Assignment05_TransferLearning/runs/g0bm5o7x' target=\"_blank\">https://wandb.ai/usf-guardians/GoTG_Assignment05_TransferLearning/runs/g0bm5o7x</a>"
            ]
          },
          "metadata": {}
        },
        {
          "output_type": "stream",
          "name": "stdout",
          "text": [
            "Epoch 1/10\n",
            "----------\n",
            "✅ Model artifact 'resnet18_finetune_epoch1' logged to W&B\n",
            "Epoch 2/10\n",
            "----------\n",
            "✅ Model artifact 'resnet18_finetune_epoch2' logged to W&B\n",
            "Epoch 3/10\n",
            "----------\n",
            "✅ Model artifact 'resnet18_finetune_epoch3' logged to W&B\n",
            "Epoch 4/10\n",
            "----------\n",
            "✅ Model artifact 'resnet18_finetune_epoch4' logged to W&B\n",
            "Epoch 5/10\n",
            "----------\n",
            "✅ Model artifact 'resnet18_finetune_epoch5' logged to W&B\n",
            "Epoch 6/10\n",
            "----------\n",
            "✅ Model artifact 'resnet18_finetune_epoch6' logged to W&B\n",
            "Epoch 7/10\n",
            "----------\n",
            "✅ Model artifact 'resnet18_finetune_epoch7' logged to W&B\n",
            "Epoch 8/10\n",
            "----------\n",
            "✅ Model artifact 'resnet18_finetune_epoch8' logged to W&B\n",
            "Epoch 9/10\n",
            "----------\n",
            "✅ Model artifact 'resnet18_finetune_epoch9' logged to W&B\n",
            "Epoch 10/10\n",
            "----------\n",
            "✅ Model artifact 'resnet18_finetune_epoch10' logged to W&B\n",
            "Best test accuracy: 89.23% (Epoch 8)\n"
          ]
        },
        {
          "output_type": "display_data",
          "data": {
            "text/plain": [
              "<IPython.core.display.HTML object>"
            ],
            "text/html": []
          },
          "metadata": {}
        },
        {
          "output_type": "display_data",
          "data": {
            "text/plain": [
              "<IPython.core.display.HTML object>"
            ],
            "text/html": [
              "<br>    <style><br>        .wandb-row {<br>            display: flex;<br>            flex-direction: row;<br>            flex-wrap: wrap;<br>            justify-content: flex-start;<br>            width: 100%;<br>        }<br>        .wandb-col {<br>            display: flex;<br>            flex-direction: column;<br>            flex-basis: 100%;<br>            flex: 1;<br>            padding: 10px;<br>        }<br>    </style><br><div class=\"wandb-row\"><div class=\"wandb-col\"><h3>Run history:</h3><br/><table class=\"wandb\"><tr><td>class_acc_0</td><td>▁▄▆▅▆██▆▆▆</td></tr><tr><td>class_acc_1</td><td>█▆▆▃▇▅▆▆▅▁</td></tr><tr><td>class_acc_10</td><td>▂▁▂▁▆▅▃█▃█</td></tr><tr><td>class_acc_11</td><td>▁▂█▆▄▅█▆▄▅</td></tr><tr><td>class_acc_12</td><td>▃▆▆█▇▆▇▅▅▁</td></tr><tr><td>class_acc_13</td><td>█▃▁▃▃█▁█▁█</td></tr><tr><td>class_acc_14</td><td>▁█▃▇▁▃▄▃▅█</td></tr><tr><td>class_acc_2</td><td>▄▁▃▄▅▄▇▄▆█</td></tr><tr><td>class_acc_3</td><td>▃▃▂▇▁▃█▇▃▃</td></tr><tr><td>class_acc_4</td><td>█▄▃▆▇▇▃▆█▁</td></tr><tr><td>class_acc_5</td><td>▁▆▆▄▅▄▅▆▅█</td></tr><tr><td>class_acc_6</td><td>▆▁▄▄▄▅█▃▆▅</td></tr><tr><td>class_acc_7</td><td>▁▁▆▅█▄▂▄▂▁</td></tr><tr><td>class_acc_8</td><td>▅▇▆▁▅█▅█▆▅</td></tr><tr><td>class_acc_9</td><td>▆▁▃▁▃▅▁▅█▁</td></tr><tr><td>epoch</td><td>▁▂▃▃▄▅▆▆▇█</td></tr><tr><td>test_acc</td><td>▁▂▄▃▅▇██▆▄</td></tr><tr><td>test_f1_macro</td><td>▁▂▄▄▆▇██▆▄</td></tr><tr><td>test_loss</td><td>▂▁▁▂▂▃▄▅▇█</td></tr><tr><td>train_acc</td><td>▁▆████████</td></tr><tr><td>train_f1_macro</td><td>▁▆████████</td></tr><tr><td>train_loss</td><td>█▃▂▁▁▁▁▁▁▁</td></tr></table><br/></div><div class=\"wandb-col\"><h3>Run summary:</h3><br/><table class=\"wandb\"><tr><td>best_accuracy</td><td>89.22667</td></tr><tr><td>best_epoch</td><td>8</td></tr><tr><td>best_f1_macro</td><td>0.89175</td></tr><tr><td>class_acc_0</td><td>82</td></tr><tr><td>class_acc_1</td><td>78.8</td></tr><tr><td>class_acc_10</td><td>94</td></tr><tr><td>class_acc_11</td><td>93.6</td></tr><tr><td>class_acc_12</td><td>89.6</td></tr><tr><td>class_acc_13</td><td>95.6</td></tr><tr><td>class_acc_14</td><td>87.2</td></tr><tr><td>class_acc_2</td><td>91.6</td></tr><tr><td>class_acc_3</td><td>83.6</td></tr><tr><td>class_acc_4</td><td>90.8</td></tr><tr><td>class_acc_5</td><td>95.2</td></tr><tr><td>class_acc_6</td><td>89.6</td></tr><tr><td>class_acc_7</td><td>72.4</td></tr><tr><td>class_acc_8</td><td>86.8</td></tr><tr><td>class_acc_9</td><td>95.6</td></tr><tr><td>epoch</td><td>10</td></tr><tr><td>test_acc</td><td>88.42667</td></tr><tr><td>test_f1_macro</td><td>0.88368</td></tr><tr><td>test_loss</td><td>0.51232</td></tr><tr><td>train_acc</td><td>99.96444</td></tr><tr><td>train_f1_macro</td><td>0.99964</td></tr><tr><td>train_loss</td><td>0.0021</td></tr></table><br/></div></div>"
            ]
          },
          "metadata": {}
        },
        {
          "output_type": "display_data",
          "data": {
            "text/plain": [
              "<IPython.core.display.HTML object>"
            ],
            "text/html": [
              " View run <strong style=\"color:#cdcd00\">Take2_ResNet18_FineTune_RMSprop</strong> at: <a href='https://wandb.ai/usf-guardians/GoTG_Assignment05_TransferLearning/runs/g0bm5o7x' target=\"_blank\">https://wandb.ai/usf-guardians/GoTG_Assignment05_TransferLearning/runs/g0bm5o7x</a><br> View project at: <a href='https://wandb.ai/usf-guardians/GoTG_Assignment05_TransferLearning' target=\"_blank\">https://wandb.ai/usf-guardians/GoTG_Assignment05_TransferLearning</a><br>Synced 5 W&B file(s), 10 media file(s), 54 artifact file(s) and 0 other file(s)"
            ]
          },
          "metadata": {}
        },
        {
          "output_type": "display_data",
          "data": {
            "text/plain": [
              "<IPython.core.display.HTML object>"
            ],
            "text/html": [
              "Find logs at: <code>./wandb/run-20250317_173828-g0bm5o7x/logs</code>"
            ]
          },
          "metadata": {}
        }
      ]
    },
    {
      "cell_type": "markdown",
      "source": [
        "# Phase 3\n",
        "- Performed random sweeps using Weights & Biases (W&B) to automatically test multiple hyperparameter combinations.\n",
        "- Explored optimizers, learning rates, weight decay, batch sizes, and activation functions.\n",
        "- Ran 10 sweep runs each selecting the best configuration.\n",
        "\n",
        "## Sweep Runs (Run 8)"
      ],
      "metadata": {
        "id": "YFN36EtAks72"
      }
    },
    {
      "cell_type": "code",
      "source": [
        "import torch\n",
        "import torch.optim as optim\n",
        "import torch.nn as nn\n",
        "import wandb\n",
        "import torchvision\n",
        "from sklearn.metrics import f1_score\n",
        "\n",
        "# 🔹 Define Sweep Configuration\n",
        "sweep_config = {\n",
        "    \"method\": \"random\",  # Random search\n",
        "    \"metric\": {\"name\": \"test_acc\", \"goal\": \"maximize\"},\n",
        "    \"parameters\": {\n",
        "        \"learning_rate_layer4\": {\"values\": [0.0001, 0.00005]},  # 2 values\n",
        "        \"learning_rate_fc\": {\"values\": [0.001, 0.0005]},  # 2 values\n",
        "        \"optimizer\": {\"values\": [\"Adam\", \"RMSprop\", \"SGD\"]},  # 3 optimizers\n",
        "        \"batch_size\": {\"values\": [32, 64]},  # 2 batch sizes\n",
        "        \"weight_decay\": {\"values\": [0.0001, 0.0005]},  # 2 values\n",
        "        \"activation\": {\"values\": [\"ReLU\", \"LeakyReLU\"]},  # 2 activation functions\n",
        "        \"epochs\": {\"value\": 10}, # Fixed at 10\n",
        "        \"label_smoothing\": {\"values\": [0.0, 0.1]},  # Added Label Smoothing\n",
        "    }\n",
        "}\n",
        "\n",
        "# 🔹 Initialize the Sweep\n",
        "sweep_id = wandb.sweep(sweep_config, project=\"GoTG_Assignment05_TransferLearning\")\n",
        "\n",
        "\n",
        "# 🔹 Function to Log Model Artifacts (Ensuring State Dict Matches Expected Keys)\n",
        "def log_model_artifact(model, name=\"model_checkpoint\", description=\"Trained model checkpoint\"):\n",
        "    model_path = f\"{name}.pth\"\n",
        "\n",
        "    # 🔹 Ensure FC Layer is NOT Wrapped in Sequential() Before Saving\n",
        "    if isinstance(model.fc, nn.Sequential):\n",
        "        model.fc = model.fc[0]  # Remove activation before saving\n",
        "\n",
        "    torch.save(model.state_dict(), model_path)\n",
        "\n",
        "    artifact = wandb.Artifact(name=name, type=\"model\", description=description)\n",
        "    artifact.add_file(model_path)\n",
        "    wandb.log_artifact(artifact)\n",
        "\n",
        "    print(f\"✅ Model artifact '{name}' logged to W&B\")\n",
        "\n",
        "\n",
        "# 🔹 Training Function Using W&B Sweep\n",
        "def train():\n",
        "    # 🔹 Initialize W&B run with sweep config\n",
        "    wandb.init()\n",
        "\n",
        "    # 🔹 Get hyperparameters from W&B\n",
        "    learning_rate_layer4 = wandb.config.learning_rate_layer4\n",
        "    learning_rate_fc = wandb.config.learning_rate_fc\n",
        "    optimizer_name = wandb.config.optimizer\n",
        "    batch_size = wandb.config.batch_size\n",
        "    weight_decay = wandb.config.weight_decay\n",
        "    activation_name = wandb.config.activation\n",
        "    epochs = wandb.config.epochs  # Fixed at 10\n",
        "    label_smoothing = wandb.config.label_smoothing\n",
        "\n",
        "    # 🔹 Load Pretrained Model\n",
        "    model = torchvision.models.resnet18(weights=None)\n",
        "\n",
        "    # 🔹 Ensure FC Layer Matches Default Before Loading Weights\n",
        "    model.fc = nn.Linear(model.fc.in_features, 15)  # Ensure structure matches before loading weights\n",
        "\n",
        "    # 🔹 Load Trained Weights (Ensure Structure Matches)\n",
        "    checkpoint = torch.load(\"resnet18_food101_epoch_10.pth\")\n",
        "\n",
        "    # 🔹 Fix Key Mismatch if FC Was Wrapped in Sequential() Before Saving\n",
        "    new_state_dict = {}\n",
        "    for key, value in checkpoint.items():\n",
        "        new_key = key.replace(\"fc.0.\", \"fc.\")  # Remove Sequential() wrapper naming\n",
        "        new_state_dict[new_key] = value\n",
        "\n",
        "    model.load_state_dict(new_state_dict)\n",
        "\n",
        "    # 🔹 Move Model to GPU (IMPORTANT: Must move before modifying FC layer)\n",
        "    model = model.to(device)\n",
        "\n",
        "    # 🔹 Unfreeze layer4 and fc for fine-tuning\n",
        "    for param in model.parameters():\n",
        "        param.requires_grad = False\n",
        "    for param in model.layer4.parameters():\n",
        "        param.requires_grad = True\n",
        "    for param in model.fc.parameters():\n",
        "        param.requires_grad = True\n",
        "\n",
        "    # 🔹 Modify FC Layer **AFTER** Loading Weights (Ensures Compatibility)\n",
        "    activation_fn = getattr(nn, activation_name)().to(device)\n",
        "    model.fc = nn.Sequential(nn.Linear(model.fc.in_features, 15), activation_fn).to(device)\n",
        "\n",
        "    # 🔹 Define Optimizer\n",
        "    if optimizer_name == \"SGD\":\n",
        "        optimizer = optim.SGD([\n",
        "            {'params': model.layer4.parameters(), 'lr': learning_rate_layer4, 'momentum': 0.9, 'weight_decay': weight_decay},\n",
        "            {'params': model.fc.parameters(), 'lr': learning_rate_fc, 'weight_decay': weight_decay}\n",
        "        ])\n",
        "    else:\n",
        "        optimizer = getattr(optim, optimizer_name)([\n",
        "            {'params': model.layer4.parameters(), 'lr': learning_rate_layer4, 'weight_decay': weight_decay},\n",
        "            {'params': model.fc.parameters(), 'lr': learning_rate_fc, 'weight_decay': weight_decay}\n",
        "        ])\n",
        "\n",
        "    # 🔹 Create DataLoaders with New Batch Size\n",
        "    train_loader = torch.utils.data.DataLoader(train_subset, batch_size=batch_size, shuffle=True, num_workers=1)\n",
        "    test_loader = torch.utils.data.DataLoader(test_subset, batch_size=batch_size, shuffle=False, num_workers=1)\n",
        "\n",
        "    # 🔹 LOG EVERYTHING BEFORE TRAINING\n",
        "\n",
        "    log_model_info(model, model.fc[0].in_features)  # Model details\n",
        "    log_training_hyperparams(learning_rate_fc, optimizer_name, epochs)  # Hyperparameters\n",
        "\n",
        "    # 🔹 Train Model\n",
        "    model = train_model(model, train_loader, test_loader, criterion, optimizer, num_epochs=epochs)\n",
        "\n",
        "    # 🔹 Save & Log Best Model\n",
        "    log_model_artifact(model, name=f\"best_model_{wandb.run.name}\", description=\"Best performing model in sweep\")\n",
        "\n",
        "    # 🔹 Finish W&B Run\n",
        "    wandb.finish()\n",
        "\n",
        "\n",
        "# 🔹 Run the Sweep\n",
        "wandb.agent(sweep_id, function=train, count=10)  # Runs 10 different experiments\n"
      ],
      "metadata": {
        "colab": {
          "base_uri": "https://localhost:8080/",
          "height": 1000
        },
        "id": "W6WkebNQjKWF",
        "outputId": "bc13bfa0-2fdc-4869-ed52-56ec4c1aab4b"
      },
      "execution_count": null,
      "outputs": [
        {
          "metadata": {
            "tags": null
          },
          "name": "stdout",
          "output_type": "stream",
          "text": [
            "Create sweep with ID: as5tljsj\n",
            "Sweep URL: https://wandb.ai/usf-guardians/GoTG_Assignment05_TransferLearning/sweeps/as5tljsj\n"
          ]
        },
        {
          "metadata": {
            "tags": null
          },
          "name": "stderr",
          "output_type": "stream",
          "text": [
            "\u001b[34m\u001b[1mwandb\u001b[0m: Agent Starting Run: qhlik632 with config:\n",
            "\u001b[34m\u001b[1mwandb\u001b[0m: \tactivation: ReLU\n",
            "\u001b[34m\u001b[1mwandb\u001b[0m: \tbatch_size: 32\n",
            "\u001b[34m\u001b[1mwandb\u001b[0m: \tepochs: 10\n",
            "\u001b[34m\u001b[1mwandb\u001b[0m: \tlabel_smoothing: 0\n",
            "\u001b[34m\u001b[1mwandb\u001b[0m: \tlearning_rate_fc: 0.001\n",
            "\u001b[34m\u001b[1mwandb\u001b[0m: \tlearning_rate_layer4: 5e-05\n",
            "\u001b[34m\u001b[1mwandb\u001b[0m: \toptimizer: Adam\n",
            "\u001b[34m\u001b[1mwandb\u001b[0m: \tweight_decay: 0.0001\n"
          ]
        },
        {
          "data": {
            "text/html": [
              "Tracking run with wandb version 0.19.8"
            ],
            "text/plain": [
              "<IPython.core.display.HTML object>"
            ]
          },
          "metadata": {},
          "output_type": "display_data"
        },
        {
          "data": {
            "text/html": [
              "Run data is saved locally in <code>/content/wandb/run-20250321_184510-qhlik632</code>"
            ],
            "text/plain": [
              "<IPython.core.display.HTML object>"
            ]
          },
          "metadata": {},
          "output_type": "display_data"
        },
        {
          "data": {
            "text/html": [
              "Syncing run <strong><a href='https://wandb.ai/usf-guardians/GoTG_Assignment05_TransferLearning/runs/qhlik632' target=\"_blank\">amber-sweep-1</a></strong> to <a href='https://wandb.ai/usf-guardians/GoTG_Assignment05_TransferLearning' target=\"_blank\">Weights & Biases</a> (<a href='https://wandb.me/developer-guide' target=\"_blank\">docs</a>)<br>Sweep page: <a href='https://wandb.ai/usf-guardians/GoTG_Assignment05_TransferLearning/sweeps/as5tljsj' target=\"_blank\">https://wandb.ai/usf-guardians/GoTG_Assignment05_TransferLearning/sweeps/as5tljsj</a>"
            ],
            "text/plain": [
              "<IPython.core.display.HTML object>"
            ]
          },
          "metadata": {},
          "output_type": "display_data"
        },
        {
          "data": {
            "text/html": [
              " View project at <a href='https://wandb.ai/usf-guardians/GoTG_Assignment05_TransferLearning' target=\"_blank\">https://wandb.ai/usf-guardians/GoTG_Assignment05_TransferLearning</a>"
            ],
            "text/plain": [
              "<IPython.core.display.HTML object>"
            ]
          },
          "metadata": {},
          "output_type": "display_data"
        },
        {
          "data": {
            "text/html": [
              " View sweep at <a href='https://wandb.ai/usf-guardians/GoTG_Assignment05_TransferLearning/sweeps/as5tljsj' target=\"_blank\">https://wandb.ai/usf-guardians/GoTG_Assignment05_TransferLearning/sweeps/as5tljsj</a>"
            ],
            "text/plain": [
              "<IPython.core.display.HTML object>"
            ]
          },
          "metadata": {},
          "output_type": "display_data"
        },
        {
          "data": {
            "text/html": [
              " View run at <a href='https://wandb.ai/usf-guardians/GoTG_Assignment05_TransferLearning/runs/qhlik632' target=\"_blank\">https://wandb.ai/usf-guardians/GoTG_Assignment05_TransferLearning/runs/qhlik632</a>"
            ],
            "text/plain": [
              "<IPython.core.display.HTML object>"
            ]
          },
          "metadata": {},
          "output_type": "display_data"
        },
        {
          "metadata": {
            "tags": null
          },
          "name": "stderr",
          "output_type": "stream",
          "text": [
            "\u001b[34m\u001b[1mwandb\u001b[0m: \u001b[33mWARNING\u001b[0m Config item 'optimizer' was locked by 'sweep' (ignored update).\n",
            "\u001b[34m\u001b[1mwandb\u001b[0m: \u001b[33mWARNING\u001b[0m Config item 'epochs' was locked by 'sweep' (ignored update).\n"
          ]
        },
        {
          "metadata": {
            "tags": null
          },
          "name": "stdout",
          "output_type": "stream",
          "text": [
            "Epoch 1/10\n",
            "----------\n",
            "✅ Model artifact 'resnet18_epoch1' logged to W&B\n",
            "Epoch 2/10\n",
            "----------\n",
            "✅ Model artifact 'resnet18_epoch2' logged to W&B\n",
            "Epoch 3/10\n",
            "----------\n",
            "✅ Model artifact 'resnet18_epoch3' logged to W&B\n",
            "Epoch 4/10\n",
            "----------\n",
            "✅ Model artifact 'resnet18_epoch4' logged to W&B\n",
            "Epoch 5/10\n",
            "----------\n",
            "✅ Model artifact 'resnet18_epoch5' logged to W&B\n",
            "Epoch 6/10\n",
            "----------\n",
            "✅ Model artifact 'resnet18_epoch6' logged to W&B\n",
            "Epoch 7/10\n",
            "----------\n",
            "✅ Model artifact 'resnet18_epoch7' logged to W&B\n",
            "Epoch 8/10\n",
            "----------\n",
            "✅ Model artifact 'resnet18_epoch8' logged to W&B\n",
            "Epoch 9/10\n",
            "----------\n",
            "✅ Model artifact 'resnet18_epoch9' logged to W&B\n",
            "Epoch 10/10\n",
            "----------\n",
            "✅ Model artifact 'resnet18_epoch10' logged to W&B\n",
            "Best test accuracy: 88.99%\n",
            "✅ Model artifact 'best_model_amber-sweep-1' logged to W&B\n"
          ]
        },
        {
          "data": {
            "text/html": [],
            "text/plain": [
              "<IPython.core.display.HTML object>"
            ]
          },
          "metadata": {},
          "output_type": "display_data"
        },
        {
          "data": {
            "text/html": [
              "<br>    <style><br>        .wandb-row {<br>            display: flex;<br>            flex-direction: row;<br>            flex-wrap: wrap;<br>            justify-content: flex-start;<br>            width: 100%;<br>        }<br>        .wandb-col {<br>            display: flex;<br>            flex-direction: column;<br>            flex-basis: 100%;<br>            flex: 1;<br>            padding: 10px;<br>        }<br>    </style><br><div class=\"wandb-row\"><div class=\"wandb-col\"><h3>Run history:</h3><br/><table class=\"wandb\"><tr><td>class_acc_0</td><td>▁▇██▇██▇▇▇</td></tr><tr><td>class_acc_1</td><td>▁▇█▇██████</td></tr><tr><td>class_acc_10</td><td>▁█████████</td></tr><tr><td>class_acc_11</td><td>█▆▅▁▂▂▁▄▅▅</td></tr><tr><td>class_acc_12</td><td>▁▇▇███████</td></tr><tr><td>class_acc_13</td><td>█▂▃▂▃▁▅▄▄▁</td></tr><tr><td>class_acc_14</td><td>▅▄▁▃▅█▅▆▂▅</td></tr><tr><td>class_acc_2</td><td>▂▂▇▄▁▅▄▄██</td></tr><tr><td>class_acc_3</td><td>▁▇▇▇██▇▇▇▇</td></tr><tr><td>class_acc_4</td><td>▁█████████</td></tr><tr><td>class_acc_5</td><td>█▄▁▃▄▃▃▄▃▂</td></tr><tr><td>class_acc_6</td><td>▁▇▇███████</td></tr><tr><td>class_acc_7</td><td>▁███▇▇▇█▇▇</td></tr><tr><td>class_acc_8</td><td>█▁▃▆▃▅▆▅▃▂</td></tr><tr><td>class_acc_9</td><td>▅▂▁█▅▁▅▁▇▆</td></tr><tr><td>epoch</td><td>▁▂▃▃▄▅▆▆▇█</td></tr><tr><td>test_acc</td><td>▁█████████</td></tr><tr><td>test_f1_macro</td><td>▁█████████</td></tr><tr><td>test_loss</td><td>█▁▁▁▁▁▁▁▁▁</td></tr><tr><td>train_acc</td><td>▁▆▇███████</td></tr><tr><td>train_f1_macro</td><td>▁▆▇███████</td></tr><tr><td>train_loss</td><td>█▃▂▁▁▁▁▁▁▁</td></tr></table><br/></div><div class=\"wandb-col\"><h3>Run summary:</h3><br/><table class=\"wandb\"><tr><td>best_accuracy</td><td>88.98667</td></tr><tr><td>best_epoch</td><td>9</td></tr><tr><td>best_f1_macro</td><td>0.8892</td></tr><tr><td>class_acc_0</td><td>82.8</td></tr><tr><td>class_acc_1</td><td>82.8</td></tr><tr><td>class_acc_10</td><td>92.8</td></tr><tr><td>class_acc_11</td><td>95.2</td></tr><tr><td>class_acc_12</td><td>93.2</td></tr><tr><td>class_acc_13</td><td>93.2</td></tr><tr><td>class_acc_14</td><td>83.6</td></tr><tr><td>class_acc_2</td><td>93.6</td></tr><tr><td>class_acc_3</td><td>82.4</td></tr><tr><td>class_acc_4</td><td>93.6</td></tr><tr><td>class_acc_5</td><td>91.2</td></tr><tr><td>class_acc_6</td><td>89.6</td></tr><tr><td>class_acc_7</td><td>78</td></tr><tr><td>class_acc_8</td><td>82</td></tr><tr><td>class_acc_9</td><td>95.2</td></tr><tr><td>epoch</td><td>10</td></tr><tr><td>test_acc</td><td>88.61333</td></tr><tr><td>test_f1_macro</td><td>0.88616</td></tr><tr><td>test_loss</td><td>0.917</td></tr><tr><td>train_acc</td><td>99.99111</td></tr><tr><td>train_f1_macro</td><td>0.99991</td></tr><tr><td>train_loss</td><td>0.60589</td></tr></table><br/></div></div>"
            ],
            "text/plain": [
              "<IPython.core.display.HTML object>"
            ]
          },
          "metadata": {},
          "output_type": "display_data"
        },
        {
          "data": {
            "text/html": [
              " View run <strong style=\"color:#cdcd00\">amber-sweep-1</strong> at: <a href='https://wandb.ai/usf-guardians/GoTG_Assignment05_TransferLearning/runs/qhlik632' target=\"_blank\">https://wandb.ai/usf-guardians/GoTG_Assignment05_TransferLearning/runs/qhlik632</a><br> View project at: <a href='https://wandb.ai/usf-guardians/GoTG_Assignment05_TransferLearning' target=\"_blank\">https://wandb.ai/usf-guardians/GoTG_Assignment05_TransferLearning</a><br>Synced 5 W&B file(s), 10 media file(s), 54 artifact file(s) and 0 other file(s)"
            ],
            "text/plain": [
              "<IPython.core.display.HTML object>"
            ]
          },
          "metadata": {},
          "output_type": "display_data"
        },
        {
          "data": {
            "text/html": [
              "Find logs at: <code>./wandb/run-20250321_184510-qhlik632/logs</code>"
            ],
            "text/plain": [
              "<IPython.core.display.HTML object>"
            ]
          },
          "metadata": {},
          "output_type": "display_data"
        },
        {
          "metadata": {
            "tags": null
          },
          "name": "stderr",
          "output_type": "stream",
          "text": [
            "\u001b[34m\u001b[1mwandb\u001b[0m: Agent Starting Run: vzgcg4fo with config:\n",
            "\u001b[34m\u001b[1mwandb\u001b[0m: \tactivation: ReLU\n",
            "\u001b[34m\u001b[1mwandb\u001b[0m: \tbatch_size: 64\n",
            "\u001b[34m\u001b[1mwandb\u001b[0m: \tepochs: 10\n",
            "\u001b[34m\u001b[1mwandb\u001b[0m: \tlabel_smoothing: 0.1\n",
            "\u001b[34m\u001b[1mwandb\u001b[0m: \tlearning_rate_fc: 0.001\n",
            "\u001b[34m\u001b[1mwandb\u001b[0m: \tlearning_rate_layer4: 5e-05\n",
            "\u001b[34m\u001b[1mwandb\u001b[0m: \toptimizer: RMSprop\n",
            "\u001b[34m\u001b[1mwandb\u001b[0m: \tweight_decay: 0.0005\n"
          ]
        },
        {
          "data": {
            "text/html": [
              "Tracking run with wandb version 0.19.8"
            ],
            "text/plain": [
              "<IPython.core.display.HTML object>"
            ]
          },
          "metadata": {},
          "output_type": "display_data"
        },
        {
          "data": {
            "text/html": [
              "Run data is saved locally in <code>/content/wandb/run-20250321_185141-vzgcg4fo</code>"
            ],
            "text/plain": [
              "<IPython.core.display.HTML object>"
            ]
          },
          "metadata": {},
          "output_type": "display_data"
        },
        {
          "data": {
            "text/html": [
              "Syncing run <strong><a href='https://wandb.ai/usf-guardians/GoTG_Assignment05_TransferLearning/runs/vzgcg4fo' target=\"_blank\">stilted-sweep-2</a></strong> to <a href='https://wandb.ai/usf-guardians/GoTG_Assignment05_TransferLearning' target=\"_blank\">Weights & Biases</a> (<a href='https://wandb.me/developer-guide' target=\"_blank\">docs</a>)<br>Sweep page: <a href='https://wandb.ai/usf-guardians/GoTG_Assignment05_TransferLearning/sweeps/as5tljsj' target=\"_blank\">https://wandb.ai/usf-guardians/GoTG_Assignment05_TransferLearning/sweeps/as5tljsj</a>"
            ],
            "text/plain": [
              "<IPython.core.display.HTML object>"
            ]
          },
          "metadata": {},
          "output_type": "display_data"
        },
        {
          "data": {
            "text/html": [
              " View project at <a href='https://wandb.ai/usf-guardians/GoTG_Assignment05_TransferLearning' target=\"_blank\">https://wandb.ai/usf-guardians/GoTG_Assignment05_TransferLearning</a>"
            ],
            "text/plain": [
              "<IPython.core.display.HTML object>"
            ]
          },
          "metadata": {},
          "output_type": "display_data"
        },
        {
          "data": {
            "text/html": [
              " View sweep at <a href='https://wandb.ai/usf-guardians/GoTG_Assignment05_TransferLearning/sweeps/as5tljsj' target=\"_blank\">https://wandb.ai/usf-guardians/GoTG_Assignment05_TransferLearning/sweeps/as5tljsj</a>"
            ],
            "text/plain": [
              "<IPython.core.display.HTML object>"
            ]
          },
          "metadata": {},
          "output_type": "display_data"
        },
        {
          "data": {
            "text/html": [
              " View run at <a href='https://wandb.ai/usf-guardians/GoTG_Assignment05_TransferLearning/runs/vzgcg4fo' target=\"_blank\">https://wandb.ai/usf-guardians/GoTG_Assignment05_TransferLearning/runs/vzgcg4fo</a>"
            ],
            "text/plain": [
              "<IPython.core.display.HTML object>"
            ]
          },
          "metadata": {},
          "output_type": "display_data"
        },
        {
          "metadata": {
            "tags": null
          },
          "name": "stderr",
          "output_type": "stream",
          "text": [
            "\u001b[34m\u001b[1mwandb\u001b[0m: \u001b[33mWARNING\u001b[0m Config item 'optimizer' was locked by 'sweep' (ignored update).\n",
            "\u001b[34m\u001b[1mwandb\u001b[0m: \u001b[33mWARNING\u001b[0m Config item 'epochs' was locked by 'sweep' (ignored update).\n"
          ]
        },
        {
          "metadata": {
            "tags": null
          },
          "name": "stdout",
          "output_type": "stream",
          "text": [
            "Epoch 1/10\n",
            "----------\n",
            "✅ Model artifact 'resnet18_epoch1' logged to W&B\n",
            "Epoch 2/10\n",
            "----------\n",
            "✅ Model artifact 'resnet18_epoch2' logged to W&B\n",
            "Epoch 3/10\n",
            "----------\n",
            "✅ Model artifact 'resnet18_epoch3' logged to W&B\n",
            "Epoch 4/10\n",
            "----------\n",
            "✅ Model artifact 'resnet18_epoch4' logged to W&B\n",
            "Epoch 5/10\n",
            "----------\n",
            "✅ Model artifact 'resnet18_epoch5' logged to W&B\n",
            "Epoch 6/10\n",
            "----------\n",
            "✅ Model artifact 'resnet18_epoch6' logged to W&B\n",
            "Epoch 7/10\n",
            "----------\n",
            "✅ Model artifact 'resnet18_epoch7' logged to W&B\n",
            "Epoch 8/10\n",
            "----------\n",
            "✅ Model artifact 'resnet18_epoch8' logged to W&B\n",
            "Epoch 9/10\n",
            "----------\n",
            "✅ Model artifact 'resnet18_epoch9' logged to W&B\n",
            "Epoch 10/10\n",
            "----------\n",
            "✅ Model artifact 'resnet18_epoch10' logged to W&B\n",
            "Best test accuracy: 88.80%\n",
            "✅ Model artifact 'best_model_stilted-sweep-2' logged to W&B\n"
          ]
        },
        {
          "data": {
            "text/html": [],
            "text/plain": [
              "<IPython.core.display.HTML object>"
            ]
          },
          "metadata": {},
          "output_type": "display_data"
        },
        {
          "data": {
            "text/html": [
              "<br>    <style><br>        .wandb-row {<br>            display: flex;<br>            flex-direction: row;<br>            flex-wrap: wrap;<br>            justify-content: flex-start;<br>            width: 100%;<br>        }<br>        .wandb-col {<br>            display: flex;<br>            flex-direction: column;<br>            flex-basis: 100%;<br>            flex: 1;<br>            padding: 10px;<br>        }<br>    </style><br><div class=\"wandb-row\"><div class=\"wandb-col\"><h3>Run history:</h3><br/><table class=\"wandb\"><tr><td>class_acc_0</td><td>▁▇▇███▇▇▇▇</td></tr><tr><td>class_acc_1</td><td>▇█▆▁▁▂▃▆▅▅</td></tr><tr><td>class_acc_10</td><td>▁█▇▇█▅▄▇▆▅</td></tr><tr><td>class_acc_11</td><td>▁███████▇█</td></tr><tr><td>class_acc_12</td><td>▁▆▅▄▄▃▄▅█▅</td></tr><tr><td>class_acc_13</td><td>▁▃▅▃▅▆█▇▆▇</td></tr><tr><td>class_acc_14</td><td>▁▇██▇▇██▇█</td></tr><tr><td>class_acc_2</td><td>▁▇████████</td></tr><tr><td>class_acc_3</td><td>▁▇▇▇▇█▇▇██</td></tr><tr><td>class_acc_4</td><td>█▅▃▃▁▅▁▅▇▄</td></tr><tr><td>class_acc_5</td><td>▁█████████</td></tr><tr><td>class_acc_6</td><td>▇▅▃█▃▁▅▅▂▃</td></tr><tr><td>class_acc_7</td><td>▁▆███▇▇▇▇▇</td></tr><tr><td>class_acc_8</td><td>▁█▇▇▇███▇█</td></tr><tr><td>class_acc_9</td><td>▁█████████</td></tr><tr><td>epoch</td><td>▁▂▃▃▄▅▆▆▇█</td></tr><tr><td>test_acc</td><td>▁█████████</td></tr><tr><td>test_f1_macro</td><td>▁█████████</td></tr><tr><td>test_loss</td><td>█▁▁▁▁▁▁▁▁▁</td></tr><tr><td>train_acc</td><td>▁▆▇███████</td></tr><tr><td>train_f1_macro</td><td>▁▆▇███████</td></tr><tr><td>train_loss</td><td>█▃▂▂▁▁▁▁▁▁</td></tr></table><br/></div><div class=\"wandb-col\"><h3>Run summary:</h3><br/><table class=\"wandb\"><tr><td>best_accuracy</td><td>88.8</td></tr><tr><td>best_epoch</td><td>8</td></tr><tr><td>best_f1_macro</td><td>0.88744</td></tr><tr><td>class_acc_0</td><td>81.2</td></tr><tr><td>class_acc_1</td><td>83.6</td></tr><tr><td>class_acc_10</td><td>92.8</td></tr><tr><td>class_acc_11</td><td>97.6</td></tr><tr><td>class_acc_12</td><td>93.2</td></tr><tr><td>class_acc_13</td><td>96</td></tr><tr><td>class_acc_14</td><td>85.2</td></tr><tr><td>class_acc_2</td><td>86.4</td></tr><tr><td>class_acc_3</td><td>85.6</td></tr><tr><td>class_acc_4</td><td>93.6</td></tr><tr><td>class_acc_5</td><td>92.4</td></tr><tr><td>class_acc_6</td><td>85.6</td></tr><tr><td>class_acc_7</td><td>74.4</td></tr><tr><td>class_acc_8</td><td>86.8</td></tr><tr><td>class_acc_9</td><td>94.8</td></tr><tr><td>epoch</td><td>10</td></tr><tr><td>test_acc</td><td>88.61333</td></tr><tr><td>test_f1_macro</td><td>0.88592</td></tr><tr><td>test_loss</td><td>0.92489</td></tr><tr><td>train_acc</td><td>99.99111</td></tr><tr><td>train_f1_macro</td><td>0.99991</td></tr><tr><td>train_loss</td><td>0.60302</td></tr></table><br/></div></div>"
            ],
            "text/plain": [
              "<IPython.core.display.HTML object>"
            ]
          },
          "metadata": {},
          "output_type": "display_data"
        },
        {
          "data": {
            "text/html": [
              " View run <strong style=\"color:#cdcd00\">stilted-sweep-2</strong> at: <a href='https://wandb.ai/usf-guardians/GoTG_Assignment05_TransferLearning/runs/vzgcg4fo' target=\"_blank\">https://wandb.ai/usf-guardians/GoTG_Assignment05_TransferLearning/runs/vzgcg4fo</a><br> View project at: <a href='https://wandb.ai/usf-guardians/GoTG_Assignment05_TransferLearning' target=\"_blank\">https://wandb.ai/usf-guardians/GoTG_Assignment05_TransferLearning</a><br>Synced 5 W&B file(s), 10 media file(s), 52 artifact file(s) and 0 other file(s)"
            ],
            "text/plain": [
              "<IPython.core.display.HTML object>"
            ]
          },
          "metadata": {},
          "output_type": "display_data"
        },
        {
          "data": {
            "text/html": [
              "Find logs at: <code>./wandb/run-20250321_185141-vzgcg4fo/logs</code>"
            ],
            "text/plain": [
              "<IPython.core.display.HTML object>"
            ]
          },
          "metadata": {},
          "output_type": "display_data"
        },
        {
          "metadata": {
            "tags": null
          },
          "name": "stderr",
          "output_type": "stream",
          "text": [
            "\u001b[34m\u001b[1mwandb\u001b[0m: Agent Starting Run: 7z1906cs with config:\n",
            "\u001b[34m\u001b[1mwandb\u001b[0m: \tactivation: LeakyReLU\n",
            "\u001b[34m\u001b[1mwandb\u001b[0m: \tbatch_size: 32\n",
            "\u001b[34m\u001b[1mwandb\u001b[0m: \tepochs: 10\n",
            "\u001b[34m\u001b[1mwandb\u001b[0m: \tlabel_smoothing: 0.1\n",
            "\u001b[34m\u001b[1mwandb\u001b[0m: \tlearning_rate_fc: 0.0005\n",
            "\u001b[34m\u001b[1mwandb\u001b[0m: \tlearning_rate_layer4: 5e-05\n",
            "\u001b[34m\u001b[1mwandb\u001b[0m: \toptimizer: RMSprop\n",
            "\u001b[34m\u001b[1mwandb\u001b[0m: \tweight_decay: 0.0005\n"
          ]
        },
        {
          "data": {
            "text/html": [
              "Tracking run with wandb version 0.19.8"
            ],
            "text/plain": [
              "<IPython.core.display.HTML object>"
            ]
          },
          "metadata": {},
          "output_type": "display_data"
        },
        {
          "data": {
            "text/html": [
              "Run data is saved locally in <code>/content/wandb/run-20250321_185756-7z1906cs</code>"
            ],
            "text/plain": [
              "<IPython.core.display.HTML object>"
            ]
          },
          "metadata": {},
          "output_type": "display_data"
        },
        {
          "data": {
            "text/html": [
              "Syncing run <strong><a href='https://wandb.ai/usf-guardians/GoTG_Assignment05_TransferLearning/runs/7z1906cs' target=\"_blank\">ruby-sweep-3</a></strong> to <a href='https://wandb.ai/usf-guardians/GoTG_Assignment05_TransferLearning' target=\"_blank\">Weights & Biases</a> (<a href='https://wandb.me/developer-guide' target=\"_blank\">docs</a>)<br>Sweep page: <a href='https://wandb.ai/usf-guardians/GoTG_Assignment05_TransferLearning/sweeps/as5tljsj' target=\"_blank\">https://wandb.ai/usf-guardians/GoTG_Assignment05_TransferLearning/sweeps/as5tljsj</a>"
            ],
            "text/plain": [
              "<IPython.core.display.HTML object>"
            ]
          },
          "metadata": {},
          "output_type": "display_data"
        },
        {
          "data": {
            "text/html": [
              " View project at <a href='https://wandb.ai/usf-guardians/GoTG_Assignment05_TransferLearning' target=\"_blank\">https://wandb.ai/usf-guardians/GoTG_Assignment05_TransferLearning</a>"
            ],
            "text/plain": [
              "<IPython.core.display.HTML object>"
            ]
          },
          "metadata": {},
          "output_type": "display_data"
        },
        {
          "data": {
            "text/html": [
              " View sweep at <a href='https://wandb.ai/usf-guardians/GoTG_Assignment05_TransferLearning/sweeps/as5tljsj' target=\"_blank\">https://wandb.ai/usf-guardians/GoTG_Assignment05_TransferLearning/sweeps/as5tljsj</a>"
            ],
            "text/plain": [
              "<IPython.core.display.HTML object>"
            ]
          },
          "metadata": {},
          "output_type": "display_data"
        },
        {
          "data": {
            "text/html": [
              " View run at <a href='https://wandb.ai/usf-guardians/GoTG_Assignment05_TransferLearning/runs/7z1906cs' target=\"_blank\">https://wandb.ai/usf-guardians/GoTG_Assignment05_TransferLearning/runs/7z1906cs</a>"
            ],
            "text/plain": [
              "<IPython.core.display.HTML object>"
            ]
          },
          "metadata": {},
          "output_type": "display_data"
        },
        {
          "metadata": {
            "tags": null
          },
          "name": "stderr",
          "output_type": "stream",
          "text": [
            "\u001b[34m\u001b[1mwandb\u001b[0m: \u001b[33mWARNING\u001b[0m Config item 'optimizer' was locked by 'sweep' (ignored update).\n",
            "\u001b[34m\u001b[1mwandb\u001b[0m: \u001b[33mWARNING\u001b[0m Config item 'epochs' was locked by 'sweep' (ignored update).\n"
          ]
        },
        {
          "metadata": {
            "tags": null
          },
          "name": "stdout",
          "output_type": "stream",
          "text": [
            "Epoch 1/10\n",
            "----------\n",
            "✅ Model artifact 'resnet18_epoch1' logged to W&B\n",
            "Epoch 2/10\n",
            "----------\n",
            "✅ Model artifact 'resnet18_epoch2' logged to W&B\n",
            "Epoch 3/10\n",
            "----------\n",
            "✅ Model artifact 'resnet18_epoch3' logged to W&B\n",
            "Epoch 4/10\n",
            "----------\n",
            "✅ Model artifact 'resnet18_epoch4' logged to W&B\n",
            "Epoch 5/10\n",
            "----------\n",
            "✅ Model artifact 'resnet18_epoch5' logged to W&B\n",
            "Epoch 6/10\n",
            "----------\n",
            "✅ Model artifact 'resnet18_epoch6' logged to W&B\n",
            "Epoch 7/10\n",
            "----------\n",
            "✅ Model artifact 'resnet18_epoch7' logged to W&B\n",
            "Epoch 8/10\n",
            "----------\n",
            "✅ Model artifact 'resnet18_epoch8' logged to W&B\n",
            "Epoch 9/10\n",
            "----------\n",
            "✅ Model artifact 'resnet18_epoch9' logged to W&B\n",
            "Epoch 10/10\n",
            "----------\n",
            "✅ Model artifact 'resnet18_epoch10' logged to W&B\n",
            "Best test accuracy: 88.93%\n",
            "✅ Model artifact 'best_model_ruby-sweep-3' logged to W&B\n"
          ]
        },
        {
          "data": {
            "text/html": [],
            "text/plain": [
              "<IPython.core.display.HTML object>"
            ]
          },
          "metadata": {},
          "output_type": "display_data"
        },
        {
          "data": {
            "text/html": [
              "<br>    <style><br>        .wandb-row {<br>            display: flex;<br>            flex-direction: row;<br>            flex-wrap: wrap;<br>            justify-content: flex-start;<br>            width: 100%;<br>        }<br>        .wandb-col {<br>            display: flex;<br>            flex-direction: column;<br>            flex-basis: 100%;<br>            flex: 1;<br>            padding: 10px;<br>        }<br>    </style><br><div class=\"wandb-row\"><div class=\"wandb-col\"><h3>Run history:</h3><br/><table class=\"wandb\"><tr><td>class_acc_0</td><td>█▂▃▆▅▁▄██▅</td></tr><tr><td>class_acc_1</td><td>▆▂▄▃▇▄▁▅█▄</td></tr><tr><td>class_acc_10</td><td>▆▁▂▇▆▆██▆█</td></tr><tr><td>class_acc_11</td><td>▁▃▆▂▆▄▆▄█▃</td></tr><tr><td>class_acc_12</td><td>▅█▇▆▆▇█▁▅▆</td></tr><tr><td>class_acc_13</td><td>▃▆█▅▆▆▆█▁▅</td></tr><tr><td>class_acc_14</td><td>▄█▆▁▃▂▄▆▄█</td></tr><tr><td>class_acc_2</td><td>▆▁▃█▅▇▃▅▅▅</td></tr><tr><td>class_acc_3</td><td>▅█▅▄▄▄▁▅▄▅</td></tr><tr><td>class_acc_4</td><td>▇▃▆▂▅▅▇▃█▁</td></tr><tr><td>class_acc_5</td><td>▄▁▃▃█▂▁▄▅▁</td></tr><tr><td>class_acc_6</td><td>▇▁▆▆▄▅▆█▃▃</td></tr><tr><td>class_acc_7</td><td>▃▁▆▄▄▆█▅▅▄</td></tr><tr><td>class_acc_8</td><td>▁▄█▁▇▆▆▇▅▄</td></tr><tr><td>class_acc_9</td><td>█▁▄▄▅▁▃██▄</td></tr><tr><td>epoch</td><td>▁▂▃▃▄▅▆▆▇█</td></tr><tr><td>test_acc</td><td>▆▁▇▄▆▅▆██▆</td></tr><tr><td>test_f1_macro</td><td>▅▁▇▄▆▅▆██▇</td></tr><tr><td>test_loss</td><td>▃█▃▆▄▄▄▁▁▃</td></tr><tr><td>train_acc</td><td>▁▆▇███████</td></tr><tr><td>train_f1_macro</td><td>▁▆▇███████</td></tr><tr><td>train_loss</td><td>█▄▂▂▁▁▁▁▁▁</td></tr></table><br/></div><div class=\"wandb-col\"><h3>Run summary:</h3><br/><table class=\"wandb\"><tr><td>best_accuracy</td><td>88.93333</td></tr><tr><td>best_epoch</td><td>8</td></tr><tr><td>best_f1_macro</td><td>0.88912</td></tr><tr><td>class_acc_0</td><td>84.4</td></tr><tr><td>class_acc_1</td><td>78.8</td></tr><tr><td>class_acc_10</td><td>94.8</td></tr><tr><td>class_acc_11</td><td>92.4</td></tr><tr><td>class_acc_12</td><td>92.4</td></tr><tr><td>class_acc_13</td><td>95.6</td></tr><tr><td>class_acc_14</td><td>96</td></tr><tr><td>class_acc_2</td><td>86</td></tr><tr><td>class_acc_3</td><td>86</td></tr><tr><td>class_acc_4</td><td>90</td></tr><tr><td>class_acc_5</td><td>90.4</td></tr><tr><td>class_acc_6</td><td>86.8</td></tr><tr><td>class_acc_7</td><td>74</td></tr><tr><td>class_acc_8</td><td>82</td></tr><tr><td>class_acc_9</td><td>93.2</td></tr><tr><td>epoch</td><td>10</td></tr><tr><td>test_acc</td><td>88.18667</td></tr><tr><td>test_f1_macro</td><td>0.88448</td></tr><tr><td>test_loss</td><td>0.91862</td></tr><tr><td>train_acc</td><td>100</td></tr><tr><td>train_f1_macro</td><td>1</td></tr><tr><td>train_loss</td><td>0.60644</td></tr></table><br/></div></div>"
            ],
            "text/plain": [
              "<IPython.core.display.HTML object>"
            ]
          },
          "metadata": {},
          "output_type": "display_data"
        },
        {
          "data": {
            "text/html": [
              " View run <strong style=\"color:#cdcd00\">ruby-sweep-3</strong> at: <a href='https://wandb.ai/usf-guardians/GoTG_Assignment05_TransferLearning/runs/7z1906cs' target=\"_blank\">https://wandb.ai/usf-guardians/GoTG_Assignment05_TransferLearning/runs/7z1906cs</a><br> View project at: <a href='https://wandb.ai/usf-guardians/GoTG_Assignment05_TransferLearning' target=\"_blank\">https://wandb.ai/usf-guardians/GoTG_Assignment05_TransferLearning</a><br>Synced 5 W&B file(s), 10 media file(s), 48 artifact file(s) and 0 other file(s)"
            ],
            "text/plain": [
              "<IPython.core.display.HTML object>"
            ]
          },
          "metadata": {},
          "output_type": "display_data"
        },
        {
          "data": {
            "text/html": [
              "Find logs at: <code>./wandb/run-20250321_185756-7z1906cs/logs</code>"
            ],
            "text/plain": [
              "<IPython.core.display.HTML object>"
            ]
          },
          "metadata": {},
          "output_type": "display_data"
        },
        {
          "metadata": {
            "tags": null
          },
          "name": "stderr",
          "output_type": "stream",
          "text": [
            "\u001b[34m\u001b[1mwandb\u001b[0m: Agent Starting Run: 9yhoctk5 with config:\n",
            "\u001b[34m\u001b[1mwandb\u001b[0m: \tactivation: ReLU\n",
            "\u001b[34m\u001b[1mwandb\u001b[0m: \tbatch_size: 32\n",
            "\u001b[34m\u001b[1mwandb\u001b[0m: \tepochs: 10\n",
            "\u001b[34m\u001b[1mwandb\u001b[0m: \tlabel_smoothing: 0.1\n",
            "\u001b[34m\u001b[1mwandb\u001b[0m: \tlearning_rate_fc: 0.001\n",
            "\u001b[34m\u001b[1mwandb\u001b[0m: \tlearning_rate_layer4: 0.0001\n",
            "\u001b[34m\u001b[1mwandb\u001b[0m: \toptimizer: Adam\n",
            "\u001b[34m\u001b[1mwandb\u001b[0m: \tweight_decay: 0.0005\n"
          ]
        },
        {
          "data": {
            "text/html": [
              "Tracking run with wandb version 0.19.8"
            ],
            "text/plain": [
              "<IPython.core.display.HTML object>"
            ]
          },
          "metadata": {},
          "output_type": "display_data"
        },
        {
          "data": {
            "text/html": [
              "Run data is saved locally in <code>/content/wandb/run-20250321_190356-9yhoctk5</code>"
            ],
            "text/plain": [
              "<IPython.core.display.HTML object>"
            ]
          },
          "metadata": {},
          "output_type": "display_data"
        },
        {
          "data": {
            "text/html": [
              "Syncing run <strong><a href='https://wandb.ai/usf-guardians/GoTG_Assignment05_TransferLearning/runs/9yhoctk5' target=\"_blank\">magic-sweep-4</a></strong> to <a href='https://wandb.ai/usf-guardians/GoTG_Assignment05_TransferLearning' target=\"_blank\">Weights & Biases</a> (<a href='https://wandb.me/developer-guide' target=\"_blank\">docs</a>)<br>Sweep page: <a href='https://wandb.ai/usf-guardians/GoTG_Assignment05_TransferLearning/sweeps/as5tljsj' target=\"_blank\">https://wandb.ai/usf-guardians/GoTG_Assignment05_TransferLearning/sweeps/as5tljsj</a>"
            ],
            "text/plain": [
              "<IPython.core.display.HTML object>"
            ]
          },
          "metadata": {},
          "output_type": "display_data"
        },
        {
          "data": {
            "text/html": [
              " View project at <a href='https://wandb.ai/usf-guardians/GoTG_Assignment05_TransferLearning' target=\"_blank\">https://wandb.ai/usf-guardians/GoTG_Assignment05_TransferLearning</a>"
            ],
            "text/plain": [
              "<IPython.core.display.HTML object>"
            ]
          },
          "metadata": {},
          "output_type": "display_data"
        },
        {
          "data": {
            "text/html": [
              " View sweep at <a href='https://wandb.ai/usf-guardians/GoTG_Assignment05_TransferLearning/sweeps/as5tljsj' target=\"_blank\">https://wandb.ai/usf-guardians/GoTG_Assignment05_TransferLearning/sweeps/as5tljsj</a>"
            ],
            "text/plain": [
              "<IPython.core.display.HTML object>"
            ]
          },
          "metadata": {},
          "output_type": "display_data"
        },
        {
          "data": {
            "text/html": [
              " View run at <a href='https://wandb.ai/usf-guardians/GoTG_Assignment05_TransferLearning/runs/9yhoctk5' target=\"_blank\">https://wandb.ai/usf-guardians/GoTG_Assignment05_TransferLearning/runs/9yhoctk5</a>"
            ],
            "text/plain": [
              "<IPython.core.display.HTML object>"
            ]
          },
          "metadata": {},
          "output_type": "display_data"
        },
        {
          "metadata": {
            "tags": null
          },
          "name": "stderr",
          "output_type": "stream",
          "text": [
            "\u001b[34m\u001b[1mwandb\u001b[0m: \u001b[33mWARNING\u001b[0m Config item 'optimizer' was locked by 'sweep' (ignored update).\n",
            "\u001b[34m\u001b[1mwandb\u001b[0m: \u001b[33mWARNING\u001b[0m Config item 'epochs' was locked by 'sweep' (ignored update).\n"
          ]
        },
        {
          "output_type": "stream",
          "name": "stdout",
          "text": [
            "Epoch 1/10\n",
            "----------\n",
            "✅ Model artifact 'resnet18_epoch1' logged to W&B\n",
            "Epoch 2/10\n",
            "----------\n",
            "✅ Model artifact 'resnet18_epoch2' logged to W&B\n",
            "Epoch 3/10\n",
            "----------\n",
            "✅ Model artifact 'resnet18_epoch3' logged to W&B\n",
            "Epoch 4/10\n",
            "----------\n",
            "✅ Model artifact 'resnet18_epoch4' logged to W&B\n",
            "Epoch 5/10\n",
            "----------\n",
            "✅ Model artifact 'resnet18_epoch5' logged to W&B\n",
            "Epoch 6/10\n",
            "----------\n",
            "✅ Model artifact 'resnet18_epoch6' logged to W&B\n",
            "Epoch 7/10\n",
            "----------\n",
            "✅ Model artifact 'resnet18_epoch7' logged to W&B\n",
            "Epoch 8/10\n",
            "----------\n",
            "✅ Model artifact 'resnet18_epoch8' logged to W&B\n",
            "Epoch 9/10\n",
            "----------\n",
            "✅ Model artifact 'resnet18_epoch9' logged to W&B\n",
            "Epoch 10/10\n",
            "----------\n",
            "✅ Model artifact 'resnet18_epoch10' logged to W&B\n",
            "Best test accuracy: 89.92%\n",
            "✅ Model artifact 'best_model_magic-sweep-4' logged to W&B\n"
          ]
        },
        {
          "output_type": "display_data",
          "data": {
            "text/plain": [
              "<IPython.core.display.HTML object>"
            ],
            "text/html": []
          },
          "metadata": {}
        },
        {
          "output_type": "display_data",
          "data": {
            "text/plain": [
              "<IPython.core.display.HTML object>"
            ],
            "text/html": [
              "<br>    <style><br>        .wandb-row {<br>            display: flex;<br>            flex-direction: row;<br>            flex-wrap: wrap;<br>            justify-content: flex-start;<br>            width: 100%;<br>        }<br>        .wandb-col {<br>            display: flex;<br>            flex-direction: column;<br>            flex-basis: 100%;<br>            flex: 1;<br>            padding: 10px;<br>        }<br>    </style><br><div class=\"wandb-row\"><div class=\"wandb-col\"><h3>Run history:</h3><br/><table class=\"wandb\"><tr><td>class_acc_0</td><td>█▃▂▁▃▃▄▂▄▁</td></tr><tr><td>class_acc_1</td><td>▁▇█▇███▇▇█</td></tr><tr><td>class_acc_10</td><td>▇▃▁▇▃▆▅▄█▅</td></tr><tr><td>class_acc_11</td><td>▁█▇███████</td></tr><tr><td>class_acc_12</td><td>▁█████████</td></tr><tr><td>class_acc_13</td><td>▅▁▃▅█▇▇█▄▇</td></tr><tr><td>class_acc_14</td><td>▇█▁▃▃▄▅▃▅▅</td></tr><tr><td>class_acc_2</td><td>▅▆▁▅▂█▄▆▄▇</td></tr><tr><td>class_acc_3</td><td>▆▃▅▆▆▄▁██▆</td></tr><tr><td>class_acc_4</td><td>▁█████████</td></tr><tr><td>class_acc_5</td><td>▁█████████</td></tr><tr><td>class_acc_6</td><td>▆▇▆▆▆▁█▆▆▃</td></tr><tr><td>class_acc_7</td><td>▆▁▃▅▄▇▇█▆▅</td></tr><tr><td>class_acc_8</td><td>▁▇█▇██▇▇▇▇</td></tr><tr><td>class_acc_9</td><td>▅▆▂█▆▁▅▅▇▅</td></tr><tr><td>epoch</td><td>▁▂▃▃▄▅▆▆▇█</td></tr><tr><td>test_acc</td><td>▁█████████</td></tr><tr><td>test_f1_macro</td><td>▁█████████</td></tr><tr><td>test_loss</td><td>█▁▁▁▁▁▁▁▁▁</td></tr><tr><td>train_acc</td><td>▁▆████████</td></tr><tr><td>train_f1_macro</td><td>▁▇████████</td></tr><tr><td>train_loss</td><td>█▃▂▁▁▁▁▁▁▁</td></tr></table><br/></div><div class=\"wandb-col\"><h3>Run summary:</h3><br/><table class=\"wandb\"><tr><td>best_accuracy</td><td>89.92</td></tr><tr><td>best_epoch</td><td>10</td></tr><tr><td>best_f1_macro</td><td>0.89876</td></tr><tr><td>class_acc_0</td><td>82.8</td></tr><tr><td>class_acc_1</td><td>91.2</td></tr><tr><td>class_acc_10</td><td>93.6</td></tr><tr><td>class_acc_11</td><td>95.6</td></tr><tr><td>class_acc_12</td><td>92.8</td></tr><tr><td>class_acc_13</td><td>96.4</td></tr><tr><td>class_acc_14</td><td>86.8</td></tr><tr><td>class_acc_2</td><td>90</td></tr><tr><td>class_acc_3</td><td>89.2</td></tr><tr><td>class_acc_4</td><td>91.6</td></tr><tr><td>class_acc_5</td><td>95.6</td></tr><tr><td>class_acc_6</td><td>88.4</td></tr><tr><td>class_acc_7</td><td>72</td></tr><tr><td>class_acc_8</td><td>87.2</td></tr><tr><td>class_acc_9</td><td>95.6</td></tr><tr><td>epoch</td><td>10</td></tr><tr><td>test_acc</td><td>89.92</td></tr><tr><td>test_f1_macro</td><td>0.89876</td></tr><tr><td>test_loss</td><td>0.87545</td></tr><tr><td>train_acc</td><td>99.97333</td></tr><tr><td>train_f1_macro</td><td>0.99973</td></tr><tr><td>train_loss</td><td>0.6072</td></tr></table><br/></div></div>"
            ]
          },
          "metadata": {}
        },
        {
          "output_type": "display_data",
          "data": {
            "text/plain": [
              "<IPython.core.display.HTML object>"
            ],
            "text/html": [
              " View run <strong style=\"color:#cdcd00\">magic-sweep-4</strong> at: <a href='https://wandb.ai/usf-guardians/GoTG_Assignment05_TransferLearning/runs/9yhoctk5' target=\"_blank\">https://wandb.ai/usf-guardians/GoTG_Assignment05_TransferLearning/runs/9yhoctk5</a><br> View project at: <a href='https://wandb.ai/usf-guardians/GoTG_Assignment05_TransferLearning' target=\"_blank\">https://wandb.ai/usf-guardians/GoTG_Assignment05_TransferLearning</a><br>Synced 5 W&B file(s), 10 media file(s), 56 artifact file(s) and 0 other file(s)"
            ]
          },
          "metadata": {}
        },
        {
          "output_type": "display_data",
          "data": {
            "text/plain": [
              "<IPython.core.display.HTML object>"
            ],
            "text/html": [
              "Find logs at: <code>./wandb/run-20250321_190356-9yhoctk5/logs</code>"
            ]
          },
          "metadata": {}
        },
        {
          "output_type": "stream",
          "name": "stderr",
          "text": [
            "\u001b[34m\u001b[1mwandb\u001b[0m: Agent Starting Run: chbfmq41 with config:\n",
            "\u001b[34m\u001b[1mwandb\u001b[0m: \tactivation: LeakyReLU\n",
            "\u001b[34m\u001b[1mwandb\u001b[0m: \tbatch_size: 64\n",
            "\u001b[34m\u001b[1mwandb\u001b[0m: \tepochs: 10\n",
            "\u001b[34m\u001b[1mwandb\u001b[0m: \tlabel_smoothing: 0\n",
            "\u001b[34m\u001b[1mwandb\u001b[0m: \tlearning_rate_fc: 0.001\n",
            "\u001b[34m\u001b[1mwandb\u001b[0m: \tlearning_rate_layer4: 5e-05\n",
            "\u001b[34m\u001b[1mwandb\u001b[0m: \toptimizer: RMSprop\n",
            "\u001b[34m\u001b[1mwandb\u001b[0m: \tweight_decay: 0.0001\n"
          ]
        },
        {
          "output_type": "display_data",
          "data": {
            "text/plain": [
              "<IPython.core.display.HTML object>"
            ],
            "text/html": [
              "Tracking run with wandb version 0.19.8"
            ]
          },
          "metadata": {}
        },
        {
          "output_type": "display_data",
          "data": {
            "text/plain": [
              "<IPython.core.display.HTML object>"
            ],
            "text/html": [
              "Run data is saved locally in <code>/content/wandb/run-20250321_191047-chbfmq41</code>"
            ]
          },
          "metadata": {}
        },
        {
          "output_type": "display_data",
          "data": {
            "text/plain": [
              "<IPython.core.display.HTML object>"
            ],
            "text/html": [
              "Syncing run <strong><a href='https://wandb.ai/usf-guardians/GoTG_Assignment05_TransferLearning/runs/chbfmq41' target=\"_blank\">usual-sweep-5</a></strong> to <a href='https://wandb.ai/usf-guardians/GoTG_Assignment05_TransferLearning' target=\"_blank\">Weights & Biases</a> (<a href='https://wandb.me/developer-guide' target=\"_blank\">docs</a>)<br>Sweep page: <a href='https://wandb.ai/usf-guardians/GoTG_Assignment05_TransferLearning/sweeps/as5tljsj' target=\"_blank\">https://wandb.ai/usf-guardians/GoTG_Assignment05_TransferLearning/sweeps/as5tljsj</a>"
            ]
          },
          "metadata": {}
        },
        {
          "output_type": "display_data",
          "data": {
            "text/plain": [
              "<IPython.core.display.HTML object>"
            ],
            "text/html": [
              " View project at <a href='https://wandb.ai/usf-guardians/GoTG_Assignment05_TransferLearning' target=\"_blank\">https://wandb.ai/usf-guardians/GoTG_Assignment05_TransferLearning</a>"
            ]
          },
          "metadata": {}
        },
        {
          "output_type": "display_data",
          "data": {
            "text/plain": [
              "<IPython.core.display.HTML object>"
            ],
            "text/html": [
              " View sweep at <a href='https://wandb.ai/usf-guardians/GoTG_Assignment05_TransferLearning/sweeps/as5tljsj' target=\"_blank\">https://wandb.ai/usf-guardians/GoTG_Assignment05_TransferLearning/sweeps/as5tljsj</a>"
            ]
          },
          "metadata": {}
        },
        {
          "output_type": "display_data",
          "data": {
            "text/plain": [
              "<IPython.core.display.HTML object>"
            ],
            "text/html": [
              " View run at <a href='https://wandb.ai/usf-guardians/GoTG_Assignment05_TransferLearning/runs/chbfmq41' target=\"_blank\">https://wandb.ai/usf-guardians/GoTG_Assignment05_TransferLearning/runs/chbfmq41</a>"
            ]
          },
          "metadata": {}
        },
        {
          "output_type": "stream",
          "name": "stderr",
          "text": [
            "\u001b[34m\u001b[1mwandb\u001b[0m: \u001b[33mWARNING\u001b[0m Config item 'optimizer' was locked by 'sweep' (ignored update).\n",
            "\u001b[34m\u001b[1mwandb\u001b[0m: \u001b[33mWARNING\u001b[0m Config item 'epochs' was locked by 'sweep' (ignored update).\n"
          ]
        },
        {
          "output_type": "stream",
          "name": "stdout",
          "text": [
            "Epoch 1/10\n",
            "----------\n",
            "✅ Model artifact 'resnet18_epoch1' logged to W&B\n",
            "Epoch 2/10\n",
            "----------\n",
            "✅ Model artifact 'resnet18_epoch2' logged to W&B\n",
            "Epoch 3/10\n",
            "----------\n",
            "✅ Model artifact 'resnet18_epoch3' logged to W&B\n",
            "Epoch 4/10\n",
            "----------\n",
            "✅ Model artifact 'resnet18_epoch4' logged to W&B\n",
            "Epoch 5/10\n",
            "----------\n",
            "✅ Model artifact 'resnet18_epoch5' logged to W&B\n",
            "Epoch 6/10\n",
            "----------\n",
            "✅ Model artifact 'resnet18_epoch6' logged to W&B\n",
            "Epoch 7/10\n",
            "----------\n",
            "✅ Model artifact 'resnet18_epoch7' logged to W&B\n",
            "Epoch 8/10\n",
            "----------\n",
            "✅ Model artifact 'resnet18_epoch8' logged to W&B\n",
            "Epoch 9/10\n",
            "----------\n",
            "✅ Model artifact 'resnet18_epoch9' logged to W&B\n",
            "Epoch 10/10\n",
            "----------\n",
            "✅ Model artifact 'resnet18_epoch10' logged to W&B\n",
            "Best test accuracy: 90.83%\n",
            "✅ Model artifact 'best_model_usual-sweep-5' logged to W&B\n"
          ]
        },
        {
          "output_type": "display_data",
          "data": {
            "text/plain": [
              "<IPython.core.display.HTML object>"
            ],
            "text/html": []
          },
          "metadata": {}
        },
        {
          "output_type": "display_data",
          "data": {
            "text/plain": [
              "<IPython.core.display.HTML object>"
            ],
            "text/html": [
              "<br>    <style><br>        .wandb-row {<br>            display: flex;<br>            flex-direction: row;<br>            flex-wrap: wrap;<br>            justify-content: flex-start;<br>            width: 100%;<br>        }<br>        .wandb-col {<br>            display: flex;<br>            flex-direction: column;<br>            flex-basis: 100%;<br>            flex: 1;<br>            padding: 10px;<br>        }<br>    </style><br><div class=\"wandb-row\"><div class=\"wandb-col\"><h3>Run history:</h3><br/><table class=\"wandb\"><tr><td>class_acc_0</td><td>▂▄▂▁▅▃▁█▁▄</td></tr><tr><td>class_acc_1</td><td>▇▅▅▇▃▁▅▅▅█</td></tr><tr><td>class_acc_10</td><td>█▃▄▁▅▄▂███</td></tr><tr><td>class_acc_11</td><td>▄▁▁▂▂█▂▂▄▄</td></tr><tr><td>class_acc_12</td><td>▅▄▅█▄▃▄▁▅▅</td></tr><tr><td>class_acc_13</td><td>█▇█▄▆▇▄▁██</td></tr><tr><td>class_acc_14</td><td>▅▃▅▅█▁▅▅▂▄</td></tr><tr><td>class_acc_2</td><td>▁▅▅▅▂▂▅▅▇█</td></tr><tr><td>class_acc_3</td><td>▁▅█▄▅▁▁▂▇▆</td></tr><tr><td>class_acc_4</td><td>▂▇▇█▃▁▄▃▄▁</td></tr><tr><td>class_acc_5</td><td>▅▅█▆█▁▆▅▇▇</td></tr><tr><td>class_acc_6</td><td>▅▃▆▃▁▇▃██▅</td></tr><tr><td>class_acc_7</td><td>▄▂▁▄▆█▆▅▃▄</td></tr><tr><td>class_acc_8</td><td>▇▂█▇▂▅▆▄▄▁</td></tr><tr><td>class_acc_9</td><td>▇█▂▁▅▁█▆▃▃</td></tr><tr><td>epoch</td><td>▁▂▃▃▄▅▆▆▇█</td></tr><tr><td>test_acc</td><td>▅▄▇▆▇▁▅▆▆█</td></tr><tr><td>test_f1_macro</td><td>▅▄▇▆▇▁▅▆▆█</td></tr><tr><td>test_loss</td><td>▆▇▄▄▂█▄▂▃▁</td></tr><tr><td>train_acc</td><td>▁█████████</td></tr><tr><td>train_f1_macro</td><td>▁█████████</td></tr><tr><td>train_loss</td><td>█▂▁▁▁▁▁▁▁▁</td></tr></table><br/></div><div class=\"wandb-col\"><h3>Run summary:</h3><br/><table class=\"wandb\"><tr><td>best_accuracy</td><td>90.82667</td></tr><tr><td>best_epoch</td><td>10</td></tr><tr><td>best_f1_macro</td><td>0.90856</td></tr><tr><td>class_acc_0</td><td>87.6</td></tr><tr><td>class_acc_1</td><td>87.6</td></tr><tr><td>class_acc_10</td><td>95.6</td></tr><tr><td>class_acc_11</td><td>95.2</td></tr><tr><td>class_acc_12</td><td>92.8</td></tr><tr><td>class_acc_13</td><td>96.4</td></tr><tr><td>class_acc_14</td><td>84.8</td></tr><tr><td>class_acc_2</td><td>95.2</td></tr><tr><td>class_acc_3</td><td>88</td></tr><tr><td>class_acc_4</td><td>91.2</td></tr><tr><td>class_acc_5</td><td>93.6</td></tr><tr><td>class_acc_6</td><td>92.4</td></tr><tr><td>class_acc_7</td><td>81.2</td></tr><tr><td>class_acc_8</td><td>86.4</td></tr><tr><td>class_acc_9</td><td>94.4</td></tr><tr><td>epoch</td><td>10</td></tr><tr><td>test_acc</td><td>90.82667</td></tr><tr><td>test_f1_macro</td><td>0.90856</td></tr><tr><td>test_loss</td><td>0.84738</td></tr><tr><td>train_acc</td><td>100</td></tr><tr><td>train_f1_macro</td><td>1</td></tr><tr><td>train_loss</td><td>0.57479</td></tr></table><br/></div></div>"
            ]
          },
          "metadata": {}
        },
        {
          "output_type": "display_data",
          "data": {
            "text/plain": [
              "<IPython.core.display.HTML object>"
            ],
            "text/html": [
              " View run <strong style=\"color:#cdcd00\">usual-sweep-5</strong> at: <a href='https://wandb.ai/usf-guardians/GoTG_Assignment05_TransferLearning/runs/chbfmq41' target=\"_blank\">https://wandb.ai/usf-guardians/GoTG_Assignment05_TransferLearning/runs/chbfmq41</a><br> View project at: <a href='https://wandb.ai/usf-guardians/GoTG_Assignment05_TransferLearning' target=\"_blank\">https://wandb.ai/usf-guardians/GoTG_Assignment05_TransferLearning</a><br>Synced 5 W&B file(s), 10 media file(s), 48 artifact file(s) and 0 other file(s)"
            ]
          },
          "metadata": {}
        },
        {
          "output_type": "display_data",
          "data": {
            "text/plain": [
              "<IPython.core.display.HTML object>"
            ],
            "text/html": [
              "Find logs at: <code>./wandb/run-20250321_191047-chbfmq41/logs</code>"
            ]
          },
          "metadata": {}
        },
        {
          "output_type": "stream",
          "name": "stderr",
          "text": [
            "\u001b[34m\u001b[1mwandb\u001b[0m: Agent Starting Run: gx4r460p with config:\n",
            "\u001b[34m\u001b[1mwandb\u001b[0m: \tactivation: ReLU\n",
            "\u001b[34m\u001b[1mwandb\u001b[0m: \tbatch_size: 32\n",
            "\u001b[34m\u001b[1mwandb\u001b[0m: \tepochs: 10\n",
            "\u001b[34m\u001b[1mwandb\u001b[0m: \tlabel_smoothing: 0.1\n",
            "\u001b[34m\u001b[1mwandb\u001b[0m: \tlearning_rate_fc: 0.0005\n",
            "\u001b[34m\u001b[1mwandb\u001b[0m: \tlearning_rate_layer4: 5e-05\n",
            "\u001b[34m\u001b[1mwandb\u001b[0m: \toptimizer: SGD\n",
            "\u001b[34m\u001b[1mwandb\u001b[0m: \tweight_decay: 0.0005\n"
          ]
        },
        {
          "output_type": "display_data",
          "data": {
            "text/plain": [
              "<IPython.core.display.HTML object>"
            ],
            "text/html": [
              "Tracking run with wandb version 0.19.8"
            ]
          },
          "metadata": {}
        },
        {
          "output_type": "display_data",
          "data": {
            "text/plain": [
              "<IPython.core.display.HTML object>"
            ],
            "text/html": [
              "Run data is saved locally in <code>/content/wandb/run-20250321_191743-gx4r460p</code>"
            ]
          },
          "metadata": {}
        },
        {
          "output_type": "display_data",
          "data": {
            "text/plain": [
              "<IPython.core.display.HTML object>"
            ],
            "text/html": [
              "Syncing run <strong><a href='https://wandb.ai/usf-guardians/GoTG_Assignment05_TransferLearning/runs/gx4r460p' target=\"_blank\">royal-sweep-6</a></strong> to <a href='https://wandb.ai/usf-guardians/GoTG_Assignment05_TransferLearning' target=\"_blank\">Weights & Biases</a> (<a href='https://wandb.me/developer-guide' target=\"_blank\">docs</a>)<br>Sweep page: <a href='https://wandb.ai/usf-guardians/GoTG_Assignment05_TransferLearning/sweeps/as5tljsj' target=\"_blank\">https://wandb.ai/usf-guardians/GoTG_Assignment05_TransferLearning/sweeps/as5tljsj</a>"
            ]
          },
          "metadata": {}
        },
        {
          "output_type": "display_data",
          "data": {
            "text/plain": [
              "<IPython.core.display.HTML object>"
            ],
            "text/html": [
              " View project at <a href='https://wandb.ai/usf-guardians/GoTG_Assignment05_TransferLearning' target=\"_blank\">https://wandb.ai/usf-guardians/GoTG_Assignment05_TransferLearning</a>"
            ]
          },
          "metadata": {}
        },
        {
          "output_type": "display_data",
          "data": {
            "text/plain": [
              "<IPython.core.display.HTML object>"
            ],
            "text/html": [
              " View sweep at <a href='https://wandb.ai/usf-guardians/GoTG_Assignment05_TransferLearning/sweeps/as5tljsj' target=\"_blank\">https://wandb.ai/usf-guardians/GoTG_Assignment05_TransferLearning/sweeps/as5tljsj</a>"
            ]
          },
          "metadata": {}
        },
        {
          "output_type": "display_data",
          "data": {
            "text/plain": [
              "<IPython.core.display.HTML object>"
            ],
            "text/html": [
              " View run at <a href='https://wandb.ai/usf-guardians/GoTG_Assignment05_TransferLearning/runs/gx4r460p' target=\"_blank\">https://wandb.ai/usf-guardians/GoTG_Assignment05_TransferLearning/runs/gx4r460p</a>"
            ]
          },
          "metadata": {}
        },
        {
          "output_type": "stream",
          "name": "stderr",
          "text": [
            "\u001b[34m\u001b[1mwandb\u001b[0m: \u001b[33mWARNING\u001b[0m Config item 'optimizer' was locked by 'sweep' (ignored update).\n",
            "\u001b[34m\u001b[1mwandb\u001b[0m: \u001b[33mWARNING\u001b[0m Config item 'epochs' was locked by 'sweep' (ignored update).\n"
          ]
        },
        {
          "output_type": "stream",
          "name": "stdout",
          "text": [
            "Epoch 1/10\n",
            "----------\n",
            "✅ Model artifact 'resnet18_epoch1' logged to W&B\n",
            "Epoch 2/10\n",
            "----------\n",
            "✅ Model artifact 'resnet18_epoch2' logged to W&B\n",
            "Epoch 3/10\n",
            "----------\n",
            "✅ Model artifact 'resnet18_epoch3' logged to W&B\n",
            "Epoch 4/10\n",
            "----------\n",
            "✅ Model artifact 'resnet18_epoch4' logged to W&B\n",
            "Epoch 5/10\n",
            "----------\n",
            "✅ Model artifact 'resnet18_epoch5' logged to W&B\n",
            "Epoch 6/10\n",
            "----------\n",
            "✅ Model artifact 'resnet18_epoch6' logged to W&B\n",
            "Epoch 7/10\n",
            "----------\n",
            "✅ Model artifact 'resnet18_epoch7' logged to W&B\n",
            "Epoch 8/10\n",
            "----------\n",
            "✅ Model artifact 'resnet18_epoch8' logged to W&B\n",
            "Epoch 9/10\n",
            "----------\n",
            "✅ Model artifact 'resnet18_epoch9' logged to W&B\n",
            "Epoch 10/10\n",
            "----------\n",
            "✅ Model artifact 'resnet18_epoch10' logged to W&B\n",
            "Best test accuracy: 90.96%\n",
            "✅ Model artifact 'best_model_royal-sweep-6' logged to W&B\n"
          ]
        },
        {
          "output_type": "display_data",
          "data": {
            "text/plain": [
              "<IPython.core.display.HTML object>"
            ],
            "text/html": []
          },
          "metadata": {}
        },
        {
          "output_type": "display_data",
          "data": {
            "text/plain": [
              "<IPython.core.display.HTML object>"
            ],
            "text/html": [
              "<br>    <style><br>        .wandb-row {<br>            display: flex;<br>            flex-direction: row;<br>            flex-wrap: wrap;<br>            justify-content: flex-start;<br>            width: 100%;<br>        }<br>        .wandb-col {<br>            display: flex;<br>            flex-direction: column;<br>            flex-basis: 100%;<br>            flex: 1;<br>            padding: 10px;<br>        }<br>    </style><br><div class=\"wandb-row\"><div class=\"wandb-col\"><h3>Run history:</h3><br/><table class=\"wandb\"><tr><td>class_acc_0</td><td>█▃▂▄▃▂▅▁▅▇</td></tr><tr><td>class_acc_1</td><td>▁█████████</td></tr><tr><td>class_acc_10</td><td>█▇▅▃▇█▁▁█▅</td></tr><tr><td>class_acc_11</td><td>▄▄▂▃▂█▁▅▅▇</td></tr><tr><td>class_acc_12</td><td>▇▆▇▅▅▇▂█▁▄</td></tr><tr><td>class_acc_13</td><td>▁█████████</td></tr><tr><td>class_acc_14</td><td>█▃▆▃▆▁▆▇▅▄</td></tr><tr><td>class_acc_2</td><td>▁▆▅▆█▆▇▃▆▆</td></tr><tr><td>class_acc_3</td><td>▁▇████████</td></tr><tr><td>class_acc_4</td><td>▁█████████</td></tr><tr><td>class_acc_5</td><td>█▃▂▂▂▁▄▃▃▁</td></tr><tr><td>class_acc_6</td><td>▁█████████</td></tr><tr><td>class_acc_7</td><td>█▄▂▃▁▁▂▂▂▂</td></tr><tr><td>class_acc_8</td><td>█▃▅▂▁▆▂▅▄▇</td></tr><tr><td>class_acc_9</td><td>▇█▁▄█▇█▇▇▇</td></tr><tr><td>epoch</td><td>▁▂▃▃▄▅▆▆▇█</td></tr><tr><td>test_acc</td><td>▁█████████</td></tr><tr><td>test_f1_macro</td><td>▁█████████</td></tr><tr><td>test_loss</td><td>█▃▂▁▁▁▁▁▁▁</td></tr><tr><td>train_acc</td><td>▁▆████████</td></tr><tr><td>train_f1_macro</td><td>▁▇████████</td></tr><tr><td>train_loss</td><td>█▄▂▁▁▁▁▁▁▁</td></tr></table><br/></div><div class=\"wandb-col\"><h3>Run summary:</h3><br/><table class=\"wandb\"><tr><td>best_accuracy</td><td>90.96</td></tr><tr><td>best_epoch</td><td>10</td></tr><tr><td>best_f1_macro</td><td>0.90938</td></tr><tr><td>class_acc_0</td><td>88.4</td></tr><tr><td>class_acc_1</td><td>86.8</td></tr><tr><td>class_acc_10</td><td>94.4</td></tr><tr><td>class_acc_11</td><td>96.4</td></tr><tr><td>class_acc_12</td><td>92.4</td></tr><tr><td>class_acc_13</td><td>96.8</td></tr><tr><td>class_acc_14</td><td>87.6</td></tr><tr><td>class_acc_2</td><td>91.2</td></tr><tr><td>class_acc_3</td><td>89.6</td></tr><tr><td>class_acc_4</td><td>92.4</td></tr><tr><td>class_acc_5</td><td>93.6</td></tr><tr><td>class_acc_6</td><td>92</td></tr><tr><td>class_acc_7</td><td>77.2</td></tr><tr><td>class_acc_8</td><td>89.2</td></tr><tr><td>class_acc_9</td><td>96.4</td></tr><tr><td>epoch</td><td>10</td></tr><tr><td>test_acc</td><td>90.96</td></tr><tr><td>test_f1_macro</td><td>0.90938</td></tr><tr><td>test_loss</td><td>0.86003</td></tr><tr><td>train_acc</td><td>100</td></tr><tr><td>train_f1_macro</td><td>1</td></tr><tr><td>train_loss</td><td>0.60227</td></tr></table><br/></div></div>"
            ]
          },
          "metadata": {}
        },
        {
          "output_type": "display_data",
          "data": {
            "text/plain": [
              "<IPython.core.display.HTML object>"
            ],
            "text/html": [
              " View run <strong style=\"color:#cdcd00\">royal-sweep-6</strong> at: <a href='https://wandb.ai/usf-guardians/GoTG_Assignment05_TransferLearning/runs/gx4r460p' target=\"_blank\">https://wandb.ai/usf-guardians/GoTG_Assignment05_TransferLearning/runs/gx4r460p</a><br> View project at: <a href='https://wandb.ai/usf-guardians/GoTG_Assignment05_TransferLearning' target=\"_blank\">https://wandb.ai/usf-guardians/GoTG_Assignment05_TransferLearning</a><br>Synced 5 W&B file(s), 10 media file(s), 58 artifact file(s) and 0 other file(s)"
            ]
          },
          "metadata": {}
        },
        {
          "output_type": "display_data",
          "data": {
            "text/plain": [
              "<IPython.core.display.HTML object>"
            ],
            "text/html": [
              "Find logs at: <code>./wandb/run-20250321_191743-gx4r460p/logs</code>"
            ]
          },
          "metadata": {}
        },
        {
          "output_type": "stream",
          "name": "stderr",
          "text": [
            "\u001b[34m\u001b[1mwandb\u001b[0m: Sweep Agent: Waiting for job.\n",
            "\u001b[34m\u001b[1mwandb\u001b[0m: Job received.\n",
            "\u001b[34m\u001b[1mwandb\u001b[0m: Agent Starting Run: 5acar48e with config:\n",
            "\u001b[34m\u001b[1mwandb\u001b[0m: \tactivation: LeakyReLU\n",
            "\u001b[34m\u001b[1mwandb\u001b[0m: \tbatch_size: 64\n",
            "\u001b[34m\u001b[1mwandb\u001b[0m: \tepochs: 10\n",
            "\u001b[34m\u001b[1mwandb\u001b[0m: \tlabel_smoothing: 0.1\n",
            "\u001b[34m\u001b[1mwandb\u001b[0m: \tlearning_rate_fc: 0.001\n",
            "\u001b[34m\u001b[1mwandb\u001b[0m: \tlearning_rate_layer4: 5e-05\n",
            "\u001b[34m\u001b[1mwandb\u001b[0m: \toptimizer: SGD\n",
            "\u001b[34m\u001b[1mwandb\u001b[0m: \tweight_decay: 0.0001\n"
          ]
        },
        {
          "output_type": "display_data",
          "data": {
            "text/plain": [
              "<IPython.core.display.HTML object>"
            ],
            "text/html": [
              "Tracking run with wandb version 0.19.8"
            ]
          },
          "metadata": {}
        },
        {
          "output_type": "display_data",
          "data": {
            "text/plain": [
              "<IPython.core.display.HTML object>"
            ],
            "text/html": [
              "Run data is saved locally in <code>/content/wandb/run-20250321_192620-5acar48e</code>"
            ]
          },
          "metadata": {}
        },
        {
          "output_type": "display_data",
          "data": {
            "text/plain": [
              "<IPython.core.display.HTML object>"
            ],
            "text/html": [
              "Syncing run <strong><a href='https://wandb.ai/usf-guardians/GoTG_Assignment05_TransferLearning/runs/5acar48e' target=\"_blank\">bumbling-sweep-7</a></strong> to <a href='https://wandb.ai/usf-guardians/GoTG_Assignment05_TransferLearning' target=\"_blank\">Weights & Biases</a> (<a href='https://wandb.me/developer-guide' target=\"_blank\">docs</a>)<br>Sweep page: <a href='https://wandb.ai/usf-guardians/GoTG_Assignment05_TransferLearning/sweeps/as5tljsj' target=\"_blank\">https://wandb.ai/usf-guardians/GoTG_Assignment05_TransferLearning/sweeps/as5tljsj</a>"
            ]
          },
          "metadata": {}
        },
        {
          "output_type": "display_data",
          "data": {
            "text/plain": [
              "<IPython.core.display.HTML object>"
            ],
            "text/html": [
              " View project at <a href='https://wandb.ai/usf-guardians/GoTG_Assignment05_TransferLearning' target=\"_blank\">https://wandb.ai/usf-guardians/GoTG_Assignment05_TransferLearning</a>"
            ]
          },
          "metadata": {}
        },
        {
          "output_type": "display_data",
          "data": {
            "text/plain": [
              "<IPython.core.display.HTML object>"
            ],
            "text/html": [
              " View sweep at <a href='https://wandb.ai/usf-guardians/GoTG_Assignment05_TransferLearning/sweeps/as5tljsj' target=\"_blank\">https://wandb.ai/usf-guardians/GoTG_Assignment05_TransferLearning/sweeps/as5tljsj</a>"
            ]
          },
          "metadata": {}
        },
        {
          "output_type": "display_data",
          "data": {
            "text/plain": [
              "<IPython.core.display.HTML object>"
            ],
            "text/html": [
              " View run at <a href='https://wandb.ai/usf-guardians/GoTG_Assignment05_TransferLearning/runs/5acar48e' target=\"_blank\">https://wandb.ai/usf-guardians/GoTG_Assignment05_TransferLearning/runs/5acar48e</a>"
            ]
          },
          "metadata": {}
        },
        {
          "output_type": "stream",
          "name": "stderr",
          "text": [
            "\u001b[34m\u001b[1mwandb\u001b[0m: \u001b[33mWARNING\u001b[0m Config item 'optimizer' was locked by 'sweep' (ignored update).\n",
            "\u001b[34m\u001b[1mwandb\u001b[0m: \u001b[33mWARNING\u001b[0m Config item 'epochs' was locked by 'sweep' (ignored update).\n"
          ]
        },
        {
          "output_type": "stream",
          "name": "stdout",
          "text": [
            "Epoch 1/10\n",
            "----------\n",
            "✅ Model artifact 'resnet18_epoch1' logged to W&B\n",
            "Epoch 2/10\n",
            "----------\n",
            "✅ Model artifact 'resnet18_epoch2' logged to W&B\n",
            "Epoch 3/10\n",
            "----------\n",
            "✅ Model artifact 'resnet18_epoch3' logged to W&B\n",
            "Epoch 4/10\n",
            "----------\n",
            "✅ Model artifact 'resnet18_epoch4' logged to W&B\n",
            "Epoch 5/10\n",
            "----------\n",
            "✅ Model artifact 'resnet18_epoch5' logged to W&B\n",
            "Epoch 6/10\n",
            "----------\n",
            "✅ Model artifact 'resnet18_epoch6' logged to W&B\n",
            "Epoch 7/10\n",
            "----------\n",
            "✅ Model artifact 'resnet18_epoch7' logged to W&B\n",
            "Epoch 8/10\n",
            "----------\n",
            "✅ Model artifact 'resnet18_epoch8' logged to W&B\n",
            "Epoch 9/10\n",
            "----------\n",
            "✅ Model artifact 'resnet18_epoch9' logged to W&B\n",
            "Epoch 10/10\n",
            "----------\n",
            "✅ Model artifact 'resnet18_epoch10' logged to W&B\n",
            "Best test accuracy: 91.55%\n",
            "✅ Model artifact 'best_model_bumbling-sweep-7' logged to W&B\n"
          ]
        },
        {
          "output_type": "display_data",
          "data": {
            "text/plain": [
              "<IPython.core.display.HTML object>"
            ],
            "text/html": []
          },
          "metadata": {}
        },
        {
          "output_type": "display_data",
          "data": {
            "text/plain": [
              "<IPython.core.display.HTML object>"
            ],
            "text/html": [
              "<br>    <style><br>        .wandb-row {<br>            display: flex;<br>            flex-direction: row;<br>            flex-wrap: wrap;<br>            justify-content: flex-start;<br>            width: 100%;<br>        }<br>        .wandb-col {<br>            display: flex;<br>            flex-direction: column;<br>            flex-basis: 100%;<br>            flex: 1;<br>            padding: 10px;<br>        }<br>    </style><br><div class=\"wandb-row\"><div class=\"wandb-col\"><h3>Run history:</h3><br/><table class=\"wandb\"><tr><td>class_acc_0</td><td>▁▇████████</td></tr><tr><td>class_acc_1</td><td>▁█████████</td></tr><tr><td>class_acc_10</td><td>▁█████████</td></tr><tr><td>class_acc_11</td><td>██▃▆▁▃▁▆▁▆</td></tr><tr><td>class_acc_12</td><td>▁█████████</td></tr><tr><td>class_acc_13</td><td>█▂▁▃▂▃▃▂▂▂</td></tr><tr><td>class_acc_14</td><td>▄▇▆▄▅▅▄▄▁█</td></tr><tr><td>class_acc_2</td><td>▁▇▅▇▇▇▅▇█▂</td></tr><tr><td>class_acc_3</td><td>▁▇████████</td></tr><tr><td>class_acc_4</td><td>▁█████████</td></tr><tr><td>class_acc_5</td><td>█▄▂▂▂▂▂▂▂▁</td></tr><tr><td>class_acc_6</td><td>▁█████████</td></tr><tr><td>class_acc_7</td><td>▁█████████</td></tr><tr><td>class_acc_8</td><td>█▄▂▁▂▃▂▂▂▂</td></tr><tr><td>class_acc_9</td><td>▁▂▁▄▄▂▄█▄█</td></tr><tr><td>epoch</td><td>▁▂▃▃▄▅▆▆▇█</td></tr><tr><td>test_acc</td><td>▁█████████</td></tr><tr><td>test_f1_macro</td><td>▁█████████</td></tr><tr><td>test_loss</td><td>█▃▂▁▁▁▁▁▁▁</td></tr><tr><td>train_acc</td><td>▁▆████████</td></tr><tr><td>train_f1_macro</td><td>▁▆████████</td></tr><tr><td>train_loss</td><td>█▄▂▁▁▁▁▁▁▁</td></tr></table><br/></div><div class=\"wandb-col\"><h3>Run summary:</h3><br/><table class=\"wandb\"><tr><td>best_accuracy</td><td>91.54667</td></tr><tr><td>best_epoch</td><td>10</td></tr><tr><td>best_f1_macro</td><td>0.91529</td></tr><tr><td>class_acc_0</td><td>88.4</td></tr><tr><td>class_acc_1</td><td>89.2</td></tr><tr><td>class_acc_10</td><td>94.8</td></tr><tr><td>class_acc_11</td><td>96</td></tr><tr><td>class_acc_12</td><td>94</td></tr><tr><td>class_acc_13</td><td>95.2</td></tr><tr><td>class_acc_14</td><td>90.8</td></tr><tr><td>class_acc_2</td><td>88.8</td></tr><tr><td>class_acc_3</td><td>90.8</td></tr><tr><td>class_acc_4</td><td>93.2</td></tr><tr><td>class_acc_5</td><td>94</td></tr><tr><td>class_acc_6</td><td>94</td></tr><tr><td>class_acc_7</td><td>78.8</td></tr><tr><td>class_acc_8</td><td>88.4</td></tr><tr><td>class_acc_9</td><td>96.8</td></tr><tr><td>epoch</td><td>10</td></tr><tr><td>test_acc</td><td>91.54667</td></tr><tr><td>test_f1_macro</td><td>0.91529</td></tr><tr><td>test_loss</td><td>0.87614</td></tr><tr><td>train_acc</td><td>100</td></tr><tr><td>train_f1_macro</td><td>1</td></tr><tr><td>train_loss</td><td>0.59249</td></tr></table><br/></div></div>"
            ]
          },
          "metadata": {}
        },
        {
          "output_type": "display_data",
          "data": {
            "text/plain": [
              "<IPython.core.display.HTML object>"
            ],
            "text/html": [
              " View run <strong style=\"color:#cdcd00\">bumbling-sweep-7</strong> at: <a href='https://wandb.ai/usf-guardians/GoTG_Assignment05_TransferLearning/runs/5acar48e' target=\"_blank\">https://wandb.ai/usf-guardians/GoTG_Assignment05_TransferLearning/runs/5acar48e</a><br> View project at: <a href='https://wandb.ai/usf-guardians/GoTG_Assignment05_TransferLearning' target=\"_blank\">https://wandb.ai/usf-guardians/GoTG_Assignment05_TransferLearning</a><br>Synced 5 W&B file(s), 10 media file(s), 54 artifact file(s) and 0 other file(s)"
            ]
          },
          "metadata": {}
        },
        {
          "output_type": "display_data",
          "data": {
            "text/plain": [
              "<IPython.core.display.HTML object>"
            ],
            "text/html": [
              "Find logs at: <code>./wandb/run-20250321_192620-5acar48e/logs</code>"
            ]
          },
          "metadata": {}
        },
        {
          "output_type": "stream",
          "name": "stderr",
          "text": [
            "\u001b[34m\u001b[1mwandb\u001b[0m: Agent Starting Run: vbqtp6wi with config:\n",
            "\u001b[34m\u001b[1mwandb\u001b[0m: \tactivation: ReLU\n",
            "\u001b[34m\u001b[1mwandb\u001b[0m: \tbatch_size: 32\n",
            "\u001b[34m\u001b[1mwandb\u001b[0m: \tepochs: 10\n",
            "\u001b[34m\u001b[1mwandb\u001b[0m: \tlabel_smoothing: 0.1\n",
            "\u001b[34m\u001b[1mwandb\u001b[0m: \tlearning_rate_fc: 0.0005\n",
            "\u001b[34m\u001b[1mwandb\u001b[0m: \tlearning_rate_layer4: 0.0001\n",
            "\u001b[34m\u001b[1mwandb\u001b[0m: \toptimizer: RMSprop\n",
            "\u001b[34m\u001b[1mwandb\u001b[0m: \tweight_decay: 0.0001\n"
          ]
        },
        {
          "output_type": "display_data",
          "data": {
            "text/plain": [
              "<IPython.core.display.HTML object>"
            ],
            "text/html": [
              "Tracking run with wandb version 0.19.8"
            ]
          },
          "metadata": {}
        },
        {
          "output_type": "display_data",
          "data": {
            "text/plain": [
              "<IPython.core.display.HTML object>"
            ],
            "text/html": [
              "Run data is saved locally in <code>/content/wandb/run-20250321_193341-vbqtp6wi</code>"
            ]
          },
          "metadata": {}
        },
        {
          "output_type": "display_data",
          "data": {
            "text/plain": [
              "<IPython.core.display.HTML object>"
            ],
            "text/html": [
              "Syncing run <strong><a href='https://wandb.ai/usf-guardians/GoTG_Assignment05_TransferLearning/runs/vbqtp6wi' target=\"_blank\">distinctive-sweep-8</a></strong> to <a href='https://wandb.ai/usf-guardians/GoTG_Assignment05_TransferLearning' target=\"_blank\">Weights & Biases</a> (<a href='https://wandb.me/developer-guide' target=\"_blank\">docs</a>)<br>Sweep page: <a href='https://wandb.ai/usf-guardians/GoTG_Assignment05_TransferLearning/sweeps/as5tljsj' target=\"_blank\">https://wandb.ai/usf-guardians/GoTG_Assignment05_TransferLearning/sweeps/as5tljsj</a>"
            ]
          },
          "metadata": {}
        },
        {
          "output_type": "display_data",
          "data": {
            "text/plain": [
              "<IPython.core.display.HTML object>"
            ],
            "text/html": [
              " View project at <a href='https://wandb.ai/usf-guardians/GoTG_Assignment05_TransferLearning' target=\"_blank\">https://wandb.ai/usf-guardians/GoTG_Assignment05_TransferLearning</a>"
            ]
          },
          "metadata": {}
        },
        {
          "output_type": "display_data",
          "data": {
            "text/plain": [
              "<IPython.core.display.HTML object>"
            ],
            "text/html": [
              " View sweep at <a href='https://wandb.ai/usf-guardians/GoTG_Assignment05_TransferLearning/sweeps/as5tljsj' target=\"_blank\">https://wandb.ai/usf-guardians/GoTG_Assignment05_TransferLearning/sweeps/as5tljsj</a>"
            ]
          },
          "metadata": {}
        },
        {
          "output_type": "display_data",
          "data": {
            "text/plain": [
              "<IPython.core.display.HTML object>"
            ],
            "text/html": [
              " View run at <a href='https://wandb.ai/usf-guardians/GoTG_Assignment05_TransferLearning/runs/vbqtp6wi' target=\"_blank\">https://wandb.ai/usf-guardians/GoTG_Assignment05_TransferLearning/runs/vbqtp6wi</a>"
            ]
          },
          "metadata": {}
        },
        {
          "output_type": "stream",
          "name": "stderr",
          "text": [
            "\u001b[34m\u001b[1mwandb\u001b[0m: \u001b[33mWARNING\u001b[0m Config item 'optimizer' was locked by 'sweep' (ignored update).\n",
            "\u001b[34m\u001b[1mwandb\u001b[0m: \u001b[33mWARNING\u001b[0m Config item 'epochs' was locked by 'sweep' (ignored update).\n"
          ]
        },
        {
          "output_type": "stream",
          "name": "stdout",
          "text": [
            "Epoch 1/10\n",
            "----------\n",
            "✅ Model artifact 'resnet18_epoch1' logged to W&B\n",
            "Epoch 2/10\n",
            "----------\n",
            "✅ Model artifact 'resnet18_epoch2' logged to W&B\n",
            "Epoch 3/10\n",
            "----------\n",
            "✅ Model artifact 'resnet18_epoch3' logged to W&B\n",
            "Epoch 4/10\n",
            "----------\n",
            "✅ Model artifact 'resnet18_epoch4' logged to W&B\n",
            "Epoch 5/10\n",
            "----------\n",
            "✅ Model artifact 'resnet18_epoch5' logged to W&B\n",
            "Epoch 6/10\n",
            "----------\n",
            "✅ Model artifact 'resnet18_epoch6' logged to W&B\n",
            "Epoch 7/10\n",
            "----------\n",
            "✅ Model artifact 'resnet18_epoch7' logged to W&B\n",
            "Epoch 8/10\n",
            "----------\n",
            "✅ Model artifact 'resnet18_epoch8' logged to W&B\n",
            "Epoch 9/10\n",
            "----------\n",
            "✅ Model artifact 'resnet18_epoch9' logged to W&B\n",
            "Epoch 10/10\n",
            "----------\n",
            "✅ Model artifact 'resnet18_epoch10' logged to W&B\n",
            "Best test accuracy: 90.48%\n",
            "✅ Model artifact 'best_model_distinctive-sweep-8' logged to W&B\n"
          ]
        },
        {
          "output_type": "display_data",
          "data": {
            "text/plain": [
              "<IPython.core.display.HTML object>"
            ],
            "text/html": []
          },
          "metadata": {}
        },
        {
          "output_type": "display_data",
          "data": {
            "text/plain": [
              "<IPython.core.display.HTML object>"
            ],
            "text/html": [
              "<br>    <style><br>        .wandb-row {<br>            display: flex;<br>            flex-direction: row;<br>            flex-wrap: wrap;<br>            justify-content: flex-start;<br>            width: 100%;<br>        }<br>        .wandb-col {<br>            display: flex;<br>            flex-direction: column;<br>            flex-basis: 100%;<br>            flex: 1;<br>            padding: 10px;<br>        }<br>    </style><br><div class=\"wandb-row\"><div class=\"wandb-col\"><h3>Run history:</h3><br/><table class=\"wandb\"><tr><td>class_acc_0</td><td>█▇▄▅▆▁▄▅▅▅</td></tr><tr><td>class_acc_1</td><td>▅▁▅▃█▅▃▄▂▇</td></tr><tr><td>class_acc_10</td><td>▇▆▃▁█▆▃█▆▇</td></tr><tr><td>class_acc_11</td><td>▆▅▁█▇▃▃▃▃▅</td></tr><tr><td>class_acc_12</td><td>▁▇█▇▇█████</td></tr><tr><td>class_acc_13</td><td>▁█████████</td></tr><tr><td>class_acc_14</td><td>▇▅▁▄▆▃▆▇▇█</td></tr><tr><td>class_acc_2</td><td>▃▅▇▁▄█▆▃▅▁</td></tr><tr><td>class_acc_3</td><td>▅█▄▂▅▂▁█▁▄</td></tr><tr><td>class_acc_4</td><td>▁▃▄▄▇█▇▃▅▃</td></tr><tr><td>class_acc_5</td><td>▄█▄▃▂▄▁▃▅▂</td></tr><tr><td>class_acc_6</td><td>▁██▇█▇████</td></tr><tr><td>class_acc_7</td><td>▆▅▇█▁▇█▄▇▆</td></tr><tr><td>class_acc_8</td><td>▂▁▄█▁▂▁▄▄▅</td></tr><tr><td>class_acc_9</td><td>▅▄▁▂▇▆▅██▄</td></tr><tr><td>epoch</td><td>▁▂▃▃▄▅▆▆▇█</td></tr><tr><td>test_acc</td><td>▁██▇██████</td></tr><tr><td>test_f1_macro</td><td>▁█████████</td></tr><tr><td>test_loss</td><td>█▁▁▁▂▂▁▁▁▁</td></tr><tr><td>train_acc</td><td>▁█████████</td></tr><tr><td>train_f1_macro</td><td>▁█████████</td></tr><tr><td>train_loss</td><td>█▂▁▁▁▁▁▁▁▁</td></tr></table><br/></div><div class=\"wandb-col\"><h3>Run summary:</h3><br/><table class=\"wandb\"><tr><td>best_accuracy</td><td>90.48</td></tr><tr><td>best_epoch</td><td>9</td></tr><tr><td>best_f1_macro</td><td>0.90486</td></tr><tr><td>class_acc_0</td><td>85.2</td></tr><tr><td>class_acc_1</td><td>90</td></tr><tr><td>class_acc_10</td><td>95.6</td></tr><tr><td>class_acc_11</td><td>94.8</td></tr><tr><td>class_acc_12</td><td>93.2</td></tr><tr><td>class_acc_13</td><td>95.6</td></tr><tr><td>class_acc_14</td><td>89.6</td></tr><tr><td>class_acc_2</td><td>85.6</td></tr><tr><td>class_acc_3</td><td>88.8</td></tr><tr><td>class_acc_4</td><td>92.4</td></tr><tr><td>class_acc_5</td><td>91.6</td></tr><tr><td>class_acc_6</td><td>89.2</td></tr><tr><td>class_acc_7</td><td>76.4</td></tr><tr><td>class_acc_8</td><td>90</td></tr><tr><td>class_acc_9</td><td>93.6</td></tr><tr><td>epoch</td><td>10</td></tr><tr><td>test_acc</td><td>90.10667</td></tr><tr><td>test_f1_macro</td><td>0.9011</td></tr><tr><td>test_loss</td><td>0.8341</td></tr><tr><td>train_acc</td><td>99.96444</td></tr><tr><td>train_f1_macro</td><td>0.99964</td></tr><tr><td>train_loss</td><td>0.573</td></tr></table><br/></div></div>"
            ]
          },
          "metadata": {}
        },
        {
          "output_type": "display_data",
          "data": {
            "text/plain": [
              "<IPython.core.display.HTML object>"
            ],
            "text/html": [
              " View run <strong style=\"color:#cdcd00\">distinctive-sweep-8</strong> at: <a href='https://wandb.ai/usf-guardians/GoTG_Assignment05_TransferLearning/runs/vbqtp6wi' target=\"_blank\">https://wandb.ai/usf-guardians/GoTG_Assignment05_TransferLearning/runs/vbqtp6wi</a><br> View project at: <a href='https://wandb.ai/usf-guardians/GoTG_Assignment05_TransferLearning' target=\"_blank\">https://wandb.ai/usf-guardians/GoTG_Assignment05_TransferLearning</a><br>Synced 5 W&B file(s), 10 media file(s), 52 artifact file(s) and 0 other file(s)"
            ]
          },
          "metadata": {}
        },
        {
          "output_type": "display_data",
          "data": {
            "text/plain": [
              "<IPython.core.display.HTML object>"
            ],
            "text/html": [
              "Find logs at: <code>./wandb/run-20250321_193341-vbqtp6wi/logs</code>"
            ]
          },
          "metadata": {}
        },
        {
          "output_type": "stream",
          "name": "stderr",
          "text": [
            "\u001b[34m\u001b[1mwandb\u001b[0m: Agent Starting Run: gcb6q363 with config:\n",
            "\u001b[34m\u001b[1mwandb\u001b[0m: \tactivation: LeakyReLU\n",
            "\u001b[34m\u001b[1mwandb\u001b[0m: \tbatch_size: 32\n",
            "\u001b[34m\u001b[1mwandb\u001b[0m: \tepochs: 10\n",
            "\u001b[34m\u001b[1mwandb\u001b[0m: \tlabel_smoothing: 0.1\n",
            "\u001b[34m\u001b[1mwandb\u001b[0m: \tlearning_rate_fc: 0.001\n",
            "\u001b[34m\u001b[1mwandb\u001b[0m: \tlearning_rate_layer4: 0.0001\n",
            "\u001b[34m\u001b[1mwandb\u001b[0m: \toptimizer: SGD\n",
            "\u001b[34m\u001b[1mwandb\u001b[0m: \tweight_decay: 0.0005\n"
          ]
        },
        {
          "output_type": "display_data",
          "data": {
            "text/plain": [
              "<IPython.core.display.HTML object>"
            ],
            "text/html": [
              "Tracking run with wandb version 0.19.8"
            ]
          },
          "metadata": {}
        },
        {
          "output_type": "display_data",
          "data": {
            "text/plain": [
              "<IPython.core.display.HTML object>"
            ],
            "text/html": [
              "Run data is saved locally in <code>/content/wandb/run-20250321_194119-gcb6q363</code>"
            ]
          },
          "metadata": {}
        },
        {
          "output_type": "display_data",
          "data": {
            "text/plain": [
              "<IPython.core.display.HTML object>"
            ],
            "text/html": [
              "Syncing run <strong><a href='https://wandb.ai/usf-guardians/GoTG_Assignment05_TransferLearning/runs/gcb6q363' target=\"_blank\">rosy-sweep-9</a></strong> to <a href='https://wandb.ai/usf-guardians/GoTG_Assignment05_TransferLearning' target=\"_blank\">Weights & Biases</a> (<a href='https://wandb.me/developer-guide' target=\"_blank\">docs</a>)<br>Sweep page: <a href='https://wandb.ai/usf-guardians/GoTG_Assignment05_TransferLearning/sweeps/as5tljsj' target=\"_blank\">https://wandb.ai/usf-guardians/GoTG_Assignment05_TransferLearning/sweeps/as5tljsj</a>"
            ]
          },
          "metadata": {}
        },
        {
          "output_type": "display_data",
          "data": {
            "text/plain": [
              "<IPython.core.display.HTML object>"
            ],
            "text/html": [
              " View project at <a href='https://wandb.ai/usf-guardians/GoTG_Assignment05_TransferLearning' target=\"_blank\">https://wandb.ai/usf-guardians/GoTG_Assignment05_TransferLearning</a>"
            ]
          },
          "metadata": {}
        },
        {
          "output_type": "display_data",
          "data": {
            "text/plain": [
              "<IPython.core.display.HTML object>"
            ],
            "text/html": [
              " View sweep at <a href='https://wandb.ai/usf-guardians/GoTG_Assignment05_TransferLearning/sweeps/as5tljsj' target=\"_blank\">https://wandb.ai/usf-guardians/GoTG_Assignment05_TransferLearning/sweeps/as5tljsj</a>"
            ]
          },
          "metadata": {}
        },
        {
          "output_type": "display_data",
          "data": {
            "text/plain": [
              "<IPython.core.display.HTML object>"
            ],
            "text/html": [
              " View run at <a href='https://wandb.ai/usf-guardians/GoTG_Assignment05_TransferLearning/runs/gcb6q363' target=\"_blank\">https://wandb.ai/usf-guardians/GoTG_Assignment05_TransferLearning/runs/gcb6q363</a>"
            ]
          },
          "metadata": {}
        },
        {
          "output_type": "stream",
          "name": "stderr",
          "text": [
            "\u001b[34m\u001b[1mwandb\u001b[0m: \u001b[33mWARNING\u001b[0m Config item 'optimizer' was locked by 'sweep' (ignored update).\n",
            "\u001b[34m\u001b[1mwandb\u001b[0m: \u001b[33mWARNING\u001b[0m Config item 'epochs' was locked by 'sweep' (ignored update).\n"
          ]
        },
        {
          "output_type": "stream",
          "name": "stdout",
          "text": [
            "Epoch 1/10\n",
            "----------\n",
            "✅ Model artifact 'resnet18_epoch1' logged to W&B\n",
            "Epoch 2/10\n",
            "----------\n",
            "✅ Model artifact 'resnet18_epoch2' logged to W&B\n",
            "Epoch 3/10\n",
            "----------\n",
            "✅ Model artifact 'resnet18_epoch3' logged to W&B\n",
            "Epoch 4/10\n",
            "----------\n",
            "✅ Model artifact 'resnet18_epoch4' logged to W&B\n",
            "Epoch 5/10\n",
            "----------\n",
            "✅ Model artifact 'resnet18_epoch5' logged to W&B\n",
            "Epoch 6/10\n",
            "----------\n",
            "✅ Model artifact 'resnet18_epoch6' logged to W&B\n",
            "Epoch 7/10\n",
            "----------\n",
            "✅ Model artifact 'resnet18_epoch7' logged to W&B\n",
            "Epoch 8/10\n",
            "----------\n",
            "✅ Model artifact 'resnet18_epoch8' logged to W&B\n",
            "Epoch 9/10\n",
            "----------\n",
            "✅ Model artifact 'resnet18_epoch9' logged to W&B\n",
            "Epoch 10/10\n",
            "----------\n",
            "✅ Model artifact 'resnet18_epoch10' logged to W&B\n",
            "Best test accuracy: 91.52%\n",
            "✅ Model artifact 'best_model_rosy-sweep-9' logged to W&B\n"
          ]
        },
        {
          "output_type": "display_data",
          "data": {
            "text/plain": [
              "<IPython.core.display.HTML object>"
            ],
            "text/html": []
          },
          "metadata": {}
        },
        {
          "output_type": "display_data",
          "data": {
            "text/plain": [
              "<IPython.core.display.HTML object>"
            ],
            "text/html": [
              "<br>    <style><br>        .wandb-row {<br>            display: flex;<br>            flex-direction: row;<br>            flex-wrap: wrap;<br>            justify-content: flex-start;<br>            width: 100%;<br>        }<br>        .wandb-col {<br>            display: flex;<br>            flex-direction: column;<br>            flex-basis: 100%;<br>            flex: 1;<br>            padding: 10px;<br>        }<br>    </style><br><div class=\"wandb-row\"><div class=\"wandb-col\"><h3>Run history:</h3><br/><table class=\"wandb\"><tr><td>class_acc_0</td><td>▁█████████</td></tr><tr><td>class_acc_1</td><td>▆▃▅▁▄█▁▆▅▇</td></tr><tr><td>class_acc_10</td><td>▄▁▃▂▂▂▃▄█▄</td></tr><tr><td>class_acc_11</td><td>▁█████████</td></tr><tr><td>class_acc_12</td><td>█▄▄▄▄▁▂▃▄▄</td></tr><tr><td>class_acc_13</td><td>▁█████████</td></tr><tr><td>class_acc_14</td><td>▇▄▅▅▁▂▁▂▆█</td></tr><tr><td>class_acc_2</td><td>█▆▄▄▇▁▇█▆▆</td></tr><tr><td>class_acc_3</td><td>▁█████████</td></tr><tr><td>class_acc_4</td><td>█▁▃▃▄▄▃▆▄▆</td></tr><tr><td>class_acc_5</td><td>▁█████████</td></tr><tr><td>class_acc_6</td><td>▁█████████</td></tr><tr><td>class_acc_7</td><td>█▁▂▃▂▂▅▂▃▃</td></tr><tr><td>class_acc_8</td><td>█▅▄▅▇▂▇▇█▁</td></tr><tr><td>class_acc_9</td><td>█▁▆▇█▅█▄▂▆</td></tr><tr><td>epoch</td><td>▁▂▃▃▄▅▆▆▇█</td></tr><tr><td>test_acc</td><td>▁█████████</td></tr><tr><td>test_f1_macro</td><td>▁█████████</td></tr><tr><td>test_loss</td><td>█▂▁▁▁▁▁▁▁▁</td></tr><tr><td>train_acc</td><td>▁▇████████</td></tr><tr><td>train_f1_macro</td><td>▁▇████████</td></tr><tr><td>train_loss</td><td>█▃▁▁▁▁▁▁▁▁</td></tr></table><br/></div><div class=\"wandb-col\"><h3>Run summary:</h3><br/><table class=\"wandb\"><tr><td>best_accuracy</td><td>91.52</td></tr><tr><td>best_epoch</td><td>9</td></tr><tr><td>best_f1_macro</td><td>0.915</td></tr><tr><td>class_acc_0</td><td>88</td></tr><tr><td>class_acc_1</td><td>88.8</td></tr><tr><td>class_acc_10</td><td>93.6</td></tr><tr><td>class_acc_11</td><td>96</td></tr><tr><td>class_acc_12</td><td>94</td></tr><tr><td>class_acc_13</td><td>95.2</td></tr><tr><td>class_acc_14</td><td>92</td></tr><tr><td>class_acc_2</td><td>90</td></tr><tr><td>class_acc_3</td><td>92</td></tr><tr><td>class_acc_4</td><td>93.6</td></tr><tr><td>class_acc_5</td><td>95.6</td></tr><tr><td>class_acc_6</td><td>92.4</td></tr><tr><td>class_acc_7</td><td>78</td></tr><tr><td>class_acc_8</td><td>87.2</td></tr><tr><td>class_acc_9</td><td>96</td></tr><tr><td>epoch</td><td>10</td></tr><tr><td>test_acc</td><td>91.49333</td></tr><tr><td>test_f1_macro</td><td>0.9147</td></tr><tr><td>test_loss</td><td>0.85186</td></tr><tr><td>train_acc</td><td>100</td></tr><tr><td>train_f1_macro</td><td>1</td></tr><tr><td>train_loss</td><td>0.5913</td></tr></table><br/></div></div>"
            ]
          },
          "metadata": {}
        },
        {
          "output_type": "display_data",
          "data": {
            "text/plain": [
              "<IPython.core.display.HTML object>"
            ],
            "text/html": [
              " View run <strong style=\"color:#cdcd00\">rosy-sweep-9</strong> at: <a href='https://wandb.ai/usf-guardians/GoTG_Assignment05_TransferLearning/runs/gcb6q363' target=\"_blank\">https://wandb.ai/usf-guardians/GoTG_Assignment05_TransferLearning/runs/gcb6q363</a><br> View project at: <a href='https://wandb.ai/usf-guardians/GoTG_Assignment05_TransferLearning' target=\"_blank\">https://wandb.ai/usf-guardians/GoTG_Assignment05_TransferLearning</a><br>Synced 5 W&B file(s), 10 media file(s), 52 artifact file(s) and 0 other file(s)"
            ]
          },
          "metadata": {}
        },
        {
          "output_type": "display_data",
          "data": {
            "text/plain": [
              "<IPython.core.display.HTML object>"
            ],
            "text/html": [
              "Find logs at: <code>./wandb/run-20250321_194119-gcb6q363/logs</code>"
            ]
          },
          "metadata": {}
        },
        {
          "output_type": "stream",
          "name": "stderr",
          "text": [
            "\u001b[34m\u001b[1mwandb\u001b[0m: Sweep Agent: Waiting for job.\n",
            "\u001b[34m\u001b[1mwandb\u001b[0m: Job received.\n",
            "\u001b[34m\u001b[1mwandb\u001b[0m: Agent Starting Run: p7bjegvo with config:\n",
            "\u001b[34m\u001b[1mwandb\u001b[0m: \tactivation: ReLU\n",
            "\u001b[34m\u001b[1mwandb\u001b[0m: \tbatch_size: 32\n",
            "\u001b[34m\u001b[1mwandb\u001b[0m: \tepochs: 10\n",
            "\u001b[34m\u001b[1mwandb\u001b[0m: \tlabel_smoothing: 0.1\n",
            "\u001b[34m\u001b[1mwandb\u001b[0m: \tlearning_rate_fc: 0.0005\n",
            "\u001b[34m\u001b[1mwandb\u001b[0m: \tlearning_rate_layer4: 0.0001\n",
            "\u001b[34m\u001b[1mwandb\u001b[0m: \toptimizer: RMSprop\n",
            "\u001b[34m\u001b[1mwandb\u001b[0m: \tweight_decay: 0.0005\n"
          ]
        },
        {
          "output_type": "display_data",
          "data": {
            "text/plain": [
              "<IPython.core.display.HTML object>"
            ],
            "text/html": [
              "Tracking run with wandb version 0.19.8"
            ]
          },
          "metadata": {}
        },
        {
          "output_type": "display_data",
          "data": {
            "text/plain": [
              "<IPython.core.display.HTML object>"
            ],
            "text/html": [
              "Run data is saved locally in <code>/content/wandb/run-20250321_194901-p7bjegvo</code>"
            ]
          },
          "metadata": {}
        },
        {
          "output_type": "display_data",
          "data": {
            "text/plain": [
              "<IPython.core.display.HTML object>"
            ],
            "text/html": [
              "Syncing run <strong><a href='https://wandb.ai/usf-guardians/GoTG_Assignment05_TransferLearning/runs/p7bjegvo' target=\"_blank\">whole-sweep-10</a></strong> to <a href='https://wandb.ai/usf-guardians/GoTG_Assignment05_TransferLearning' target=\"_blank\">Weights & Biases</a> (<a href='https://wandb.me/developer-guide' target=\"_blank\">docs</a>)<br>Sweep page: <a href='https://wandb.ai/usf-guardians/GoTG_Assignment05_TransferLearning/sweeps/as5tljsj' target=\"_blank\">https://wandb.ai/usf-guardians/GoTG_Assignment05_TransferLearning/sweeps/as5tljsj</a>"
            ]
          },
          "metadata": {}
        },
        {
          "output_type": "display_data",
          "data": {
            "text/plain": [
              "<IPython.core.display.HTML object>"
            ],
            "text/html": [
              " View project at <a href='https://wandb.ai/usf-guardians/GoTG_Assignment05_TransferLearning' target=\"_blank\">https://wandb.ai/usf-guardians/GoTG_Assignment05_TransferLearning</a>"
            ]
          },
          "metadata": {}
        },
        {
          "output_type": "display_data",
          "data": {
            "text/plain": [
              "<IPython.core.display.HTML object>"
            ],
            "text/html": [
              " View sweep at <a href='https://wandb.ai/usf-guardians/GoTG_Assignment05_TransferLearning/sweeps/as5tljsj' target=\"_blank\">https://wandb.ai/usf-guardians/GoTG_Assignment05_TransferLearning/sweeps/as5tljsj</a>"
            ]
          },
          "metadata": {}
        },
        {
          "output_type": "display_data",
          "data": {
            "text/plain": [
              "<IPython.core.display.HTML object>"
            ],
            "text/html": [
              " View run at <a href='https://wandb.ai/usf-guardians/GoTG_Assignment05_TransferLearning/runs/p7bjegvo' target=\"_blank\">https://wandb.ai/usf-guardians/GoTG_Assignment05_TransferLearning/runs/p7bjegvo</a>"
            ]
          },
          "metadata": {}
        },
        {
          "output_type": "stream",
          "name": "stderr",
          "text": [
            "\u001b[34m\u001b[1mwandb\u001b[0m: \u001b[33mWARNING\u001b[0m Config item 'optimizer' was locked by 'sweep' (ignored update).\n",
            "\u001b[34m\u001b[1mwandb\u001b[0m: \u001b[33mWARNING\u001b[0m Config item 'epochs' was locked by 'sweep' (ignored update).\n"
          ]
        },
        {
          "output_type": "stream",
          "name": "stdout",
          "text": [
            "Epoch 1/10\n",
            "----------\n",
            "✅ Model artifact 'resnet18_epoch1' logged to W&B\n",
            "Epoch 2/10\n",
            "----------\n",
            "✅ Model artifact 'resnet18_epoch2' logged to W&B\n",
            "Epoch 3/10\n",
            "----------\n",
            "✅ Model artifact 'resnet18_epoch3' logged to W&B\n",
            "Epoch 4/10\n",
            "----------\n",
            "✅ Model artifact 'resnet18_epoch4' logged to W&B\n",
            "Epoch 5/10\n",
            "----------\n",
            "✅ Model artifact 'resnet18_epoch5' logged to W&B\n",
            "Epoch 6/10\n",
            "----------\n",
            "✅ Model artifact 'resnet18_epoch6' logged to W&B\n",
            "Epoch 7/10\n",
            "----------\n",
            "✅ Model artifact 'resnet18_epoch7' logged to W&B\n",
            "Epoch 8/10\n",
            "----------\n",
            "✅ Model artifact 'resnet18_epoch8' logged to W&B\n",
            "Epoch 9/10\n",
            "----------\n",
            "✅ Model artifact 'resnet18_epoch9' logged to W&B\n",
            "Epoch 10/10\n",
            "----------\n",
            "✅ Model artifact 'resnet18_epoch10' logged to W&B\n",
            "Best test accuracy: 90.32%\n",
            "✅ Model artifact 'best_model_whole-sweep-10' logged to W&B\n"
          ]
        },
        {
          "output_type": "display_data",
          "data": {
            "text/plain": [
              "<IPython.core.display.HTML object>"
            ],
            "text/html": []
          },
          "metadata": {}
        },
        {
          "output_type": "display_data",
          "data": {
            "text/plain": [
              "<IPython.core.display.HTML object>"
            ],
            "text/html": [
              "<br>    <style><br>        .wandb-row {<br>            display: flex;<br>            flex-direction: row;<br>            flex-wrap: wrap;<br>            justify-content: flex-start;<br>            width: 100%;<br>        }<br>        .wandb-col {<br>            display: flex;<br>            flex-direction: column;<br>            flex-basis: 100%;<br>            flex: 1;<br>            padding: 10px;<br>        }<br>    </style><br><div class=\"wandb-row\"><div class=\"wandb-col\"><h3>Run history:</h3><br/><table class=\"wandb\"><tr><td>class_acc_0</td><td>█▅▅▅▅▄▆▃▆▁</td></tr><tr><td>class_acc_1</td><td>▃▃▂▆▆▁▂▃▆█</td></tr><tr><td>class_acc_10</td><td>▁▇████████</td></tr><tr><td>class_acc_11</td><td>▁██▇██████</td></tr><tr><td>class_acc_12</td><td>▁█████████</td></tr><tr><td>class_acc_13</td><td>█▁▅▃▆▂▅▄▄▆</td></tr><tr><td>class_acc_14</td><td>▇▇█▄▅▃▇▃▁▃</td></tr><tr><td>class_acc_2</td><td>▄▃▁▇▅▅▄█▆▇</td></tr><tr><td>class_acc_3</td><td>██▃▇▇▄▆▁▆▄</td></tr><tr><td>class_acc_4</td><td>▆▁▅█▆▃▆██▇</td></tr><tr><td>class_acc_5</td><td>▁▇████████</td></tr><tr><td>class_acc_6</td><td>▁█▇▇████▇▇</td></tr><tr><td>class_acc_7</td><td>▅▁▅▅▄▄▁█▂▂</td></tr><tr><td>class_acc_8</td><td>▅█▂▅▇▇▄▁▅▄</td></tr><tr><td>class_acc_9</td><td>▁▇████████</td></tr><tr><td>epoch</td><td>▁▂▃▃▄▅▆▆▇█</td></tr><tr><td>test_acc</td><td>▁█▇███████</td></tr><tr><td>test_f1_macro</td><td>▁█████████</td></tr><tr><td>test_loss</td><td>█▂▂▁▁▁▁▁▁▁</td></tr><tr><td>train_acc</td><td>▁█████████</td></tr><tr><td>train_f1_macro</td><td>▁█████████</td></tr><tr><td>train_loss</td><td>█▁▁▁▁▁▁▁▁▁</td></tr></table><br/></div><div class=\"wandb-col\"><h3>Run summary:</h3><br/><table class=\"wandb\"><tr><td>best_accuracy</td><td>90.32</td></tr><tr><td>best_epoch</td><td>5</td></tr><tr><td>best_f1_macro</td><td>0.90338</td></tr><tr><td>class_acc_0</td><td>74.4</td></tr><tr><td>class_acc_1</td><td>89.6</td></tr><tr><td>class_acc_10</td><td>97.6</td></tr><tr><td>class_acc_11</td><td>94.4</td></tr><tr><td>class_acc_12</td><td>96</td></tr><tr><td>class_acc_13</td><td>96</td></tr><tr><td>class_acc_14</td><td>81.6</td></tr><tr><td>class_acc_2</td><td>93.6</td></tr><tr><td>class_acc_3</td><td>82</td></tr><tr><td>class_acc_4</td><td>93.6</td></tr><tr><td>class_acc_5</td><td>95.2</td></tr><tr><td>class_acc_6</td><td>85.2</td></tr><tr><td>class_acc_7</td><td>74.8</td></tr><tr><td>class_acc_8</td><td>84</td></tr><tr><td>class_acc_9</td><td>92.8</td></tr><tr><td>epoch</td><td>10</td></tr><tr><td>test_acc</td><td>88.72</td></tr><tr><td>test_f1_macro</td><td>0.88619</td></tr><tr><td>test_loss</td><td>0.87498</td></tr><tr><td>train_acc</td><td>99.97333</td></tr><tr><td>train_f1_macro</td><td>0.99973</td></tr><tr><td>train_loss</td><td>0.58046</td></tr></table><br/></div></div>"
            ]
          },
          "metadata": {}
        },
        {
          "output_type": "display_data",
          "data": {
            "text/plain": [
              "<IPython.core.display.HTML object>"
            ],
            "text/html": [
              " View run <strong style=\"color:#cdcd00\">whole-sweep-10</strong> at: <a href='https://wandb.ai/usf-guardians/GoTG_Assignment05_TransferLearning/runs/p7bjegvo' target=\"_blank\">https://wandb.ai/usf-guardians/GoTG_Assignment05_TransferLearning/runs/p7bjegvo</a><br> View project at: <a href='https://wandb.ai/usf-guardians/GoTG_Assignment05_TransferLearning' target=\"_blank\">https://wandb.ai/usf-guardians/GoTG_Assignment05_TransferLearning</a><br>Synced 5 W&B file(s), 10 media file(s), 50 artifact file(s) and 0 other file(s)"
            ]
          },
          "metadata": {}
        },
        {
          "output_type": "display_data",
          "data": {
            "text/plain": [
              "<IPython.core.display.HTML object>"
            ],
            "text/html": [
              "Find logs at: <code>./wandb/run-20250321_194901-p7bjegvo/logs</code>"
            ]
          },
          "metadata": {}
        }
      ]
    },
    {
      "cell_type": "markdown",
      "source": [
        "## 🔹 Summary of Experimentation and Logging\n",
        "\n",
        "In this project, we systematically conducted **feature extraction, fine-tuning, and hyperparameter sweeps** on ResNet-18 using a **15-class subset** of the Food-101 dataset. We implemented structured **experiment tracking** with Weights & Biases (W&B), ensuring that all runs were **fully reproducible and comparable**.\n",
        "\n",
        "### ✅ **Key Implementations**\n",
        "- **Feature Extraction & Fine-Tuning:** Trained ResNet-18 with **frozen layers**, then fine-tuned **layer4 and fc** with different learning rates.\n",
        "- **Hyperparameter Sweeps:** Used W&B sweeps to **test multiple learning rates, optimizers, batch sizes, weight decay values, and activation functions**.\n",
        "- **Logging & Tracking:** Logged dataset details, model configurations, training hyperparameters, **per-epoch metrics**, and confusion matrices.\n",
        "- **Model Artifacts:** Saved **checkpoints every epoch**, logged the **best model separately**, and tracked **fine-tuning and sweep results** for easy retrieval.\n",
        "\n",
        "This structured approach ensured **efficient experiment tracking, model reproducibility, and insights into different training strategies**. 🚀\n"
      ],
      "metadata": {
        "id": "pIm0wNU5tqHa"
      }
    }
  ]
}